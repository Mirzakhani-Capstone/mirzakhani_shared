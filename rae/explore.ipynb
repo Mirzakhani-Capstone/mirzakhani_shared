{
 "cells": [
  {
   "cell_type": "code",
   "execution_count": 1,
   "id": "fd55862b",
   "metadata": {},
   "outputs": [],
   "source": [
    "%matplotlib inline\n",
    "import matplotlib.pyplot as plt\n",
    "from matplotlib.colors import ListedColormap\n",
    "from scipy.stats import levene, ttest_ind\n",
    "from sklearn.ensemble import RandomForestClassifier\n",
    "from sklearn.impute import SimpleImputer\n",
    "from sklearn.linear_model import LogisticRegression\n",
    "from sklearn.metrics import classification_report, confusion_matrix, ConfusionMatrixDisplay, plot_confusion_matrix\n",
    "from sklearn.model_selection import train_test_split\n",
    "from sklearn.neighbors import KNeighborsClassifier\n",
    "from sklearn.preprocessing import MinMaxScaler\n",
    "from sklearn.tree import DecisionTreeClassifier, plot_tree, export_text\n",
    "import math\n",
    "from scipy import stats\n",
    "import numpy as np\n",
    "import os\n",
    "import pandas as pd\n",
    "import requests\n",
    "import seaborn as sns\n",
    "import statsmodels.api as sm\n",
    "import warnings\n",
    "import wrangle as w\n",
    "import re\n",
    "warnings.filterwarnings(\"ignore\")"
   ]
  },
  {
   "cell_type": "code",
   "execution_count": 2,
   "id": "9309d69c",
   "metadata": {},
   "outputs": [],
   "source": [
    "sns.set(rc={'figure.figsize':(16,9)})"
   ]
  },
  {
   "cell_type": "code",
   "execution_count": 3,
   "id": "dbd50c3a",
   "metadata": {},
   "outputs": [],
   "source": [
    "df=w.get_explore_data()"
   ]
  },
  {
   "cell_type": "code",
   "execution_count": 4,
   "id": "cc8854bd",
   "metadata": {},
   "outputs": [],
   "source": [
    "df=w. prep_data(df, features=w.features)"
   ]
  },
  {
   "cell_type": "code",
   "execution_count": 5,
   "id": "2fe23ea7",
   "metadata": {},
   "outputs": [],
   "source": [
    "df=w.rename_data(df)"
   ]
  },
  {
   "cell_type": "code",
   "execution_count": 6,
   "id": "45b5b752",
   "metadata": {},
   "outputs": [
    {
     "data": {
      "text/html": [
       "<div>\n",
       "<style scoped>\n",
       "    .dataframe tbody tr th:only-of-type {\n",
       "        vertical-align: middle;\n",
       "    }\n",
       "\n",
       "    .dataframe tbody tr th {\n",
       "        vertical-align: top;\n",
       "    }\n",
       "\n",
       "    .dataframe thead th {\n",
       "        text-align: right;\n",
       "    }\n",
       "</style>\n",
       "<table border=\"1\" class=\"dataframe\">\n",
       "  <thead>\n",
       "    <tr style=\"text-align: right;\">\n",
       "      <th></th>\n",
       "      <th>region</th>\n",
       "      <th>elevation</th>\n",
       "      <th>lat</th>\n",
       "      <th>lon</th>\n",
       "      <th>startdate</th>\n",
       "      <th>potential_evap</th>\n",
       "      <th>precip</th>\n",
       "      <th>barometric_pressure</th>\n",
       "      <th>all_atmos_precip</th>\n",
       "      <th>relative_humidity</th>\n",
       "      <th>sea_level_press</th>\n",
       "      <th>mean_temp</th>\n",
       "      <th>height_10_mb</th>\n",
       "      <th>height_100_mb</th>\n",
       "      <th>height_500_mb</th>\n",
       "      <th>height_850_mb</th>\n",
       "      <th>zonal_wind_250mb</th>\n",
       "      <th>zonal_wind_925mb</th>\n",
       "      <th>long_wind_250mb</th>\n",
       "      <th>long_wind_925mb</th>\n",
       "    </tr>\n",
       "  </thead>\n",
       "  <tbody>\n",
       "    <tr>\n",
       "      <th>0</th>\n",
       "      <td>BSh</td>\n",
       "      <td>200</td>\n",
       "      <td>0.0</td>\n",
       "      <td>0.833333</td>\n",
       "      <td>2014-09-01</td>\n",
       "      <td>237.00</td>\n",
       "      <td>94.31</td>\n",
       "      <td>98644.97</td>\n",
       "      <td>42.45</td>\n",
       "      <td>81.72</td>\n",
       "      <td>101352.08</td>\n",
       "      <td>28.744480</td>\n",
       "      <td>31246.63</td>\n",
       "      <td>16666.81</td>\n",
       "      <td>5899.66</td>\n",
       "      <td>1535.52</td>\n",
       "      <td>-2.56</td>\n",
       "      <td>-5.22</td>\n",
       "      <td>-3.52</td>\n",
       "      <td>4.41</td>\n",
       "    </tr>\n",
       "    <tr>\n",
       "      <th>1</th>\n",
       "      <td>BSh</td>\n",
       "      <td>200</td>\n",
       "      <td>0.0</td>\n",
       "      <td>0.833333</td>\n",
       "      <td>2014-09-02</td>\n",
       "      <td>228.90</td>\n",
       "      <td>100.85</td>\n",
       "      <td>98686.80</td>\n",
       "      <td>42.66</td>\n",
       "      <td>82.56</td>\n",
       "      <td>101396.02</td>\n",
       "      <td>28.370585</td>\n",
       "      <td>31244.78</td>\n",
       "      <td>16667.31</td>\n",
       "      <td>5901.03</td>\n",
       "      <td>1538.00</td>\n",
       "      <td>-2.39</td>\n",
       "      <td>-5.20</td>\n",
       "      <td>-4.49</td>\n",
       "      <td>3.74</td>\n",
       "    </tr>\n",
       "    <tr>\n",
       "      <th>2</th>\n",
       "      <td>BSh</td>\n",
       "      <td>200</td>\n",
       "      <td>0.0</td>\n",
       "      <td>0.833333</td>\n",
       "      <td>2014-09-03</td>\n",
       "      <td>220.69</td>\n",
       "      <td>101.25</td>\n",
       "      <td>98712.85</td>\n",
       "      <td>43.23</td>\n",
       "      <td>83.29</td>\n",
       "      <td>101429.25</td>\n",
       "      <td>28.133059</td>\n",
       "      <td>31239.27</td>\n",
       "      <td>16668.39</td>\n",
       "      <td>5902.18</td>\n",
       "      <td>1540.32</td>\n",
       "      <td>-2.76</td>\n",
       "      <td>-5.00</td>\n",
       "      <td>-5.44</td>\n",
       "      <td>3.40</td>\n",
       "    </tr>\n",
       "    <tr>\n",
       "      <th>3</th>\n",
       "      <td>BSh</td>\n",
       "      <td>200</td>\n",
       "      <td>0.0</td>\n",
       "      <td>0.833333</td>\n",
       "      <td>2014-09-04</td>\n",
       "      <td>225.28</td>\n",
       "      <td>101.90</td>\n",
       "      <td>98711.70</td>\n",
       "      <td>43.11</td>\n",
       "      <td>83.26</td>\n",
       "      <td>101440.85</td>\n",
       "      <td>28.256798</td>\n",
       "      <td>31232.86</td>\n",
       "      <td>16667.39</td>\n",
       "      <td>5903.07</td>\n",
       "      <td>1541.10</td>\n",
       "      <td>-3.00</td>\n",
       "      <td>-4.61</td>\n",
       "      <td>-5.76</td>\n",
       "      <td>3.29</td>\n",
       "    </tr>\n",
       "    <tr>\n",
       "      <th>4</th>\n",
       "      <td>BSh</td>\n",
       "      <td>200</td>\n",
       "      <td>0.0</td>\n",
       "      <td>0.833333</td>\n",
       "      <td>2014-09-05</td>\n",
       "      <td>237.24</td>\n",
       "      <td>82.95</td>\n",
       "      <td>98686.46</td>\n",
       "      <td>42.98</td>\n",
       "      <td>82.50</td>\n",
       "      <td>101419.53</td>\n",
       "      <td>28.372353</td>\n",
       "      <td>31226.16</td>\n",
       "      <td>16665.65</td>\n",
       "      <td>5903.36</td>\n",
       "      <td>1539.73</td>\n",
       "      <td>-3.40</td>\n",
       "      <td>-4.25</td>\n",
       "      <td>-6.09</td>\n",
       "      <td>3.27</td>\n",
       "    </tr>\n",
       "    <tr>\n",
       "      <th>...</th>\n",
       "      <td>...</td>\n",
       "      <td>...</td>\n",
       "      <td>...</td>\n",
       "      <td>...</td>\n",
       "      <td>...</td>\n",
       "      <td>...</td>\n",
       "      <td>...</td>\n",
       "      <td>...</td>\n",
       "      <td>...</td>\n",
       "      <td>...</td>\n",
       "      <td>...</td>\n",
       "      <td>...</td>\n",
       "      <td>...</td>\n",
       "      <td>...</td>\n",
       "      <td>...</td>\n",
       "      <td>...</td>\n",
       "      <td>...</td>\n",
       "      <td>...</td>\n",
       "      <td>...</td>\n",
       "      <td>...</td>\n",
       "    </tr>\n",
       "    <tr>\n",
       "      <th>375729</th>\n",
       "      <td>Dfb</td>\n",
       "      <td>100</td>\n",
       "      <td>1.0</td>\n",
       "      <td>0.866667</td>\n",
       "      <td>2016-08-27</td>\n",
       "      <td>312.05</td>\n",
       "      <td>57.45</td>\n",
       "      <td>97613.96</td>\n",
       "      <td>24.32</td>\n",
       "      <td>70.25</td>\n",
       "      <td>101373.91</td>\n",
       "      <td>17.150954</td>\n",
       "      <td>31484.23</td>\n",
       "      <td>16540.22</td>\n",
       "      <td>5763.23</td>\n",
       "      <td>1501.92</td>\n",
       "      <td>23.20</td>\n",
       "      <td>1.32</td>\n",
       "      <td>9.59</td>\n",
       "      <td>2.96</td>\n",
       "    </tr>\n",
       "    <tr>\n",
       "      <th>375730</th>\n",
       "      <td>Dfb</td>\n",
       "      <td>100</td>\n",
       "      <td>1.0</td>\n",
       "      <td>0.866667</td>\n",
       "      <td>2016-08-28</td>\n",
       "      <td>305.82</td>\n",
       "      <td>53.53</td>\n",
       "      <td>97631.29</td>\n",
       "      <td>23.92</td>\n",
       "      <td>71.08</td>\n",
       "      <td>101397.77</td>\n",
       "      <td>16.962051</td>\n",
       "      <td>31476.67</td>\n",
       "      <td>16534.71</td>\n",
       "      <td>5760.19</td>\n",
       "      <td>1502.70</td>\n",
       "      <td>23.18</td>\n",
       "      <td>1.40</td>\n",
       "      <td>7.14</td>\n",
       "      <td>2.30</td>\n",
       "    </tr>\n",
       "    <tr>\n",
       "      <th>375731</th>\n",
       "      <td>Dfb</td>\n",
       "      <td>100</td>\n",
       "      <td>1.0</td>\n",
       "      <td>0.866667</td>\n",
       "      <td>2016-08-29</td>\n",
       "      <td>311.62</td>\n",
       "      <td>52.12</td>\n",
       "      <td>97588.69</td>\n",
       "      <td>23.94</td>\n",
       "      <td>69.74</td>\n",
       "      <td>101368.67</td>\n",
       "      <td>16.915474</td>\n",
       "      <td>31464.71</td>\n",
       "      <td>16526.98</td>\n",
       "      <td>5754.76</td>\n",
       "      <td>1499.57</td>\n",
       "      <td>24.49</td>\n",
       "      <td>1.75</td>\n",
       "      <td>7.05</td>\n",
       "      <td>2.19</td>\n",
       "    </tr>\n",
       "    <tr>\n",
       "      <th>375732</th>\n",
       "      <td>Dfb</td>\n",
       "      <td>100</td>\n",
       "      <td>1.0</td>\n",
       "      <td>0.866667</td>\n",
       "      <td>2016-08-30</td>\n",
       "      <td>304.54</td>\n",
       "      <td>51.73</td>\n",
       "      <td>97538.62</td>\n",
       "      <td>23.61</td>\n",
       "      <td>69.71</td>\n",
       "      <td>101321.24</td>\n",
       "      <td>16.536761</td>\n",
       "      <td>31448.83</td>\n",
       "      <td>16512.39</td>\n",
       "      <td>5742.21</td>\n",
       "      <td>1493.14</td>\n",
       "      <td>25.80</td>\n",
       "      <td>1.84</td>\n",
       "      <td>7.74</td>\n",
       "      <td>1.88</td>\n",
       "    </tr>\n",
       "    <tr>\n",
       "      <th>375733</th>\n",
       "      <td>Dfb</td>\n",
       "      <td>100</td>\n",
       "      <td>1.0</td>\n",
       "      <td>0.866667</td>\n",
       "      <td>2016-08-31</td>\n",
       "      <td>295.29</td>\n",
       "      <td>51.83</td>\n",
       "      <td>97536.84</td>\n",
       "      <td>23.41</td>\n",
       "      <td>71.66</td>\n",
       "      <td>101323.84</td>\n",
       "      <td>15.910995</td>\n",
       "      <td>31434.76</td>\n",
       "      <td>16496.42</td>\n",
       "      <td>5726.45</td>\n",
       "      <td>1489.03</td>\n",
       "      <td>26.62</td>\n",
       "      <td>2.07</td>\n",
       "      <td>8.29</td>\n",
       "      <td>1.66</td>\n",
       "    </tr>\n",
       "  </tbody>\n",
       "</table>\n",
       "<p>375734 rows × 20 columns</p>\n",
       "</div>"
      ],
      "text/plain": [
       "       region  elevation  lat       lon  startdate  potential_evap  precip  \\\n",
       "0         BSh        200  0.0  0.833333 2014-09-01          237.00   94.31   \n",
       "1         BSh        200  0.0  0.833333 2014-09-02          228.90  100.85   \n",
       "2         BSh        200  0.0  0.833333 2014-09-03          220.69  101.25   \n",
       "3         BSh        200  0.0  0.833333 2014-09-04          225.28  101.90   \n",
       "4         BSh        200  0.0  0.833333 2014-09-05          237.24   82.95   \n",
       "...       ...        ...  ...       ...        ...             ...     ...   \n",
       "375729    Dfb        100  1.0  0.866667 2016-08-27          312.05   57.45   \n",
       "375730    Dfb        100  1.0  0.866667 2016-08-28          305.82   53.53   \n",
       "375731    Dfb        100  1.0  0.866667 2016-08-29          311.62   52.12   \n",
       "375732    Dfb        100  1.0  0.866667 2016-08-30          304.54   51.73   \n",
       "375733    Dfb        100  1.0  0.866667 2016-08-31          295.29   51.83   \n",
       "\n",
       "        barometric_pressure  all_atmos_precip  relative_humidity  \\\n",
       "0                  98644.97             42.45              81.72   \n",
       "1                  98686.80             42.66              82.56   \n",
       "2                  98712.85             43.23              83.29   \n",
       "3                  98711.70             43.11              83.26   \n",
       "4                  98686.46             42.98              82.50   \n",
       "...                     ...               ...                ...   \n",
       "375729             97613.96             24.32              70.25   \n",
       "375730             97631.29             23.92              71.08   \n",
       "375731             97588.69             23.94              69.74   \n",
       "375732             97538.62             23.61              69.71   \n",
       "375733             97536.84             23.41              71.66   \n",
       "\n",
       "        sea_level_press  mean_temp  height_10_mb  height_100_mb  \\\n",
       "0             101352.08  28.744480      31246.63       16666.81   \n",
       "1             101396.02  28.370585      31244.78       16667.31   \n",
       "2             101429.25  28.133059      31239.27       16668.39   \n",
       "3             101440.85  28.256798      31232.86       16667.39   \n",
       "4             101419.53  28.372353      31226.16       16665.65   \n",
       "...                 ...        ...           ...            ...   \n",
       "375729        101373.91  17.150954      31484.23       16540.22   \n",
       "375730        101397.77  16.962051      31476.67       16534.71   \n",
       "375731        101368.67  16.915474      31464.71       16526.98   \n",
       "375732        101321.24  16.536761      31448.83       16512.39   \n",
       "375733        101323.84  15.910995      31434.76       16496.42   \n",
       "\n",
       "        height_500_mb  height_850_mb  zonal_wind_250mb  zonal_wind_925mb  \\\n",
       "0             5899.66        1535.52             -2.56             -5.22   \n",
       "1             5901.03        1538.00             -2.39             -5.20   \n",
       "2             5902.18        1540.32             -2.76             -5.00   \n",
       "3             5903.07        1541.10             -3.00             -4.61   \n",
       "4             5903.36        1539.73             -3.40             -4.25   \n",
       "...               ...            ...               ...               ...   \n",
       "375729        5763.23        1501.92             23.20              1.32   \n",
       "375730        5760.19        1502.70             23.18              1.40   \n",
       "375731        5754.76        1499.57             24.49              1.75   \n",
       "375732        5742.21        1493.14             25.80              1.84   \n",
       "375733        5726.45        1489.03             26.62              2.07   \n",
       "\n",
       "        long_wind_250mb  long_wind_925mb  \n",
       "0                 -3.52             4.41  \n",
       "1                 -4.49             3.74  \n",
       "2                 -5.44             3.40  \n",
       "3                 -5.76             3.29  \n",
       "4                 -6.09             3.27  \n",
       "...                 ...              ...  \n",
       "375729             9.59             2.96  \n",
       "375730             7.14             2.30  \n",
       "375731             7.05             2.19  \n",
       "375732             7.74             1.88  \n",
       "375733             8.29             1.66  \n",
       "\n",
       "[375734 rows x 20 columns]"
      ]
     },
     "execution_count": 6,
     "metadata": {},
     "output_type": "execute_result"
    }
   ],
   "source": [
    "df"
   ]
  },
  {
   "cell_type": "code",
   "execution_count": 7,
   "id": "3aa48895",
   "metadata": {},
   "outputs": [
    {
     "data": {
      "text/plain": [
       "(375734, 20)"
      ]
     },
     "execution_count": 7,
     "metadata": {},
     "output_type": "execute_result"
    }
   ],
   "source": [
    "df.shape"
   ]
  },
  {
   "cell_type": "code",
   "execution_count": 8,
   "id": "5a58caba",
   "metadata": {},
   "outputs": [],
   "source": [
    "train, validate, test=w.split_data(df, test_size=0.15)"
   ]
  },
  {
   "cell_type": "code",
   "execution_count": 9,
   "id": "f38ac55c",
   "metadata": {},
   "outputs": [
    {
     "data": {
      "text/html": [
       "<div>\n",
       "<style scoped>\n",
       "    .dataframe tbody tr th:only-of-type {\n",
       "        vertical-align: middle;\n",
       "    }\n",
       "\n",
       "    .dataframe tbody tr th {\n",
       "        vertical-align: top;\n",
       "    }\n",
       "\n",
       "    .dataframe thead th {\n",
       "        text-align: right;\n",
       "    }\n",
       "</style>\n",
       "<table border=\"1\" class=\"dataframe\">\n",
       "  <thead>\n",
       "    <tr style=\"text-align: right;\">\n",
       "      <th></th>\n",
       "      <th>region</th>\n",
       "      <th>elevation</th>\n",
       "      <th>lat</th>\n",
       "      <th>lon</th>\n",
       "      <th>startdate</th>\n",
       "      <th>potential_evap</th>\n",
       "      <th>precip</th>\n",
       "      <th>barometric_pressure</th>\n",
       "      <th>all_atmos_precip</th>\n",
       "      <th>relative_humidity</th>\n",
       "      <th>sea_level_press</th>\n",
       "      <th>mean_temp</th>\n",
       "      <th>height_10_mb</th>\n",
       "      <th>height_100_mb</th>\n",
       "      <th>height_500_mb</th>\n",
       "      <th>height_850_mb</th>\n",
       "      <th>zonal_wind_250mb</th>\n",
       "      <th>zonal_wind_925mb</th>\n",
       "      <th>long_wind_250mb</th>\n",
       "      <th>long_wind_925mb</th>\n",
       "    </tr>\n",
       "  </thead>\n",
       "  <tbody>\n",
       "    <tr>\n",
       "      <th>116277</th>\n",
       "      <td>BSk</td>\n",
       "      <td>1800</td>\n",
       "      <td>0.454545</td>\n",
       "      <td>0.300000</td>\n",
       "      <td>2014-10-19</td>\n",
       "      <td>294.86</td>\n",
       "      <td>0.03</td>\n",
       "      <td>83362.52</td>\n",
       "      <td>8.53</td>\n",
       "      <td>28.94</td>\n",
       "      <td>101443.38</td>\n",
       "      <td>16.680867</td>\n",
       "      <td>30825.95</td>\n",
       "      <td>16475.47</td>\n",
       "      <td>5796.30</td>\n",
       "      <td>1504.26</td>\n",
       "      <td>18.22</td>\n",
       "      <td>-0.87</td>\n",
       "      <td>3.46</td>\n",
       "      <td>2.04</td>\n",
       "    </tr>\n",
       "    <tr>\n",
       "      <th>237629</th>\n",
       "      <td>Csb</td>\n",
       "      <td>1100</td>\n",
       "      <td>0.727273</td>\n",
       "      <td>0.066667</td>\n",
       "      <td>2014-10-25</td>\n",
       "      <td>127.70</td>\n",
       "      <td>63.74</td>\n",
       "      <td>89156.29</td>\n",
       "      <td>16.71</td>\n",
       "      <td>83.14</td>\n",
       "      <td>101841.63</td>\n",
       "      <td>5.987106</td>\n",
       "      <td>30801.60</td>\n",
       "      <td>16340.47</td>\n",
       "      <td>5689.14</td>\n",
       "      <td>1504.33</td>\n",
       "      <td>24.22</td>\n",
       "      <td>1.52</td>\n",
       "      <td>1.08</td>\n",
       "      <td>3.10</td>\n",
       "    </tr>\n",
       "    <tr>\n",
       "      <th>272599</th>\n",
       "      <td>BSk</td>\n",
       "      <td>800</td>\n",
       "      <td>0.772727</td>\n",
       "      <td>0.700000</td>\n",
       "      <td>2016-06-29</td>\n",
       "      <td>481.48</td>\n",
       "      <td>41.43</td>\n",
       "      <td>89665.38</td>\n",
       "      <td>22.36</td>\n",
       "      <td>54.72</td>\n",
       "      <td>101003.07</td>\n",
       "      <td>21.549640</td>\n",
       "      <td>31605.85</td>\n",
       "      <td>16624.04</td>\n",
       "      <td>5828.97</td>\n",
       "      <td>1492.70</td>\n",
       "      <td>23.68</td>\n",
       "      <td>-0.08</td>\n",
       "      <td>2.35</td>\n",
       "      <td>1.04</td>\n",
       "    </tr>\n",
       "    <tr>\n",
       "      <th>205713</th>\n",
       "      <td>Dfb</td>\n",
       "      <td>2000</td>\n",
       "      <td>0.636364</td>\n",
       "      <td>0.500000</td>\n",
       "      <td>2015-06-30</td>\n",
       "      <td>453.35</td>\n",
       "      <td>24.78</td>\n",
       "      <td>77957.43</td>\n",
       "      <td>17.11</td>\n",
       "      <td>47.80</td>\n",
       "      <td>101361.57</td>\n",
       "      <td>19.173942</td>\n",
       "      <td>31576.02</td>\n",
       "      <td>16662.35</td>\n",
       "      <td>5875.87</td>\n",
       "      <td>1505.58</td>\n",
       "      <td>15.35</td>\n",
       "      <td>0.50</td>\n",
       "      <td>5.52</td>\n",
       "      <td>1.09</td>\n",
       "    </tr>\n",
       "    <tr>\n",
       "      <th>120041</th>\n",
       "      <td>BSk</td>\n",
       "      <td>1900</td>\n",
       "      <td>0.454545</td>\n",
       "      <td>0.466667</td>\n",
       "      <td>2015-02-05</td>\n",
       "      <td>135.47</td>\n",
       "      <td>0.00</td>\n",
       "      <td>81613.28</td>\n",
       "      <td>6.06</td>\n",
       "      <td>62.50</td>\n",
       "      <td>102053.60</td>\n",
       "      <td>6.862285</td>\n",
       "      <td>30715.39</td>\n",
       "      <td>16357.43</td>\n",
       "      <td>5755.62</td>\n",
       "      <td>1535.91</td>\n",
       "      <td>19.55</td>\n",
       "      <td>0.42</td>\n",
       "      <td>-10.67</td>\n",
       "      <td>0.27</td>\n",
       "    </tr>\n",
       "  </tbody>\n",
       "</table>\n",
       "</div>"
      ],
      "text/plain": [
       "       region  elevation       lat       lon  startdate  potential_evap  \\\n",
       "116277    BSk       1800  0.454545  0.300000 2014-10-19          294.86   \n",
       "237629    Csb       1100  0.727273  0.066667 2014-10-25          127.70   \n",
       "272599    BSk        800  0.772727  0.700000 2016-06-29          481.48   \n",
       "205713    Dfb       2000  0.636364  0.500000 2015-06-30          453.35   \n",
       "120041    BSk       1900  0.454545  0.466667 2015-02-05          135.47   \n",
       "\n",
       "        precip  barometric_pressure  all_atmos_precip  relative_humidity  \\\n",
       "116277    0.03             83362.52              8.53              28.94   \n",
       "237629   63.74             89156.29             16.71              83.14   \n",
       "272599   41.43             89665.38             22.36              54.72   \n",
       "205713   24.78             77957.43             17.11              47.80   \n",
       "120041    0.00             81613.28              6.06              62.50   \n",
       "\n",
       "        sea_level_press  mean_temp  height_10_mb  height_100_mb  \\\n",
       "116277        101443.38  16.680867      30825.95       16475.47   \n",
       "237629        101841.63   5.987106      30801.60       16340.47   \n",
       "272599        101003.07  21.549640      31605.85       16624.04   \n",
       "205713        101361.57  19.173942      31576.02       16662.35   \n",
       "120041        102053.60   6.862285      30715.39       16357.43   \n",
       "\n",
       "        height_500_mb  height_850_mb  zonal_wind_250mb  zonal_wind_925mb  \\\n",
       "116277        5796.30        1504.26             18.22             -0.87   \n",
       "237629        5689.14        1504.33             24.22              1.52   \n",
       "272599        5828.97        1492.70             23.68             -0.08   \n",
       "205713        5875.87        1505.58             15.35              0.50   \n",
       "120041        5755.62        1535.91             19.55              0.42   \n",
       "\n",
       "        long_wind_250mb  long_wind_925mb  \n",
       "116277             3.46             2.04  \n",
       "237629             1.08             3.10  \n",
       "272599             2.35             1.04  \n",
       "205713             5.52             1.09  \n",
       "120041           -10.67             0.27  "
      ]
     },
     "execution_count": 9,
     "metadata": {},
     "output_type": "execute_result"
    }
   ],
   "source": [
    "train.head()"
   ]
  },
  {
   "cell_type": "code",
   "execution_count": 10,
   "id": "a3883283",
   "metadata": {},
   "outputs": [
    {
     "data": {
      "text/plain": [
       "(244226, 20)"
      ]
     },
     "execution_count": 10,
     "metadata": {},
     "output_type": "execute_result"
    }
   ],
   "source": [
    "train.shape"
   ]
  },
  {
   "cell_type": "raw",
   "id": "67ad3260",
   "metadata": {},
   "source": [
    "Regions \n",
    "BWh    Dry-Arid Desert-hot\n",
    "BWk    Dry-Arid Desert-cold\n",
    "BSh    Dry-Semi-Arid or steppe-hot\n",
    "BSk    Dry-Semi-Arid or steppe-cold\n",
    "Csa    Temperate-Dry summer-hot summer\n",
    "Csb    Temperate-Dry summer-warm summer\t\n",
    "Cfa    Temperate-No dry season-hot summer\n",
    "Cfb    Temperate-No dry season-warm summer\n",
    "Dsb    Continental-Dry summer-warm summer\n",
    "Dsc    Continental-Dry summer-cold summer\n",
    "Dwa    Continental-Dry winter-hot summer\n",
    "Dwb    Continental-Dry winter-warm summer\n",
    "Dfa    Continental-No dry season-hot summer\n",
    "Dfb    Continental-No dry season-warm summer\n",
    "Dfc    Continental-No dry season-cold summer"
   ]
  },
  {
   "cell_type": "code",
   "execution_count": null,
   "id": "7dd09cc1",
   "metadata": {},
   "outputs": [],
   "source": [
    "sns.histplot(data=train, x=\"precip\")"
   ]
  },
  {
   "cell_type": "code",
   "execution_count": null,
   "id": "c426f29e",
   "metadata": {
    "scrolled": true
   },
   "outputs": [],
   "source": [
    "sns.histplot(data=train, x=\"potential_evap\")"
   ]
  },
  {
   "cell_type": "code",
   "execution_count": null,
   "id": "d7b9b3bc",
   "metadata": {},
   "outputs": [],
   "source": [
    "sns.histplot(data=train, x=\"barometric_pressure\")"
   ]
  },
  {
   "cell_type": "code",
   "execution_count": null,
   "id": "f5894064",
   "metadata": {},
   "outputs": [],
   "source": [
    "sns.histplot(data=train, x=\"all_atmos_precip\")"
   ]
  },
  {
   "cell_type": "code",
   "execution_count": null,
   "id": "d3178118",
   "metadata": {},
   "outputs": [],
   "source": [
    "sns.histplot(data=train, x=\"relative_humidity\")"
   ]
  },
  {
   "cell_type": "code",
   "execution_count": null,
   "id": "5d7d14b4",
   "metadata": {},
   "outputs": [],
   "source": [
    "sns.histplot(data=train, x=\"sea_level_press\")"
   ]
  },
  {
   "cell_type": "code",
   "execution_count": null,
   "id": "d58fad96",
   "metadata": {},
   "outputs": [],
   "source": [
    "sns.histplot(data=train, x=\"mean_temp\")"
   ]
  },
  {
   "cell_type": "code",
   "execution_count": null,
   "id": "7028bcd3",
   "metadata": {},
   "outputs": [],
   "source": [
    "sns.histplot(data=train, x=\"height_10_mb\")"
   ]
  },
  {
   "cell_type": "code",
   "execution_count": null,
   "id": "3834e6ef",
   "metadata": {},
   "outputs": [],
   "source": [
    "sns.histplot(data=train, x=\"height_100_mb\")"
   ]
  },
  {
   "cell_type": "code",
   "execution_count": null,
   "id": "d8bf0638",
   "metadata": {},
   "outputs": [],
   "source": [
    "sns.histplot(data=train, x=\"height_500_mb\")"
   ]
  },
  {
   "cell_type": "code",
   "execution_count": null,
   "id": "ca5b4815",
   "metadata": {},
   "outputs": [],
   "source": [
    "sns.histplot(data=train, x=\"height_850_mb\")"
   ]
  },
  {
   "cell_type": "code",
   "execution_count": null,
   "id": "f48e21f8",
   "metadata": {},
   "outputs": [],
   "source": [
    "sns.histplot(data=train, x=\"zonal_wind_250mb\")"
   ]
  },
  {
   "cell_type": "code",
   "execution_count": null,
   "id": "45a651d6",
   "metadata": {},
   "outputs": [],
   "source": [
    "sns.histplot(data=train, x=\"zonal_wind_925mb\")"
   ]
  },
  {
   "cell_type": "code",
   "execution_count": null,
   "id": "fb5d3045",
   "metadata": {},
   "outputs": [],
   "source": [
    "sns.histplot(data=train, x=\"long_wind_250mb\")"
   ]
  },
  {
   "cell_type": "code",
   "execution_count": null,
   "id": "b6987f00",
   "metadata": {},
   "outputs": [],
   "source": [
    "sns.histplot(data=train, x=\"long_wind_925mb\")"
   ]
  },
  {
   "cell_type": "code",
   "execution_count": null,
   "id": "d159c853",
   "metadata": {},
   "outputs": [],
   "source": [
    "fig, ax = plt.subplots(figsize=(10,10))      \n",
    "corr = train.corr()\n",
    "sns.heatmap(corr, annot=True, square=True)\n",
    "plt.yticks(rotation=0)\n",
    "plt.show()"
   ]
  },
  {
   "cell_type": "code",
   "execution_count": null,
   "id": "73f5ad2d",
   "metadata": {},
   "outputs": [],
   "source": [
    "train.groupby('region').mean_temp.mean()\n"
   ]
  },
  {
   "cell_type": "code",
   "execution_count": null,
   "id": "a69d73f1",
   "metadata": {},
   "outputs": [],
   "source": [
    "sns.countplot(x ='region', data = train).set(title='What is the distribution of the observations per Region?')"
   ]
  },
  {
   "cell_type": "raw",
   "id": "c21de28c",
   "metadata": {},
   "source": [
    "#maps the column region, so that the regions are numeric, \n",
    "train['region_encoded'] = train.region.map({'BSk':0,\n",
    "                                      'Dfb':1,\n",
    "                                      'Cfa':2,\n",
    "                                      'Csb':3,\n",
    "                                      'Dfa':4,\n",
    "                                      'BWk':5,\n",
    "                                      'Dfc':6,\n",
    "                                      'BWh':7,\n",
    "                                      'Csa':8,\n",
    "                                      'Dsb':9,\n",
    "                                      'BSh':10,\n",
    "                                      'Cfb':11,\n",
    "                                      'Dsc':12,\n",
    "                                      'Dwa':13,\n",
    "                                      'Dwb':14})"
   ]
  },
  {
   "cell_type": "code",
   "execution_count": null,
   "id": "aa60dfd3",
   "metadata": {},
   "outputs": [],
   "source": [
    "sns.barplot(x='region', y='mean_temp', data= train, ax=ax)"
   ]
  },
  {
   "cell_type": "raw",
   "id": "9a438fa5",
   "metadata": {},
   "source": [
    "cats= ['region_encoded']\n",
    "target = ['mean_temp']\n",
    "def explore_cats(train, cats, target):\n",
    "    '''\n",
    "    This function takes:\n",
    "            train = train DataFrame\n",
    "            cats = category columns (as a list of strings)\n",
    "            target = target variable (as a string)\n",
    "    prints value counts for each category in each column\n",
    "    '''\n",
    "    for col in cats:\n",
    "        print(col)\n",
    "        print(train[col].value_counts())\n",
    "        print(train[col].value_counts(normalize=True)*100)\n",
    "        sns.countplot(x=col, data=train)\n",
    "        plt.title(col+' counts')\n",
    "        plt.show()\n",
    "    \n",
    "        sns.barplot(data=train, x=col, y=target)\n",
    "        rate = train[target].mean()\n",
    "        plt.axhline(rate, label= 'average ' + target + ' rate')\n",
    "        plt.legend()\n",
    "        plt.title(target+' rate by '+col)\n",
    "        plt.show()\n",
    "    \n",
    "        alpha = 0.05\n",
    "        o = pd.crosstab(train[col], train[target])\n",
    "        chi2, p, dof, e = stats.chi2_contingency(o)\n",
    "        result = p < alpha\n",
    "        print('P is less than alpha: '+result.astype('str'))\n",
    "        print('------------------------------------------------------------')"
   ]
  },
  {
   "cell_type": "raw",
   "id": "17cf5c97",
   "metadata": {},
   "source": [
    "explore_cats(train, cats, target)"
   ]
  },
  {
   "cell_type": "raw",
   "id": "59ebe636",
   "metadata": {},
   "source": [
    "Column names\n",
    "potential_evap\n",
    "precip\n",
    "barometric_pressure\n",
    "all_atmos_precip\n",
    "relative_humidity\n",
    "sea_level_press\n",
    "mean_temp\n",
    "height_10_mb\n",
    "height_100_mb\n",
    "height_500_mb\n",
    "height_850_mb\n",
    "zonal_wind_250mb\n",
    "zonal_wind_925mb\n",
    "long_wind_250mb\n",
    "long_wind_925mb"
   ]
  },
  {
   "cell_type": "code",
   "execution_count": null,
   "id": "1371e338",
   "metadata": {},
   "outputs": [],
   "source": [
    "train.head()"
   ]
  },
  {
   "cell_type": "code",
   "execution_count": null,
   "id": "5f8c6499",
   "metadata": {},
   "outputs": [],
   "source": [
    "region_lists = [['BWh', 'BWk', 'Bsh', 'BSk'], ['Csa', 'Csb', 'Cfa', 'Cfa'], ['Dsb', 'Dsc', 'Dwa', 'Dwb', 'Dfa', 'Dfb', 'Dfc']]\n",
    "\n",
    "names =['Dry','Temperate','Continental']\n",
    "\n",
    "# create a df with mapping information\n",
    "maps = (pd.DataFrame({'region_bins': names, 'region': region_lists})\n",
    "        .explode('region')\n",
    "        .reset_index(drop=True))\n",
    "\n",
    "# join maps\n",
    "train = train.merge(maps, on='region', how='left')"
   ]
  },
  {
   "cell_type": "code",
   "execution_count": null,
   "id": "796e7fd7",
   "metadata": {},
   "outputs": [],
   "source": [
    "train.head()"
   ]
  },
  {
   "cell_type": "code",
   "execution_count": null,
   "id": "ee0c71a0",
   "metadata": {},
   "outputs": [],
   "source": [
    "Dry = train[train.region_bins == 'Dry']\n",
    "Temperate = train[train.region_bins == 'Temperate']\n",
    "Continental = train[train.region_bins == 'Continental']"
   ]
  },
  {
   "cell_type": "code",
   "execution_count": null,
   "id": "31c4180c",
   "metadata": {},
   "outputs": [],
   "source": [
    "# Using + operator to combine two columns\n",
    "train[\"latlon\"] = train['lat'].astype(str) +\", \"+ train[\"lon\"].astype(str)"
   ]
  },
  {
   "cell_type": "code",
   "execution_count": null,
   "id": "83cedc26",
   "metadata": {},
   "outputs": [],
   "source": [
    "train.head()"
   ]
  },
  {
   "cell_type": "raw",
   "id": "96437e4b",
   "metadata": {},
   "source": [
    "The null hypothesis (H0): The median is the same for all the data groups.\n",
    "The alternative hypothesis: (Ha): The median is not equal for all the data groups.\n"
   ]
  },
  {
   "cell_type": "code",
   "execution_count": null,
   "id": "e294bfe1",
   "metadata": {},
   "outputs": [],
   "source": [
    "stats.kruskal(Dry.mean_temp, Temperate.mean_temp, Continental.mean_temp)"
   ]
  },
  {
   "cell_type": "code",
   "execution_count": null,
   "id": "916f8398",
   "metadata": {},
   "outputs": [],
   "source": [
    "train.groupby('region').latlon.value_counts()"
   ]
  },
  {
   "cell_type": "code",
   "execution_count": null,
   "id": "4cc98ceb",
   "metadata": {},
   "outputs": [],
   "source": [
    "sns.countplot(x ='region_bins', data = train).set(title='Are the 3 major regions represented equally?')"
   ]
  },
  {
   "cell_type": "code",
   "execution_count": null,
   "id": "cb5ecb87",
   "metadata": {},
   "outputs": [],
   "source": [
    "sns.barplot(data=train, x='region_bins', y='mean_temp').set(title='Is there a difference between the 3 major regions and the mean temperature?')"
   ]
  },
  {
   "cell_type": "code",
   "execution_count": null,
   "id": "ad2d27d5",
   "metadata": {},
   "outputs": [],
   "source": [
    "nums = ['potential_evap','precip','barometric_pressure','all_atmos_precip','relative_humidity','sea_level_press','mean_temp','height_10_mb','height_100_mb','height_500_mb','height_850_mb','zonal_wind_250mb','zonal_wind_925mb','long_wind_250mb','long_wind_925mb']\n",
    "target = ['mean_temp']"
   ]
  },
  {
   "cell_type": "code",
   "execution_count": null,
   "id": "fea96b5a",
   "metadata": {},
   "outputs": [],
   "source": [
    "def explore_nums(train, nums):\n",
    "    '''\n",
    "    This function takes in:\n",
    "            train = train DataFrame\n",
    "            nums = numerical columns (as a list of strings)\n",
    "    '''\n",
    "    for col in nums:\n",
    "        sns.histplot(x=col, data=train)\n",
    "        plt.show()\n",
    "        "
   ]
  },
  {
   "cell_type": "code",
   "execution_count": null,
   "id": "b43a825f",
   "metadata": {},
   "outputs": [],
   "source": [
    "explore_nums(train, nums)"
   ]
  },
  {
   "cell_type": "code",
   "execution_count": null,
   "id": "db5dd5ef",
   "metadata": {},
   "outputs": [],
   "source": [
    "['potential_evap','precip','barometric_pressure','all_atmos_precip','relative_humidity','sea_level_press','mean_temp','height_10_mb','height_100_mb','height_500_mb','height_850_mb','zonal_wind_250mb','zonal_wind_925mb','long_wind_250mb','long_wind_925mb']"
   ]
  },
  {
   "cell_type": "code",
   "execution_count": null,
   "id": "2d5403a7",
   "metadata": {},
   "outputs": [],
   "source": []
  }
 ],
 "metadata": {
  "kernelspec": {
   "display_name": "Python 3 (ipykernel)",
   "language": "python",
   "name": "python3"
  },
  "language_info": {
   "codemirror_mode": {
    "name": "ipython",
    "version": 3
   },
   "file_extension": ".py",
   "mimetype": "text/x-python",
   "name": "python",
   "nbconvert_exporter": "python",
   "pygments_lexer": "ipython3",
   "version": "3.9.12"
  }
 },
 "nbformat": 4,
 "nbformat_minor": 5
}
