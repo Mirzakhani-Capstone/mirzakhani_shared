{
 "cells": [
  {
   "cell_type": "code",
   "execution_count": 1,
   "id": "fd55862b",
   "metadata": {},
   "outputs": [],
   "source": [
    "%matplotlib inline\n",
    "import matplotlib.pyplot as plt\n",
    "from matplotlib.colors import ListedColormap\n",
    "from scipy.stats import levene, ttest_ind\n",
    "from sklearn.ensemble import RandomForestClassifier\n",
    "from sklearn.impute import SimpleImputer\n",
    "from sklearn.linear_model import LogisticRegression\n",
    "from sklearn.metrics import classification_report, confusion_matrix, ConfusionMatrixDisplay, plot_confusion_matrix\n",
    "from sklearn.model_selection import train_test_split\n",
    "from sklearn.neighbors import KNeighborsClassifier\n",
    "from sklearn.preprocessing import MinMaxScaler\n",
    "from sklearn.tree import DecisionTreeClassifier, plot_tree, export_text\n",
    "import math\n",
    "from scipy import stats\n",
    "import numpy as np\n",
    "import os\n",
    "import pandas as pd\n",
    "import requests\n",
    "import seaborn as sns\n",
    "import statsmodels.api as sm\n",
    "import warnings\n",
    "import wrangle as w\n",
    "import re\n",
    "warnings.filterwarnings(\"ignore\")"
   ]
  },
  {
   "cell_type": "code",
   "execution_count": 2,
   "id": "9309d69c",
   "metadata": {},
   "outputs": [],
   "source": [
    "sns.set(rc={'figure.figsize':(16,9)})"
   ]
  },
  {
   "cell_type": "code",
   "execution_count": 3,
   "id": "dbd50c3a",
   "metadata": {},
   "outputs": [],
   "source": [
    "df=w.get_explore_data()"
   ]
  },
  {
   "cell_type": "code",
   "execution_count": 4,
   "id": "cc8854bd",
   "metadata": {},
   "outputs": [],
   "source": [
    "df=w.prep_data(df, features=w.features)"
   ]
  },
  {
   "cell_type": "code",
   "execution_count": 5,
   "id": "2fe23ea7",
   "metadata": {},
   "outputs": [],
   "source": [
    "df=w.rename_data(df)"
   ]
  },
  {
   "cell_type": "code",
   "execution_count": 6,
   "id": "45b5b752",
   "metadata": {},
   "outputs": [
    {
     "data": {
      "text/html": [
       "<div>\n",
       "<style scoped>\n",
       "    .dataframe tbody tr th:only-of-type {\n",
       "        vertical-align: middle;\n",
       "    }\n",
       "\n",
       "    .dataframe tbody tr th {\n",
       "        vertical-align: top;\n",
       "    }\n",
       "\n",
       "    .dataframe thead th {\n",
       "        text-align: right;\n",
       "    }\n",
       "</style>\n",
       "<table border=\"1\" class=\"dataframe\">\n",
       "  <thead>\n",
       "    <tr style=\"text-align: right;\">\n",
       "      <th></th>\n",
       "      <th>region</th>\n",
       "      <th>elevation</th>\n",
       "      <th>lat</th>\n",
       "      <th>lon</th>\n",
       "      <th>startdate</th>\n",
       "      <th>potential_evap</th>\n",
       "      <th>precip</th>\n",
       "      <th>barometric_pressure</th>\n",
       "      <th>all_atmos_precip</th>\n",
       "      <th>relative_humidity</th>\n",
       "      <th>sea_level_press</th>\n",
       "      <th>mean_temp</th>\n",
       "      <th>height_10_mb</th>\n",
       "      <th>height_100_mb</th>\n",
       "      <th>height_500_mb</th>\n",
       "      <th>height_850_mb</th>\n",
       "      <th>zonal_wind_250mb</th>\n",
       "      <th>zonal_wind_925mb</th>\n",
       "      <th>long_wind_250mb</th>\n",
       "      <th>long_wind_925mb</th>\n",
       "    </tr>\n",
       "  </thead>\n",
       "  <tbody>\n",
       "    <tr>\n",
       "      <th>0</th>\n",
       "      <td>BSh</td>\n",
       "      <td>200</td>\n",
       "      <td>0.0</td>\n",
       "      <td>0.833333</td>\n",
       "      <td>2014-09-01</td>\n",
       "      <td>237.00</td>\n",
       "      <td>94.31</td>\n",
       "      <td>98644.97</td>\n",
       "      <td>42.45</td>\n",
       "      <td>81.72</td>\n",
       "      <td>101352.08</td>\n",
       "      <td>28.744480</td>\n",
       "      <td>31246.63</td>\n",
       "      <td>16666.81</td>\n",
       "      <td>5899.66</td>\n",
       "      <td>1535.52</td>\n",
       "      <td>-2.56</td>\n",
       "      <td>-5.22</td>\n",
       "      <td>-3.52</td>\n",
       "      <td>4.41</td>\n",
       "    </tr>\n",
       "    <tr>\n",
       "      <th>1</th>\n",
       "      <td>BSh</td>\n",
       "      <td>200</td>\n",
       "      <td>0.0</td>\n",
       "      <td>0.833333</td>\n",
       "      <td>2014-09-02</td>\n",
       "      <td>228.90</td>\n",
       "      <td>100.85</td>\n",
       "      <td>98686.80</td>\n",
       "      <td>42.66</td>\n",
       "      <td>82.56</td>\n",
       "      <td>101396.02</td>\n",
       "      <td>28.370585</td>\n",
       "      <td>31244.78</td>\n",
       "      <td>16667.31</td>\n",
       "      <td>5901.03</td>\n",
       "      <td>1538.00</td>\n",
       "      <td>-2.39</td>\n",
       "      <td>-5.20</td>\n",
       "      <td>-4.49</td>\n",
       "      <td>3.74</td>\n",
       "    </tr>\n",
       "    <tr>\n",
       "      <th>2</th>\n",
       "      <td>BSh</td>\n",
       "      <td>200</td>\n",
       "      <td>0.0</td>\n",
       "      <td>0.833333</td>\n",
       "      <td>2014-09-03</td>\n",
       "      <td>220.69</td>\n",
       "      <td>101.25</td>\n",
       "      <td>98712.85</td>\n",
       "      <td>43.23</td>\n",
       "      <td>83.29</td>\n",
       "      <td>101429.25</td>\n",
       "      <td>28.133059</td>\n",
       "      <td>31239.27</td>\n",
       "      <td>16668.39</td>\n",
       "      <td>5902.18</td>\n",
       "      <td>1540.32</td>\n",
       "      <td>-2.76</td>\n",
       "      <td>-5.00</td>\n",
       "      <td>-5.44</td>\n",
       "      <td>3.40</td>\n",
       "    </tr>\n",
       "    <tr>\n",
       "      <th>3</th>\n",
       "      <td>BSh</td>\n",
       "      <td>200</td>\n",
       "      <td>0.0</td>\n",
       "      <td>0.833333</td>\n",
       "      <td>2014-09-04</td>\n",
       "      <td>225.28</td>\n",
       "      <td>101.90</td>\n",
       "      <td>98711.70</td>\n",
       "      <td>43.11</td>\n",
       "      <td>83.26</td>\n",
       "      <td>101440.85</td>\n",
       "      <td>28.256798</td>\n",
       "      <td>31232.86</td>\n",
       "      <td>16667.39</td>\n",
       "      <td>5903.07</td>\n",
       "      <td>1541.10</td>\n",
       "      <td>-3.00</td>\n",
       "      <td>-4.61</td>\n",
       "      <td>-5.76</td>\n",
       "      <td>3.29</td>\n",
       "    </tr>\n",
       "    <tr>\n",
       "      <th>4</th>\n",
       "      <td>BSh</td>\n",
       "      <td>200</td>\n",
       "      <td>0.0</td>\n",
       "      <td>0.833333</td>\n",
       "      <td>2014-09-05</td>\n",
       "      <td>237.24</td>\n",
       "      <td>82.95</td>\n",
       "      <td>98686.46</td>\n",
       "      <td>42.98</td>\n",
       "      <td>82.50</td>\n",
       "      <td>101419.53</td>\n",
       "      <td>28.372353</td>\n",
       "      <td>31226.16</td>\n",
       "      <td>16665.65</td>\n",
       "      <td>5903.36</td>\n",
       "      <td>1539.73</td>\n",
       "      <td>-3.40</td>\n",
       "      <td>-4.25</td>\n",
       "      <td>-6.09</td>\n",
       "      <td>3.27</td>\n",
       "    </tr>\n",
       "    <tr>\n",
       "      <th>...</th>\n",
       "      <td>...</td>\n",
       "      <td>...</td>\n",
       "      <td>...</td>\n",
       "      <td>...</td>\n",
       "      <td>...</td>\n",
       "      <td>...</td>\n",
       "      <td>...</td>\n",
       "      <td>...</td>\n",
       "      <td>...</td>\n",
       "      <td>...</td>\n",
       "      <td>...</td>\n",
       "      <td>...</td>\n",
       "      <td>...</td>\n",
       "      <td>...</td>\n",
       "      <td>...</td>\n",
       "      <td>...</td>\n",
       "      <td>...</td>\n",
       "      <td>...</td>\n",
       "      <td>...</td>\n",
       "      <td>...</td>\n",
       "    </tr>\n",
       "    <tr>\n",
       "      <th>375729</th>\n",
       "      <td>Dfb</td>\n",
       "      <td>100</td>\n",
       "      <td>1.0</td>\n",
       "      <td>0.866667</td>\n",
       "      <td>2016-08-27</td>\n",
       "      <td>312.05</td>\n",
       "      <td>57.45</td>\n",
       "      <td>97613.96</td>\n",
       "      <td>24.32</td>\n",
       "      <td>70.25</td>\n",
       "      <td>101373.91</td>\n",
       "      <td>17.150954</td>\n",
       "      <td>31484.23</td>\n",
       "      <td>16540.22</td>\n",
       "      <td>5763.23</td>\n",
       "      <td>1501.92</td>\n",
       "      <td>23.20</td>\n",
       "      <td>1.32</td>\n",
       "      <td>9.59</td>\n",
       "      <td>2.96</td>\n",
       "    </tr>\n",
       "    <tr>\n",
       "      <th>375730</th>\n",
       "      <td>Dfb</td>\n",
       "      <td>100</td>\n",
       "      <td>1.0</td>\n",
       "      <td>0.866667</td>\n",
       "      <td>2016-08-28</td>\n",
       "      <td>305.82</td>\n",
       "      <td>53.53</td>\n",
       "      <td>97631.29</td>\n",
       "      <td>23.92</td>\n",
       "      <td>71.08</td>\n",
       "      <td>101397.77</td>\n",
       "      <td>16.962051</td>\n",
       "      <td>31476.67</td>\n",
       "      <td>16534.71</td>\n",
       "      <td>5760.19</td>\n",
       "      <td>1502.70</td>\n",
       "      <td>23.18</td>\n",
       "      <td>1.40</td>\n",
       "      <td>7.14</td>\n",
       "      <td>2.30</td>\n",
       "    </tr>\n",
       "    <tr>\n",
       "      <th>375731</th>\n",
       "      <td>Dfb</td>\n",
       "      <td>100</td>\n",
       "      <td>1.0</td>\n",
       "      <td>0.866667</td>\n",
       "      <td>2016-08-29</td>\n",
       "      <td>311.62</td>\n",
       "      <td>52.12</td>\n",
       "      <td>97588.69</td>\n",
       "      <td>23.94</td>\n",
       "      <td>69.74</td>\n",
       "      <td>101368.67</td>\n",
       "      <td>16.915474</td>\n",
       "      <td>31464.71</td>\n",
       "      <td>16526.98</td>\n",
       "      <td>5754.76</td>\n",
       "      <td>1499.57</td>\n",
       "      <td>24.49</td>\n",
       "      <td>1.75</td>\n",
       "      <td>7.05</td>\n",
       "      <td>2.19</td>\n",
       "    </tr>\n",
       "    <tr>\n",
       "      <th>375732</th>\n",
       "      <td>Dfb</td>\n",
       "      <td>100</td>\n",
       "      <td>1.0</td>\n",
       "      <td>0.866667</td>\n",
       "      <td>2016-08-30</td>\n",
       "      <td>304.54</td>\n",
       "      <td>51.73</td>\n",
       "      <td>97538.62</td>\n",
       "      <td>23.61</td>\n",
       "      <td>69.71</td>\n",
       "      <td>101321.24</td>\n",
       "      <td>16.536761</td>\n",
       "      <td>31448.83</td>\n",
       "      <td>16512.39</td>\n",
       "      <td>5742.21</td>\n",
       "      <td>1493.14</td>\n",
       "      <td>25.80</td>\n",
       "      <td>1.84</td>\n",
       "      <td>7.74</td>\n",
       "      <td>1.88</td>\n",
       "    </tr>\n",
       "    <tr>\n",
       "      <th>375733</th>\n",
       "      <td>Dfb</td>\n",
       "      <td>100</td>\n",
       "      <td>1.0</td>\n",
       "      <td>0.866667</td>\n",
       "      <td>2016-08-31</td>\n",
       "      <td>295.29</td>\n",
       "      <td>51.83</td>\n",
       "      <td>97536.84</td>\n",
       "      <td>23.41</td>\n",
       "      <td>71.66</td>\n",
       "      <td>101323.84</td>\n",
       "      <td>15.910995</td>\n",
       "      <td>31434.76</td>\n",
       "      <td>16496.42</td>\n",
       "      <td>5726.45</td>\n",
       "      <td>1489.03</td>\n",
       "      <td>26.62</td>\n",
       "      <td>2.07</td>\n",
       "      <td>8.29</td>\n",
       "      <td>1.66</td>\n",
       "    </tr>\n",
       "  </tbody>\n",
       "</table>\n",
       "<p>375734 rows × 20 columns</p>\n",
       "</div>"
      ],
      "text/plain": [
       "       region  elevation  lat       lon  startdate  potential_evap  precip  \\\n",
       "0         BSh        200  0.0  0.833333 2014-09-01          237.00   94.31   \n",
       "1         BSh        200  0.0  0.833333 2014-09-02          228.90  100.85   \n",
       "2         BSh        200  0.0  0.833333 2014-09-03          220.69  101.25   \n",
       "3         BSh        200  0.0  0.833333 2014-09-04          225.28  101.90   \n",
       "4         BSh        200  0.0  0.833333 2014-09-05          237.24   82.95   \n",
       "...       ...        ...  ...       ...        ...             ...     ...   \n",
       "375729    Dfb        100  1.0  0.866667 2016-08-27          312.05   57.45   \n",
       "375730    Dfb        100  1.0  0.866667 2016-08-28          305.82   53.53   \n",
       "375731    Dfb        100  1.0  0.866667 2016-08-29          311.62   52.12   \n",
       "375732    Dfb        100  1.0  0.866667 2016-08-30          304.54   51.73   \n",
       "375733    Dfb        100  1.0  0.866667 2016-08-31          295.29   51.83   \n",
       "\n",
       "        barometric_pressure  all_atmos_precip  relative_humidity  \\\n",
       "0                  98644.97             42.45              81.72   \n",
       "1                  98686.80             42.66              82.56   \n",
       "2                  98712.85             43.23              83.29   \n",
       "3                  98711.70             43.11              83.26   \n",
       "4                  98686.46             42.98              82.50   \n",
       "...                     ...               ...                ...   \n",
       "375729             97613.96             24.32              70.25   \n",
       "375730             97631.29             23.92              71.08   \n",
       "375731             97588.69             23.94              69.74   \n",
       "375732             97538.62             23.61              69.71   \n",
       "375733             97536.84             23.41              71.66   \n",
       "\n",
       "        sea_level_press  mean_temp  height_10_mb  height_100_mb  \\\n",
       "0             101352.08  28.744480      31246.63       16666.81   \n",
       "1             101396.02  28.370585      31244.78       16667.31   \n",
       "2             101429.25  28.133059      31239.27       16668.39   \n",
       "3             101440.85  28.256798      31232.86       16667.39   \n",
       "4             101419.53  28.372353      31226.16       16665.65   \n",
       "...                 ...        ...           ...            ...   \n",
       "375729        101373.91  17.150954      31484.23       16540.22   \n",
       "375730        101397.77  16.962051      31476.67       16534.71   \n",
       "375731        101368.67  16.915474      31464.71       16526.98   \n",
       "375732        101321.24  16.536761      31448.83       16512.39   \n",
       "375733        101323.84  15.910995      31434.76       16496.42   \n",
       "\n",
       "        height_500_mb  height_850_mb  zonal_wind_250mb  zonal_wind_925mb  \\\n",
       "0             5899.66        1535.52             -2.56             -5.22   \n",
       "1             5901.03        1538.00             -2.39             -5.20   \n",
       "2             5902.18        1540.32             -2.76             -5.00   \n",
       "3             5903.07        1541.10             -3.00             -4.61   \n",
       "4             5903.36        1539.73             -3.40             -4.25   \n",
       "...               ...            ...               ...               ...   \n",
       "375729        5763.23        1501.92             23.20              1.32   \n",
       "375730        5760.19        1502.70             23.18              1.40   \n",
       "375731        5754.76        1499.57             24.49              1.75   \n",
       "375732        5742.21        1493.14             25.80              1.84   \n",
       "375733        5726.45        1489.03             26.62              2.07   \n",
       "\n",
       "        long_wind_250mb  long_wind_925mb  \n",
       "0                 -3.52             4.41  \n",
       "1                 -4.49             3.74  \n",
       "2                 -5.44             3.40  \n",
       "3                 -5.76             3.29  \n",
       "4                 -6.09             3.27  \n",
       "...                 ...              ...  \n",
       "375729             9.59             2.96  \n",
       "375730             7.14             2.30  \n",
       "375731             7.05             2.19  \n",
       "375732             7.74             1.88  \n",
       "375733             8.29             1.66  \n",
       "\n",
       "[375734 rows x 20 columns]"
      ]
     },
     "execution_count": 6,
     "metadata": {},
     "output_type": "execute_result"
    }
   ],
   "source": [
    "df"
   ]
  },
  {
   "cell_type": "code",
   "execution_count": 7,
   "id": "12bb5ca0",
   "metadata": {},
   "outputs": [
    {
     "data": {
      "text/plain": [
       "(375734, 20)"
      ]
     },
     "execution_count": 7,
     "metadata": {},
     "output_type": "execute_result"
    }
   ],
   "source": [
    "df.shape"
   ]
  },
  {
   "cell_type": "code",
   "execution_count": 8,
   "id": "83012038",
   "metadata": {},
   "outputs": [],
   "source": [
    "df['region_encoded'] = df.region.map({'BWh': 'Dry',\n",
    "                                      'BWk': 'Dry',\n",
    "                                      'Bsh': 'Dry',\n",
    "                                      'BSk': 'Dry', \n",
    "                                      'Csa':'Temperate', \n",
    "                                      'Csb':'Temperate', \n",
    "                                      'Cfa':'Temperate', \n",
    "                                      'Cfa':'Temperate',\n",
    "                                      'Dsb':'Continental', \n",
    "                                      'Dsc':'Continental', \n",
    "                                      'Dwa':'Continental', \n",
    "                                      'Dwb':'Continental', \n",
    "                                      'Dfa':'Continental', \n",
    "                                      'Dfb':'Continental', \n",
    "                                      'Dfc':'Continental'})"
   ]
  },
  {
   "cell_type": "code",
   "execution_count": 9,
   "id": "72c21556",
   "metadata": {},
   "outputs": [
    {
     "data": {
      "text/plain": [
       "(375734, 21)"
      ]
     },
     "execution_count": 9,
     "metadata": {},
     "output_type": "execute_result"
    }
   ],
   "source": [
    "df.shape"
   ]
  },
  {
   "cell_type": "code",
   "execution_count": 10,
   "id": "5a58caba",
   "metadata": {},
   "outputs": [],
   "source": [
    "train, validate, test=w.split_data(df, test_size=0.15)"
   ]
  },
  {
   "cell_type": "code",
   "execution_count": 11,
   "id": "f38ac55c",
   "metadata": {},
   "outputs": [
    {
     "data": {
      "text/html": [
       "<div>\n",
       "<style scoped>\n",
       "    .dataframe tbody tr th:only-of-type {\n",
       "        vertical-align: middle;\n",
       "    }\n",
       "\n",
       "    .dataframe tbody tr th {\n",
       "        vertical-align: top;\n",
       "    }\n",
       "\n",
       "    .dataframe thead th {\n",
       "        text-align: right;\n",
       "    }\n",
       "</style>\n",
       "<table border=\"1\" class=\"dataframe\">\n",
       "  <thead>\n",
       "    <tr style=\"text-align: right;\">\n",
       "      <th></th>\n",
       "      <th>region</th>\n",
       "      <th>elevation</th>\n",
       "      <th>lat</th>\n",
       "      <th>lon</th>\n",
       "      <th>startdate</th>\n",
       "      <th>potential_evap</th>\n",
       "      <th>precip</th>\n",
       "      <th>barometric_pressure</th>\n",
       "      <th>all_atmos_precip</th>\n",
       "      <th>relative_humidity</th>\n",
       "      <th>...</th>\n",
       "      <th>mean_temp</th>\n",
       "      <th>height_10_mb</th>\n",
       "      <th>height_100_mb</th>\n",
       "      <th>height_500_mb</th>\n",
       "      <th>height_850_mb</th>\n",
       "      <th>zonal_wind_250mb</th>\n",
       "      <th>zonal_wind_925mb</th>\n",
       "      <th>long_wind_250mb</th>\n",
       "      <th>long_wind_925mb</th>\n",
       "      <th>region_encoded</th>\n",
       "    </tr>\n",
       "  </thead>\n",
       "  <tbody>\n",
       "    <tr>\n",
       "      <th>116277</th>\n",
       "      <td>BSk</td>\n",
       "      <td>1800</td>\n",
       "      <td>0.454545</td>\n",
       "      <td>0.300000</td>\n",
       "      <td>2014-10-19</td>\n",
       "      <td>294.86</td>\n",
       "      <td>0.03</td>\n",
       "      <td>83362.52</td>\n",
       "      <td>8.53</td>\n",
       "      <td>28.94</td>\n",
       "      <td>...</td>\n",
       "      <td>16.680867</td>\n",
       "      <td>30825.95</td>\n",
       "      <td>16475.47</td>\n",
       "      <td>5796.30</td>\n",
       "      <td>1504.26</td>\n",
       "      <td>18.22</td>\n",
       "      <td>-0.87</td>\n",
       "      <td>3.46</td>\n",
       "      <td>2.04</td>\n",
       "      <td>Dry</td>\n",
       "    </tr>\n",
       "    <tr>\n",
       "      <th>237629</th>\n",
       "      <td>Csb</td>\n",
       "      <td>1100</td>\n",
       "      <td>0.727273</td>\n",
       "      <td>0.066667</td>\n",
       "      <td>2014-10-25</td>\n",
       "      <td>127.70</td>\n",
       "      <td>63.74</td>\n",
       "      <td>89156.29</td>\n",
       "      <td>16.71</td>\n",
       "      <td>83.14</td>\n",
       "      <td>...</td>\n",
       "      <td>5.987106</td>\n",
       "      <td>30801.60</td>\n",
       "      <td>16340.47</td>\n",
       "      <td>5689.14</td>\n",
       "      <td>1504.33</td>\n",
       "      <td>24.22</td>\n",
       "      <td>1.52</td>\n",
       "      <td>1.08</td>\n",
       "      <td>3.10</td>\n",
       "      <td>Temperate</td>\n",
       "    </tr>\n",
       "    <tr>\n",
       "      <th>272599</th>\n",
       "      <td>BSk</td>\n",
       "      <td>800</td>\n",
       "      <td>0.772727</td>\n",
       "      <td>0.700000</td>\n",
       "      <td>2016-06-29</td>\n",
       "      <td>481.48</td>\n",
       "      <td>41.43</td>\n",
       "      <td>89665.38</td>\n",
       "      <td>22.36</td>\n",
       "      <td>54.72</td>\n",
       "      <td>...</td>\n",
       "      <td>21.549640</td>\n",
       "      <td>31605.85</td>\n",
       "      <td>16624.04</td>\n",
       "      <td>5828.97</td>\n",
       "      <td>1492.70</td>\n",
       "      <td>23.68</td>\n",
       "      <td>-0.08</td>\n",
       "      <td>2.35</td>\n",
       "      <td>1.04</td>\n",
       "      <td>Dry</td>\n",
       "    </tr>\n",
       "    <tr>\n",
       "      <th>205713</th>\n",
       "      <td>Dfb</td>\n",
       "      <td>2000</td>\n",
       "      <td>0.636364</td>\n",
       "      <td>0.500000</td>\n",
       "      <td>2015-06-30</td>\n",
       "      <td>453.35</td>\n",
       "      <td>24.78</td>\n",
       "      <td>77957.43</td>\n",
       "      <td>17.11</td>\n",
       "      <td>47.80</td>\n",
       "      <td>...</td>\n",
       "      <td>19.173942</td>\n",
       "      <td>31576.02</td>\n",
       "      <td>16662.35</td>\n",
       "      <td>5875.87</td>\n",
       "      <td>1505.58</td>\n",
       "      <td>15.35</td>\n",
       "      <td>0.50</td>\n",
       "      <td>5.52</td>\n",
       "      <td>1.09</td>\n",
       "      <td>Continental</td>\n",
       "    </tr>\n",
       "    <tr>\n",
       "      <th>120041</th>\n",
       "      <td>BSk</td>\n",
       "      <td>1900</td>\n",
       "      <td>0.454545</td>\n",
       "      <td>0.466667</td>\n",
       "      <td>2015-02-05</td>\n",
       "      <td>135.47</td>\n",
       "      <td>0.00</td>\n",
       "      <td>81613.28</td>\n",
       "      <td>6.06</td>\n",
       "      <td>62.50</td>\n",
       "      <td>...</td>\n",
       "      <td>6.862285</td>\n",
       "      <td>30715.39</td>\n",
       "      <td>16357.43</td>\n",
       "      <td>5755.62</td>\n",
       "      <td>1535.91</td>\n",
       "      <td>19.55</td>\n",
       "      <td>0.42</td>\n",
       "      <td>-10.67</td>\n",
       "      <td>0.27</td>\n",
       "      <td>Dry</td>\n",
       "    </tr>\n",
       "  </tbody>\n",
       "</table>\n",
       "<p>5 rows × 21 columns</p>\n",
       "</div>"
      ],
      "text/plain": [
       "       region  elevation       lat       lon  startdate  potential_evap  \\\n",
       "116277    BSk       1800  0.454545  0.300000 2014-10-19          294.86   \n",
       "237629    Csb       1100  0.727273  0.066667 2014-10-25          127.70   \n",
       "272599    BSk        800  0.772727  0.700000 2016-06-29          481.48   \n",
       "205713    Dfb       2000  0.636364  0.500000 2015-06-30          453.35   \n",
       "120041    BSk       1900  0.454545  0.466667 2015-02-05          135.47   \n",
       "\n",
       "        precip  barometric_pressure  all_atmos_precip  relative_humidity  ...  \\\n",
       "116277    0.03             83362.52              8.53              28.94  ...   \n",
       "237629   63.74             89156.29             16.71              83.14  ...   \n",
       "272599   41.43             89665.38             22.36              54.72  ...   \n",
       "205713   24.78             77957.43             17.11              47.80  ...   \n",
       "120041    0.00             81613.28              6.06              62.50  ...   \n",
       "\n",
       "        mean_temp  height_10_mb  height_100_mb  height_500_mb  height_850_mb  \\\n",
       "116277  16.680867      30825.95       16475.47        5796.30        1504.26   \n",
       "237629   5.987106      30801.60       16340.47        5689.14        1504.33   \n",
       "272599  21.549640      31605.85       16624.04        5828.97        1492.70   \n",
       "205713  19.173942      31576.02       16662.35        5875.87        1505.58   \n",
       "120041   6.862285      30715.39       16357.43        5755.62        1535.91   \n",
       "\n",
       "        zonal_wind_250mb  zonal_wind_925mb  long_wind_250mb  long_wind_925mb  \\\n",
       "116277             18.22             -0.87             3.46             2.04   \n",
       "237629             24.22              1.52             1.08             3.10   \n",
       "272599             23.68             -0.08             2.35             1.04   \n",
       "205713             15.35              0.50             5.52             1.09   \n",
       "120041             19.55              0.42           -10.67             0.27   \n",
       "\n",
       "        region_encoded  \n",
       "116277             Dry  \n",
       "237629       Temperate  \n",
       "272599             Dry  \n",
       "205713     Continental  \n",
       "120041             Dry  \n",
       "\n",
       "[5 rows x 21 columns]"
      ]
     },
     "execution_count": 11,
     "metadata": {},
     "output_type": "execute_result"
    }
   ],
   "source": [
    "train.head()"
   ]
  },
  {
   "cell_type": "code",
   "execution_count": 12,
   "id": "22ba829f",
   "metadata": {},
   "outputs": [
    {
     "data": {
      "text/plain": [
       "(244226, 21)"
      ]
     },
     "execution_count": 12,
     "metadata": {},
     "output_type": "execute_result"
    }
   ],
   "source": [
    "train.shape"
   ]
  },
  {
   "cell_type": "raw",
   "id": "67ad3260",
   "metadata": {},
   "source": [
    "Regions \n",
    "BWh    Dry-Arid Desert-hot\n",
    "BWk    Dry-Arid Desert-cold\n",
    "BSh    Dry-Semi-Arid or steppe-hot\n",
    "BSk    Dry-Semi-Arid or steppe-cold\n",
    "Csa    Temperate-Dry summer-hot summer\n",
    "Csb    Temperate-Dry summer-warm summer\t\n",
    "Cfa    Temperate-No dry season-hot summer\n",
    "Cfb    Temperate-No dry season-warm summer\n",
    "Dsb    Continental-Dry summer-warm summer\n",
    "Dsc    Continental-Dry summer-cold summer\n",
    "Dwa    Continental-Dry winter-hot summer\n",
    "Dwb    Continental-Dry winter-warm summer\n",
    "Dfa    Continental-No dry season-hot summer\n",
    "Dfb    Continental-No dry season-warm summer\n",
    "Dfc    Continental-No dry season-cold summer"
   ]
  },
  {
   "cell_type": "code",
   "execution_count": 13,
   "id": "7dd09cc1",
   "metadata": {},
   "outputs": [
    {
     "data": {
      "text/plain": [
       "<AxesSubplot:xlabel='height_500_mb', ylabel='Count'>"
      ]
     },
     "execution_count": 13,
     "metadata": {},
     "output_type": "execute_result"
    },
    {
     "data": {
      "image/png": "[encoded data removed]",
      "text/plain": [
       "<Figure size 1152x648 with 1 Axes>"
      ]
     },
     "metadata": {},
     "output_type": "display_data"
    }
   ],
   "source": [
    "sns.histplot(data=train, x=\"height_500_mb\")"
   ]
  },
  {
   "cell_type": "code",
   "execution_count": 14,
   "id": "2106ed71",
   "metadata": {},
   "outputs": [
    {
     "data": {
      "text/plain": [
       "[Text(0.5, 1.0, '?')]"
      ]
     },
     "execution_count": 14,
     "metadata": {},
     "output_type": "execute_result"
    },
    {
     "name": "stdout",
     "output_type": "stream",
     "text": [
      "Error in callback <function flush_figures at 0x105d8e160> (for post_execute):\n"
     ]
    },
    {
     "name": "stderr",
     "output_type": "stream",
     "text": [
      "Exception ignored in: <generator object iter_fields at 0x167bede40>\n",
      "Traceback (most recent call last):\n",
      "  File \"/opt/homebrew/anaconda3/lib/python3.9/ast.py\", line 251, in iter_fields\n",
      "    yield field, getattr(node, field)\n",
      "KeyboardInterrupt: \n"
     ]
    },
    {
     "ename": "KeyboardInterrupt",
     "evalue": "",
     "output_type": "error",
     "traceback": [
      "\u001b[0;31m---------------------------------------------------------------------------\u001b[0m",
      "\u001b[0;31mKeyboardInterrupt\u001b[0m                         Traceback (most recent call last)",
      "File \u001b[0;32m/opt/homebrew/anaconda3/lib/python3.9/site-packages/matplotlib_inline/backend_inline.py:121\u001b[0m, in \u001b[0;36mflush_figures\u001b[0;34m()\u001b[0m\n\u001b[1;32m    118\u001b[0m \u001b[38;5;28;01mif\u001b[39;00m InlineBackend\u001b[38;5;241m.\u001b[39minstance()\u001b[38;5;241m.\u001b[39mclose_figures:\n\u001b[1;32m    119\u001b[0m     \u001b[38;5;66;03m# ignore the tracking, just draw and close all figures\u001b[39;00m\n\u001b[1;32m    120\u001b[0m     \u001b[38;5;28;01mtry\u001b[39;00m:\n\u001b[0;32m--> 121\u001b[0m         \u001b[38;5;28;01mreturn\u001b[39;00m \u001b[43mshow\u001b[49m\u001b[43m(\u001b[49m\u001b[38;5;28;43;01mTrue\u001b[39;49;00m\u001b[43m)\u001b[49m\n\u001b[1;32m    122\u001b[0m     \u001b[38;5;28;01mexcept\u001b[39;00m \u001b[38;5;167;01mException\u001b[39;00m \u001b[38;5;28;01mas\u001b[39;00m e:\n\u001b[1;32m    123\u001b[0m         \u001b[38;5;66;03m# safely show traceback if in IPython, else raise\u001b[39;00m\n\u001b[1;32m    124\u001b[0m         ip \u001b[38;5;241m=\u001b[39m get_ipython()\n",
      "File \u001b[0;32m/opt/homebrew/anaconda3/lib/python3.9/site-packages/matplotlib_inline/backend_inline.py:41\u001b[0m, in \u001b[0;36mshow\u001b[0;34m(close, block)\u001b[0m\n\u001b[1;32m     39\u001b[0m \u001b[38;5;28;01mtry\u001b[39;00m:\n\u001b[1;32m     40\u001b[0m     \u001b[38;5;28;01mfor\u001b[39;00m figure_manager \u001b[38;5;129;01min\u001b[39;00m Gcf\u001b[38;5;241m.\u001b[39mget_all_fig_managers():\n\u001b[0;32m---> 41\u001b[0m         \u001b[43mdisplay\u001b[49m\u001b[43m(\u001b[49m\n\u001b[1;32m     42\u001b[0m \u001b[43m            \u001b[49m\u001b[43mfigure_manager\u001b[49m\u001b[38;5;241;43m.\u001b[39;49m\u001b[43mcanvas\u001b[49m\u001b[38;5;241;43m.\u001b[39;49m\u001b[43mfigure\u001b[49m\u001b[43m,\u001b[49m\n\u001b[1;32m     43\u001b[0m \u001b[43m            \u001b[49m\u001b[43mmetadata\u001b[49m\u001b[38;5;241;43m=\u001b[39;49m\u001b[43m_fetch_figure_metadata\u001b[49m\u001b[43m(\u001b[49m\u001b[43mfigure_manager\u001b[49m\u001b[38;5;241;43m.\u001b[39;49m\u001b[43mcanvas\u001b[49m\u001b[38;5;241;43m.\u001b[39;49m\u001b[43mfigure\u001b[49m\u001b[43m)\u001b[49m\n\u001b[1;32m     44\u001b[0m \u001b[43m        \u001b[49m\u001b[43m)\u001b[49m\n\u001b[1;32m     45\u001b[0m \u001b[38;5;28;01mfinally\u001b[39;00m:\n\u001b[1;32m     46\u001b[0m     show\u001b[38;5;241m.\u001b[39m_to_draw \u001b[38;5;241m=\u001b[39m []\n",
      "File \u001b[0;32m/opt/homebrew/anaconda3/lib/python3.9/site-packages/IPython/core/display_functions.py:298\u001b[0m, in \u001b[0;36mdisplay\u001b[0;34m(include, exclude, metadata, transient, display_id, raw, clear, *objs, **kwargs)\u001b[0m\n\u001b[1;32m    296\u001b[0m     publish_display_data(data\u001b[38;5;241m=\u001b[39mobj, metadata\u001b[38;5;241m=\u001b[39mmetadata, \u001b[38;5;241m*\u001b[39m\u001b[38;5;241m*\u001b[39mkwargs)\n\u001b[1;32m    297\u001b[0m \u001b[38;5;28;01melse\u001b[39;00m:\n\u001b[0;32m--> 298\u001b[0m     format_dict, md_dict \u001b[38;5;241m=\u001b[39m \u001b[38;5;28;43mformat\u001b[39;49m\u001b[43m(\u001b[49m\u001b[43mobj\u001b[49m\u001b[43m,\u001b[49m\u001b[43m \u001b[49m\u001b[43minclude\u001b[49m\u001b[38;5;241;43m=\u001b[39;49m\u001b[43minclude\u001b[49m\u001b[43m,\u001b[49m\u001b[43m \u001b[49m\u001b[43mexclude\u001b[49m\u001b[38;5;241;43m=\u001b[39;49m\u001b[43mexclude\u001b[49m\u001b[43m)\u001b[49m\n\u001b[1;32m    299\u001b[0m     \u001b[38;5;28;01mif\u001b[39;00m \u001b[38;5;129;01mnot\u001b[39;00m format_dict:\n\u001b[1;32m    300\u001b[0m         \u001b[38;5;66;03m# nothing to display (e.g. _ipython_display_ took over)\u001b[39;00m\n\u001b[1;32m    301\u001b[0m         \u001b[38;5;28;01mcontinue\u001b[39;00m\n",
      "File \u001b[0;32m/opt/homebrew/anaconda3/lib/python3.9/site-packages/IPython/core/formatters.py:178\u001b[0m, in \u001b[0;36mDisplayFormatter.format\u001b[0;34m(self, obj, include, exclude)\u001b[0m\n\u001b[1;32m    176\u001b[0m md \u001b[38;5;241m=\u001b[39m \u001b[38;5;28;01mNone\u001b[39;00m\n\u001b[1;32m    177\u001b[0m \u001b[38;5;28;01mtry\u001b[39;00m:\n\u001b[0;32m--> 178\u001b[0m     data \u001b[38;5;241m=\u001b[39m \u001b[43mformatter\u001b[49m\u001b[43m(\u001b[49m\u001b[43mobj\u001b[49m\u001b[43m)\u001b[49m\n\u001b[1;32m    179\u001b[0m \u001b[38;5;28;01mexcept\u001b[39;00m:\n\u001b[1;32m    180\u001b[0m     \u001b[38;5;66;03m# FIXME: log the exception\u001b[39;00m\n\u001b[1;32m    181\u001b[0m     \u001b[38;5;28;01mraise\u001b[39;00m\n",
      "File \u001b[0;32m/opt/homebrew/anaconda3/lib/python3.9/site-packages/decorator.py:232\u001b[0m, in \u001b[0;36mdecorate.<locals>.fun\u001b[0;34m(*args, **kw)\u001b[0m\n\u001b[1;32m    230\u001b[0m \u001b[38;5;28;01mif\u001b[39;00m \u001b[38;5;129;01mnot\u001b[39;00m kwsyntax:\n\u001b[1;32m    231\u001b[0m     args, kw \u001b[38;5;241m=\u001b[39m fix(args, kw, sig)\n\u001b[0;32m--> 232\u001b[0m \u001b[38;5;28;01mreturn\u001b[39;00m \u001b[43mcaller\u001b[49m\u001b[43m(\u001b[49m\u001b[43mfunc\u001b[49m\u001b[43m,\u001b[49m\u001b[43m \u001b[49m\u001b[38;5;241;43m*\u001b[39;49m\u001b[43m(\u001b[49m\u001b[43mextras\u001b[49m\u001b[43m \u001b[49m\u001b[38;5;241;43m+\u001b[39;49m\u001b[43m \u001b[49m\u001b[43margs\u001b[49m\u001b[43m)\u001b[49m\u001b[43m,\u001b[49m\u001b[43m \u001b[49m\u001b[38;5;241;43m*\u001b[39;49m\u001b[38;5;241;43m*\u001b[39;49m\u001b[43mkw\u001b[49m\u001b[43m)\u001b[49m\n",
      "File \u001b[0;32m/opt/homebrew/anaconda3/lib/python3.9/site-packages/IPython/core/formatters.py:222\u001b[0m, in \u001b[0;36mcatch_format_error\u001b[0;34m(method, self, *args, **kwargs)\u001b[0m\n\u001b[1;32m    220\u001b[0m \u001b[38;5;124;03m\"\"\"show traceback on failed format call\"\"\"\u001b[39;00m\n\u001b[1;32m    221\u001b[0m \u001b[38;5;28;01mtry\u001b[39;00m:\n\u001b[0;32m--> 222\u001b[0m     r \u001b[38;5;241m=\u001b[39m \u001b[43mmethod\u001b[49m\u001b[43m(\u001b[49m\u001b[38;5;28;43mself\u001b[39;49m\u001b[43m,\u001b[49m\u001b[43m \u001b[49m\u001b[38;5;241;43m*\u001b[39;49m\u001b[43margs\u001b[49m\u001b[43m,\u001b[49m\u001b[43m \u001b[49m\u001b[38;5;241;43m*\u001b[39;49m\u001b[38;5;241;43m*\u001b[39;49m\u001b[43mkwargs\u001b[49m\u001b[43m)\u001b[49m\n\u001b[1;32m    223\u001b[0m \u001b[38;5;28;01mexcept\u001b[39;00m \u001b[38;5;167;01mNotImplementedError\u001b[39;00m:\n\u001b[1;32m    224\u001b[0m     \u001b[38;5;66;03m# don't warn on NotImplementedErrors\u001b[39;00m\n\u001b[1;32m    225\u001b[0m     \u001b[38;5;28;01mreturn\u001b[39;00m \u001b[38;5;28mself\u001b[39m\u001b[38;5;241m.\u001b[39m_check_return(\u001b[38;5;28;01mNone\u001b[39;00m, args[\u001b[38;5;241m0\u001b[39m])\n",
      "File \u001b[0;32m/opt/homebrew/anaconda3/lib/python3.9/site-packages/IPython/core/formatters.py:339\u001b[0m, in \u001b[0;36mBaseFormatter.__call__\u001b[0;34m(self, obj)\u001b[0m\n\u001b[1;32m    337\u001b[0m     \u001b[38;5;28;01mpass\u001b[39;00m\n\u001b[1;32m    338\u001b[0m \u001b[38;5;28;01melse\u001b[39;00m:\n\u001b[0;32m--> 339\u001b[0m     \u001b[38;5;28;01mreturn\u001b[39;00m \u001b[43mprinter\u001b[49m\u001b[43m(\u001b[49m\u001b[43mobj\u001b[49m\u001b[43m)\u001b[49m\n\u001b[1;32m    340\u001b[0m \u001b[38;5;66;03m# Finally look for special method names\u001b[39;00m\n\u001b[1;32m    341\u001b[0m method \u001b[38;5;241m=\u001b[39m get_real_method(obj, \u001b[38;5;28mself\u001b[39m\u001b[38;5;241m.\u001b[39mprint_method)\n",
      "File \u001b[0;32m/opt/homebrew/anaconda3/lib/python3.9/site-packages/IPython/core/pylabtools.py:151\u001b[0m, in \u001b[0;36mprint_figure\u001b[0;34m(fig, fmt, bbox_inches, base64, **kwargs)\u001b[0m\n\u001b[1;32m    148\u001b[0m     \u001b[38;5;28;01mfrom\u001b[39;00m \u001b[38;5;21;01mmatplotlib\u001b[39;00m\u001b[38;5;21;01m.\u001b[39;00m\u001b[38;5;21;01mbackend_bases\u001b[39;00m \u001b[38;5;28;01mimport\u001b[39;00m FigureCanvasBase\n\u001b[1;32m    149\u001b[0m     FigureCanvasBase(fig)\n\u001b[0;32m--> 151\u001b[0m \u001b[43mfig\u001b[49m\u001b[38;5;241;43m.\u001b[39;49m\u001b[43mcanvas\u001b[49m\u001b[38;5;241;43m.\u001b[39;49m\u001b[43mprint_figure\u001b[49m\u001b[43m(\u001b[49m\u001b[43mbytes_io\u001b[49m\u001b[43m,\u001b[49m\u001b[43m \u001b[49m\u001b[38;5;241;43m*\u001b[39;49m\u001b[38;5;241;43m*\u001b[39;49m\u001b[43mkw\u001b[49m\u001b[43m)\u001b[49m\n\u001b[1;32m    152\u001b[0m data \u001b[38;5;241m=\u001b[39m bytes_io\u001b[38;5;241m.\u001b[39mgetvalue()\n\u001b[1;32m    153\u001b[0m \u001b[38;5;28;01mif\u001b[39;00m fmt \u001b[38;5;241m==\u001b[39m \u001b[38;5;124m'\u001b[39m\u001b[38;5;124msvg\u001b[39m\u001b[38;5;124m'\u001b[39m:\n",
      "File \u001b[0;32m/opt/homebrew/anaconda3/lib/python3.9/site-packages/matplotlib/backend_bases.py:2295\u001b[0m, in \u001b[0;36mFigureCanvasBase.print_figure\u001b[0;34m(self, filename, dpi, facecolor, edgecolor, orientation, format, bbox_inches, pad_inches, bbox_extra_artists, backend, **kwargs)\u001b[0m\n\u001b[1;32m   2289\u001b[0m     renderer \u001b[38;5;241m=\u001b[39m _get_renderer(\n\u001b[1;32m   2290\u001b[0m         \u001b[38;5;28mself\u001b[39m\u001b[38;5;241m.\u001b[39mfigure,\n\u001b[1;32m   2291\u001b[0m         functools\u001b[38;5;241m.\u001b[39mpartial(\n\u001b[1;32m   2292\u001b[0m             print_method, orientation\u001b[38;5;241m=\u001b[39morientation)\n\u001b[1;32m   2293\u001b[0m     )\n\u001b[1;32m   2294\u001b[0m     \u001b[38;5;28;01mwith\u001b[39;00m \u001b[38;5;28mgetattr\u001b[39m(renderer, \u001b[38;5;124m\"\u001b[39m\u001b[38;5;124m_draw_disabled\u001b[39m\u001b[38;5;124m\"\u001b[39m, nullcontext)():\n\u001b[0;32m-> 2295\u001b[0m         \u001b[38;5;28;43mself\u001b[39;49m\u001b[38;5;241;43m.\u001b[39;49m\u001b[43mfigure\u001b[49m\u001b[38;5;241;43m.\u001b[39;49m\u001b[43mdraw\u001b[49m\u001b[43m(\u001b[49m\u001b[43mrenderer\u001b[49m\u001b[43m)\u001b[49m\n\u001b[1;32m   2297\u001b[0m \u001b[38;5;28;01mif\u001b[39;00m bbox_inches:\n\u001b[1;32m   2298\u001b[0m     \u001b[38;5;28;01mif\u001b[39;00m bbox_inches \u001b[38;5;241m==\u001b[39m \u001b[38;5;124m\"\u001b[39m\u001b[38;5;124mtight\u001b[39m\u001b[38;5;124m\"\u001b[39m:\n",
      "File \u001b[0;32m/opt/homebrew/anaconda3/lib/python3.9/site-packages/matplotlib/artist.py:73\u001b[0m, in \u001b[0;36m_finalize_rasterization.<locals>.draw_wrapper\u001b[0;34m(artist, renderer, *args, **kwargs)\u001b[0m\n\u001b[1;32m     71\u001b[0m \u001b[38;5;129m@wraps\u001b[39m(draw)\n\u001b[1;32m     72\u001b[0m \u001b[38;5;28;01mdef\u001b[39;00m \u001b[38;5;21mdraw_wrapper\u001b[39m(artist, renderer, \u001b[38;5;241m*\u001b[39margs, \u001b[38;5;241m*\u001b[39m\u001b[38;5;241m*\u001b[39mkwargs):\n\u001b[0;32m---> 73\u001b[0m     result \u001b[38;5;241m=\u001b[39m \u001b[43mdraw\u001b[49m\u001b[43m(\u001b[49m\u001b[43martist\u001b[49m\u001b[43m,\u001b[49m\u001b[43m \u001b[49m\u001b[43mrenderer\u001b[49m\u001b[43m,\u001b[49m\u001b[43m \u001b[49m\u001b[38;5;241;43m*\u001b[39;49m\u001b[43margs\u001b[49m\u001b[43m,\u001b[49m\u001b[43m \u001b[49m\u001b[38;5;241;43m*\u001b[39;49m\u001b[38;5;241;43m*\u001b[39;49m\u001b[43mkwargs\u001b[49m\u001b[43m)\u001b[49m\n\u001b[1;32m     74\u001b[0m     \u001b[38;5;28;01mif\u001b[39;00m renderer\u001b[38;5;241m.\u001b[39m_rasterizing:\n\u001b[1;32m     75\u001b[0m         renderer\u001b[38;5;241m.\u001b[39mstop_rasterizing()\n",
      "File \u001b[0;32m/opt/homebrew/anaconda3/lib/python3.9/site-packages/matplotlib/artist.py:50\u001b[0m, in \u001b[0;36mallow_rasterization.<locals>.draw_wrapper\u001b[0;34m(artist, renderer)\u001b[0m\n\u001b[1;32m     47\u001b[0m     \u001b[38;5;28;01mif\u001b[39;00m artist\u001b[38;5;241m.\u001b[39mget_agg_filter() \u001b[38;5;129;01mis\u001b[39;00m \u001b[38;5;129;01mnot\u001b[39;00m \u001b[38;5;28;01mNone\u001b[39;00m:\n\u001b[1;32m     48\u001b[0m         renderer\u001b[38;5;241m.\u001b[39mstart_filter()\n\u001b[0;32m---> 50\u001b[0m     \u001b[38;5;28;01mreturn\u001b[39;00m \u001b[43mdraw\u001b[49m\u001b[43m(\u001b[49m\u001b[43martist\u001b[49m\u001b[43m,\u001b[49m\u001b[43m \u001b[49m\u001b[43mrenderer\u001b[49m\u001b[43m)\u001b[49m\n\u001b[1;32m     51\u001b[0m \u001b[38;5;28;01mfinally\u001b[39;00m:\n\u001b[1;32m     52\u001b[0m     \u001b[38;5;28;01mif\u001b[39;00m artist\u001b[38;5;241m.\u001b[39mget_agg_filter() \u001b[38;5;129;01mis\u001b[39;00m \u001b[38;5;129;01mnot\u001b[39;00m \u001b[38;5;28;01mNone\u001b[39;00m:\n",
      "File \u001b[0;32m/opt/homebrew/anaconda3/lib/python3.9/site-packages/matplotlib/figure.py:2810\u001b[0m, in \u001b[0;36mFigure.draw\u001b[0;34m(self, renderer)\u001b[0m\n\u001b[1;32m   2807\u001b[0m         \u001b[38;5;66;03m# ValueError can occur when resizing a window.\u001b[39;00m\n\u001b[1;32m   2809\u001b[0m \u001b[38;5;28mself\u001b[39m\u001b[38;5;241m.\u001b[39mpatch\u001b[38;5;241m.\u001b[39mdraw(renderer)\n\u001b[0;32m-> 2810\u001b[0m \u001b[43mmimage\u001b[49m\u001b[38;5;241;43m.\u001b[39;49m\u001b[43m_draw_list_compositing_images\u001b[49m\u001b[43m(\u001b[49m\n\u001b[1;32m   2811\u001b[0m \u001b[43m    \u001b[49m\u001b[43mrenderer\u001b[49m\u001b[43m,\u001b[49m\u001b[43m \u001b[49m\u001b[38;5;28;43mself\u001b[39;49m\u001b[43m,\u001b[49m\u001b[43m \u001b[49m\u001b[43martists\u001b[49m\u001b[43m,\u001b[49m\u001b[43m \u001b[49m\u001b[38;5;28;43mself\u001b[39;49m\u001b[38;5;241;43m.\u001b[39;49m\u001b[43msuppressComposite\u001b[49m\u001b[43m)\u001b[49m\n\u001b[1;32m   2813\u001b[0m \u001b[38;5;28;01mfor\u001b[39;00m sfig \u001b[38;5;129;01min\u001b[39;00m \u001b[38;5;28mself\u001b[39m\u001b[38;5;241m.\u001b[39msubfigs:\n\u001b[1;32m   2814\u001b[0m     sfig\u001b[38;5;241m.\u001b[39mdraw(renderer)\n",
      "File \u001b[0;32m/opt/homebrew/anaconda3/lib/python3.9/site-packages/matplotlib/image.py:132\u001b[0m, in \u001b[0;36m_draw_list_compositing_images\u001b[0;34m(renderer, parent, artists, suppress_composite)\u001b[0m\n\u001b[1;32m    130\u001b[0m \u001b[38;5;28;01mif\u001b[39;00m not_composite \u001b[38;5;129;01mor\u001b[39;00m \u001b[38;5;129;01mnot\u001b[39;00m has_images:\n\u001b[1;32m    131\u001b[0m     \u001b[38;5;28;01mfor\u001b[39;00m a \u001b[38;5;129;01min\u001b[39;00m artists:\n\u001b[0;32m--> 132\u001b[0m         \u001b[43ma\u001b[49m\u001b[38;5;241;43m.\u001b[39;49m\u001b[43mdraw\u001b[49m\u001b[43m(\u001b[49m\u001b[43mrenderer\u001b[49m\u001b[43m)\u001b[49m\n\u001b[1;32m    133\u001b[0m \u001b[38;5;28;01melse\u001b[39;00m:\n\u001b[1;32m    134\u001b[0m     \u001b[38;5;66;03m# Composite any adjacent images together\u001b[39;00m\n\u001b[1;32m    135\u001b[0m     image_group \u001b[38;5;241m=\u001b[39m []\n",
      "File \u001b[0;32m/opt/homebrew/anaconda3/lib/python3.9/site-packages/matplotlib/artist.py:50\u001b[0m, in \u001b[0;36mallow_rasterization.<locals>.draw_wrapper\u001b[0;34m(artist, renderer)\u001b[0m\n\u001b[1;32m     47\u001b[0m     \u001b[38;5;28;01mif\u001b[39;00m artist\u001b[38;5;241m.\u001b[39mget_agg_filter() \u001b[38;5;129;01mis\u001b[39;00m \u001b[38;5;129;01mnot\u001b[39;00m \u001b[38;5;28;01mNone\u001b[39;00m:\n\u001b[1;32m     48\u001b[0m         renderer\u001b[38;5;241m.\u001b[39mstart_filter()\n\u001b[0;32m---> 50\u001b[0m     \u001b[38;5;28;01mreturn\u001b[39;00m \u001b[43mdraw\u001b[49m\u001b[43m(\u001b[49m\u001b[43martist\u001b[49m\u001b[43m,\u001b[49m\u001b[43m \u001b[49m\u001b[43mrenderer\u001b[49m\u001b[43m)\u001b[49m\n\u001b[1;32m     51\u001b[0m \u001b[38;5;28;01mfinally\u001b[39;00m:\n\u001b[1;32m     52\u001b[0m     \u001b[38;5;28;01mif\u001b[39;00m artist\u001b[38;5;241m.\u001b[39mget_agg_filter() \u001b[38;5;129;01mis\u001b[39;00m \u001b[38;5;129;01mnot\u001b[39;00m \u001b[38;5;28;01mNone\u001b[39;00m:\n",
      "File \u001b[0;32m/opt/homebrew/anaconda3/lib/python3.9/site-packages/matplotlib/axes/_base.py:3046\u001b[0m, in \u001b[0;36m_AxesBase.draw\u001b[0;34m(self, renderer)\u001b[0m\n\u001b[1;32m   3043\u001b[0m     \u001b[38;5;28;01mfor\u001b[39;00m spine \u001b[38;5;129;01min\u001b[39;00m \u001b[38;5;28mself\u001b[39m\u001b[38;5;241m.\u001b[39mspines\u001b[38;5;241m.\u001b[39mvalues():\n\u001b[1;32m   3044\u001b[0m         artists\u001b[38;5;241m.\u001b[39mremove(spine)\n\u001b[0;32m-> 3046\u001b[0m \u001b[38;5;28;43mself\u001b[39;49m\u001b[38;5;241;43m.\u001b[39;49m\u001b[43m_update_title_position\u001b[49m\u001b[43m(\u001b[49m\u001b[43mrenderer\u001b[49m\u001b[43m)\u001b[49m\n\u001b[1;32m   3048\u001b[0m \u001b[38;5;28;01mif\u001b[39;00m \u001b[38;5;129;01mnot\u001b[39;00m \u001b[38;5;28mself\u001b[39m\u001b[38;5;241m.\u001b[39maxison:\n\u001b[1;32m   3049\u001b[0m     \u001b[38;5;28;01mfor\u001b[39;00m _axis \u001b[38;5;129;01min\u001b[39;00m \u001b[38;5;28mself\u001b[39m\u001b[38;5;241m.\u001b[39m_get_axis_list():\n",
      "File \u001b[0;32m/opt/homebrew/anaconda3/lib/python3.9/site-packages/matplotlib/axes/_base.py:2986\u001b[0m, in \u001b[0;36m_AxesBase._update_title_position\u001b[0;34m(self, renderer)\u001b[0m\n\u001b[1;32m   2983\u001b[0m \u001b[38;5;28;01mfor\u001b[39;00m ax \u001b[38;5;129;01min\u001b[39;00m axs:\n\u001b[1;32m   2984\u001b[0m     \u001b[38;5;28;01mif\u001b[39;00m (ax\u001b[38;5;241m.\u001b[39mxaxis\u001b[38;5;241m.\u001b[39mget_ticks_position() \u001b[38;5;129;01min\u001b[39;00m [\u001b[38;5;124m'\u001b[39m\u001b[38;5;124mtop\u001b[39m\u001b[38;5;124m'\u001b[39m, \u001b[38;5;124m'\u001b[39m\u001b[38;5;124munknown\u001b[39m\u001b[38;5;124m'\u001b[39m]\n\u001b[1;32m   2985\u001b[0m             \u001b[38;5;129;01mor\u001b[39;00m ax\u001b[38;5;241m.\u001b[39mxaxis\u001b[38;5;241m.\u001b[39mget_label_position() \u001b[38;5;241m==\u001b[39m \u001b[38;5;124m'\u001b[39m\u001b[38;5;124mtop\u001b[39m\u001b[38;5;124m'\u001b[39m):\n\u001b[0;32m-> 2986\u001b[0m         bb \u001b[38;5;241m=\u001b[39m \u001b[43max\u001b[49m\u001b[38;5;241;43m.\u001b[39;49m\u001b[43mxaxis\u001b[49m\u001b[38;5;241;43m.\u001b[39;49m\u001b[43mget_tightbbox\u001b[49m\u001b[43m(\u001b[49m\u001b[43mrenderer\u001b[49m\u001b[43m)\u001b[49m\n\u001b[1;32m   2987\u001b[0m     \u001b[38;5;28;01melse\u001b[39;00m:\n\u001b[1;32m   2988\u001b[0m         bb \u001b[38;5;241m=\u001b[39m ax\u001b[38;5;241m.\u001b[39mget_window_extent(renderer)\n",
      "File \u001b[0;32m/opt/homebrew/anaconda3/lib/python3.9/site-packages/matplotlib/axis.py:1105\u001b[0m, in \u001b[0;36mAxis.get_tightbbox\u001b[0;34m(self, renderer, for_layout_only)\u001b[0m\n\u001b[1;32m   1101\u001b[0m     \u001b[38;5;28;01mreturn\u001b[39;00m\n\u001b[1;32m   1103\u001b[0m ticks_to_draw \u001b[38;5;241m=\u001b[39m \u001b[38;5;28mself\u001b[39m\u001b[38;5;241m.\u001b[39m_update_ticks()\n\u001b[0;32m-> 1105\u001b[0m \u001b[38;5;28;43mself\u001b[39;49m\u001b[38;5;241;43m.\u001b[39;49m\u001b[43m_update_label_position\u001b[49m\u001b[43m(\u001b[49m\u001b[43mrenderer\u001b[49m\u001b[43m)\u001b[49m\n\u001b[1;32m   1107\u001b[0m \u001b[38;5;66;03m# go back to just this axis's tick labels\u001b[39;00m\n\u001b[1;32m   1108\u001b[0m ticklabelBoxes, ticklabelBoxes2 \u001b[38;5;241m=\u001b[39m \u001b[38;5;28mself\u001b[39m\u001b[38;5;241m.\u001b[39m_get_tick_bboxes(\n\u001b[1;32m   1109\u001b[0m             ticks_to_draw, renderer)\n",
      "File \u001b[0;32m/opt/homebrew/anaconda3/lib/python3.9/site-packages/matplotlib/axis.py:2083\u001b[0m, in \u001b[0;36mXAxis._update_label_position\u001b[0;34m(self, renderer)\u001b[0m\n\u001b[1;32m   2079\u001b[0m     \u001b[38;5;28;01mreturn\u001b[39;00m\n\u001b[1;32m   2081\u001b[0m \u001b[38;5;66;03m# get bounding boxes for this axis and any siblings\u001b[39;00m\n\u001b[1;32m   2082\u001b[0m \u001b[38;5;66;03m# that have been set by `fig.align_xlabels()`\u001b[39;00m\n\u001b[0;32m-> 2083\u001b[0m bboxes, bboxes2 \u001b[38;5;241m=\u001b[39m \u001b[38;5;28;43mself\u001b[39;49m\u001b[38;5;241;43m.\u001b[39;49m\u001b[43m_get_tick_boxes_siblings\u001b[49m\u001b[43m(\u001b[49m\u001b[43mrenderer\u001b[49m\u001b[38;5;241;43m=\u001b[39;49m\u001b[43mrenderer\u001b[49m\u001b[43m)\u001b[49m\n\u001b[1;32m   2085\u001b[0m x, y \u001b[38;5;241m=\u001b[39m \u001b[38;5;28mself\u001b[39m\u001b[38;5;241m.\u001b[39mlabel\u001b[38;5;241m.\u001b[39mget_position()\n\u001b[1;32m   2086\u001b[0m \u001b[38;5;28;01mif\u001b[39;00m \u001b[38;5;28mself\u001b[39m\u001b[38;5;241m.\u001b[39mlabel_position \u001b[38;5;241m==\u001b[39m \u001b[38;5;124m'\u001b[39m\u001b[38;5;124mbottom\u001b[39m\u001b[38;5;124m'\u001b[39m:\n",
      "File \u001b[0;32m/opt/homebrew/anaconda3/lib/python3.9/site-packages/matplotlib/axis.py:1881\u001b[0m, in \u001b[0;36mAxis._get_tick_boxes_siblings\u001b[0;34m(self, renderer)\u001b[0m\n\u001b[1;32m   1879\u001b[0m axis \u001b[38;5;241m=\u001b[39m \u001b[38;5;28mgetattr\u001b[39m(ax, \u001b[38;5;124mf\u001b[39m\u001b[38;5;124m\"\u001b[39m\u001b[38;5;132;01m{\u001b[39;00maxis_name\u001b[38;5;132;01m}\u001b[39;00m\u001b[38;5;124maxis\u001b[39m\u001b[38;5;124m\"\u001b[39m)\n\u001b[1;32m   1880\u001b[0m ticks_to_draw \u001b[38;5;241m=\u001b[39m axis\u001b[38;5;241m.\u001b[39m_update_ticks()\n\u001b[0;32m-> 1881\u001b[0m tlb, tlb2 \u001b[38;5;241m=\u001b[39m \u001b[43maxis\u001b[49m\u001b[38;5;241;43m.\u001b[39;49m\u001b[43m_get_tick_bboxes\u001b[49m\u001b[43m(\u001b[49m\u001b[43mticks_to_draw\u001b[49m\u001b[43m,\u001b[49m\u001b[43m \u001b[49m\u001b[43mrenderer\u001b[49m\u001b[43m)\u001b[49m\n\u001b[1;32m   1882\u001b[0m bboxes\u001b[38;5;241m.\u001b[39mextend(tlb)\n\u001b[1;32m   1883\u001b[0m bboxes2\u001b[38;5;241m.\u001b[39mextend(tlb2)\n",
      "File \u001b[0;32m/opt/homebrew/anaconda3/lib/python3.9/site-packages/matplotlib/axis.py:1085\u001b[0m, in \u001b[0;36mAxis._get_tick_bboxes\u001b[0;34m(self, ticks, renderer)\u001b[0m\n\u001b[1;32m   1083\u001b[0m \u001b[38;5;28;01mdef\u001b[39;00m \u001b[38;5;21m_get_tick_bboxes\u001b[39m(\u001b[38;5;28mself\u001b[39m, ticks, renderer):\n\u001b[1;32m   1084\u001b[0m     \u001b[38;5;124;03m\"\"\"Return lists of bboxes for ticks' label1's and label2's.\"\"\"\u001b[39;00m\n\u001b[0;32m-> 1085\u001b[0m     \u001b[38;5;28;01mreturn\u001b[39;00m ([tick\u001b[38;5;241m.\u001b[39mlabel1\u001b[38;5;241m.\u001b[39mget_window_extent(renderer)\n\u001b[1;32m   1086\u001b[0m              \u001b[38;5;28;01mfor\u001b[39;00m tick \u001b[38;5;129;01min\u001b[39;00m ticks \u001b[38;5;28;01mif\u001b[39;00m tick\u001b[38;5;241m.\u001b[39mlabel1\u001b[38;5;241m.\u001b[39mget_visible()],\n\u001b[1;32m   1087\u001b[0m             [tick\u001b[38;5;241m.\u001b[39mlabel2\u001b[38;5;241m.\u001b[39mget_window_extent(renderer)\n\u001b[1;32m   1088\u001b[0m              \u001b[38;5;28;01mfor\u001b[39;00m tick \u001b[38;5;129;01min\u001b[39;00m ticks \u001b[38;5;28;01mif\u001b[39;00m tick\u001b[38;5;241m.\u001b[39mlabel2\u001b[38;5;241m.\u001b[39mget_visible()])\n",
      "File \u001b[0;32m/opt/homebrew/anaconda3/lib/python3.9/site-packages/matplotlib/axis.py:1085\u001b[0m, in \u001b[0;36m<listcomp>\u001b[0;34m(.0)\u001b[0m\n\u001b[1;32m   1083\u001b[0m \u001b[38;5;28;01mdef\u001b[39;00m \u001b[38;5;21m_get_tick_bboxes\u001b[39m(\u001b[38;5;28mself\u001b[39m, ticks, renderer):\n\u001b[1;32m   1084\u001b[0m     \u001b[38;5;124;03m\"\"\"Return lists of bboxes for ticks' label1's and label2's.\"\"\"\u001b[39;00m\n\u001b[0;32m-> 1085\u001b[0m     \u001b[38;5;28;01mreturn\u001b[39;00m ([\u001b[43mtick\u001b[49m\u001b[38;5;241;43m.\u001b[39;49m\u001b[43mlabel1\u001b[49m\u001b[38;5;241;43m.\u001b[39;49m\u001b[43mget_window_extent\u001b[49m\u001b[43m(\u001b[49m\u001b[43mrenderer\u001b[49m\u001b[43m)\u001b[49m\n\u001b[1;32m   1086\u001b[0m              \u001b[38;5;28;01mfor\u001b[39;00m tick \u001b[38;5;129;01min\u001b[39;00m ticks \u001b[38;5;28;01mif\u001b[39;00m tick\u001b[38;5;241m.\u001b[39mlabel1\u001b[38;5;241m.\u001b[39mget_visible()],\n\u001b[1;32m   1087\u001b[0m             [tick\u001b[38;5;241m.\u001b[39mlabel2\u001b[38;5;241m.\u001b[39mget_window_extent(renderer)\n\u001b[1;32m   1088\u001b[0m              \u001b[38;5;28;01mfor\u001b[39;00m tick \u001b[38;5;129;01min\u001b[39;00m ticks \u001b[38;5;28;01mif\u001b[39;00m tick\u001b[38;5;241m.\u001b[39mlabel2\u001b[38;5;241m.\u001b[39mget_visible()])\n",
      "File \u001b[0;32m/opt/homebrew/anaconda3/lib/python3.9/site-packages/matplotlib/text.py:910\u001b[0m, in \u001b[0;36mText.get_window_extent\u001b[0;34m(self, renderer, dpi)\u001b[0m\n\u001b[1;32m    907\u001b[0m     \u001b[38;5;28;01mraise\u001b[39;00m \u001b[38;5;167;01mRuntimeError\u001b[39;00m(\u001b[38;5;124m'\u001b[39m\u001b[38;5;124mCannot get window extent w/o renderer\u001b[39m\u001b[38;5;124m'\u001b[39m)\n\u001b[1;32m    909\u001b[0m \u001b[38;5;28;01mwith\u001b[39;00m cbook\u001b[38;5;241m.\u001b[39m_setattr_cm(\u001b[38;5;28mself\u001b[39m\u001b[38;5;241m.\u001b[39mfigure, dpi\u001b[38;5;241m=\u001b[39mdpi):\n\u001b[0;32m--> 910\u001b[0m     bbox, info, descent \u001b[38;5;241m=\u001b[39m \u001b[38;5;28;43mself\u001b[39;49m\u001b[38;5;241;43m.\u001b[39;49m\u001b[43m_get_layout\u001b[49m\u001b[43m(\u001b[49m\u001b[38;5;28;43mself\u001b[39;49m\u001b[38;5;241;43m.\u001b[39;49m\u001b[43m_renderer\u001b[49m\u001b[43m)\u001b[49m\n\u001b[1;32m    911\u001b[0m     x, y \u001b[38;5;241m=\u001b[39m \u001b[38;5;28mself\u001b[39m\u001b[38;5;241m.\u001b[39mget_unitless_position()\n\u001b[1;32m    912\u001b[0m     x, y \u001b[38;5;241m=\u001b[39m \u001b[38;5;28mself\u001b[39m\u001b[38;5;241m.\u001b[39mget_transform()\u001b[38;5;241m.\u001b[39mtransform((x, y))\n",
      "File \u001b[0;32m/opt/homebrew/anaconda3/lib/python3.9/site-packages/matplotlib/text.py:317\u001b[0m, in \u001b[0;36mText._get_layout\u001b[0;34m(self, renderer)\u001b[0m\n\u001b[1;32m    315\u001b[0m clean_line, ismath \u001b[38;5;241m=\u001b[39m \u001b[38;5;28mself\u001b[39m\u001b[38;5;241m.\u001b[39m_preprocess_math(line)\n\u001b[1;32m    316\u001b[0m \u001b[38;5;28;01mif\u001b[39;00m clean_line:\n\u001b[0;32m--> 317\u001b[0m     w, h, d \u001b[38;5;241m=\u001b[39m \u001b[43mrenderer\u001b[49m\u001b[38;5;241;43m.\u001b[39;49m\u001b[43mget_text_width_height_descent\u001b[49m\u001b[43m(\u001b[49m\n\u001b[1;32m    318\u001b[0m \u001b[43m        \u001b[49m\u001b[43mclean_line\u001b[49m\u001b[43m,\u001b[49m\u001b[43m \u001b[49m\u001b[38;5;28;43mself\u001b[39;49m\u001b[38;5;241;43m.\u001b[39;49m\u001b[43m_fontproperties\u001b[49m\u001b[43m,\u001b[49m\u001b[43m \u001b[49m\u001b[43mismath\u001b[49m\u001b[38;5;241;43m=\u001b[39;49m\u001b[43mismath\u001b[49m\u001b[43m)\u001b[49m\n\u001b[1;32m    319\u001b[0m \u001b[38;5;28;01melse\u001b[39;00m:\n\u001b[1;32m    320\u001b[0m     w \u001b[38;5;241m=\u001b[39m h \u001b[38;5;241m=\u001b[39m d \u001b[38;5;241m=\u001b[39m \u001b[38;5;241m0\u001b[39m\n",
      "File \u001b[0;32m/opt/homebrew/anaconda3/lib/python3.9/site-packages/matplotlib/backends/backend_agg.py:270\u001b[0m, in \u001b[0;36mRendererAgg.get_text_width_height_descent\u001b[0;34m(self, s, prop, ismath)\u001b[0m\n\u001b[1;32m    268\u001b[0m flags \u001b[38;5;241m=\u001b[39m get_hinting_flag()\n\u001b[1;32m    269\u001b[0m font \u001b[38;5;241m=\u001b[39m \u001b[38;5;28mself\u001b[39m\u001b[38;5;241m.\u001b[39m_get_agg_font(prop)\n\u001b[0;32m--> 270\u001b[0m \u001b[43mfont\u001b[49m\u001b[38;5;241;43m.\u001b[39;49m\u001b[43mset_text\u001b[49m\u001b[43m(\u001b[49m\u001b[43ms\u001b[49m\u001b[43m,\u001b[49m\u001b[43m \u001b[49m\u001b[38;5;241;43m0.0\u001b[39;49m\u001b[43m,\u001b[49m\u001b[43m \u001b[49m\u001b[43mflags\u001b[49m\u001b[38;5;241;43m=\u001b[39;49m\u001b[43mflags\u001b[49m\u001b[43m)\u001b[49m\n\u001b[1;32m    271\u001b[0m w, h \u001b[38;5;241m=\u001b[39m font\u001b[38;5;241m.\u001b[39mget_width_height()  \u001b[38;5;66;03m# width and height of unrotated string\u001b[39;00m\n\u001b[1;32m    272\u001b[0m d \u001b[38;5;241m=\u001b[39m font\u001b[38;5;241m.\u001b[39mget_descent()\n",
      "\u001b[0;31mKeyboardInterrupt\u001b[0m: "
     ]
    }
   ],
   "source": [
    "sns.countplot(x=\"height_500_mb\", data = train).set(title='?')"
   ]
  },
  {
   "cell_type": "code",
   "execution_count": null,
   "id": "c426f29e",
   "metadata": {
    "scrolled": true
   },
   "outputs": [],
   "source": [
    "sns.histplot(data=train, x=\"potential_evap\")"
   ]
  },
  {
   "cell_type": "code",
   "execution_count": null,
   "id": "d7b9b3bc",
   "metadata": {},
   "outputs": [],
   "source": [
    "sns.histplot(data=train, x=\"barometric_pressure\")"
   ]
  },
  {
   "cell_type": "code",
   "execution_count": null,
   "id": "f5894064",
   "metadata": {},
   "outputs": [],
   "source": [
    "sns.histplot(data=train, x=\"all_atmos_precip\")"
   ]
  },
  {
   "cell_type": "code",
   "execution_count": null,
   "id": "d3178118",
   "metadata": {},
   "outputs": [],
   "source": [
    "sns.histplot(data=train, x=\"relative_humidity\")"
   ]
  },
  {
   "cell_type": "code",
   "execution_count": null,
   "id": "5d7d14b4",
   "metadata": {},
   "outputs": [],
   "source": [
    "sns.histplot(data=train, x=\"sea_level_press\")"
   ]
  },
  {
   "cell_type": "code",
   "execution_count": null,
   "id": "d58fad96",
   "metadata": {},
   "outputs": [],
   "source": [
    "sns.histplot(data=train, x=\"mean_temp\")"
   ]
  },
  {
   "cell_type": "code",
   "execution_count": null,
   "id": "7028bcd3",
   "metadata": {},
   "outputs": [],
   "source": [
    "sns.histplot(data=train, x=\"height_10_mb\")"
   ]
  },
  {
   "cell_type": "code",
   "execution_count": null,
   "id": "3834e6ef",
   "metadata": {},
   "outputs": [],
   "source": [
    "sns.histplot(data=train, x=\"height_100_mb\")"
   ]
  },
  {
   "cell_type": "code",
   "execution_count": null,
   "id": "d8bf0638",
   "metadata": {},
   "outputs": [],
   "source": [
    "sns.histplot(data=train, x=\"height_500_mb\")"
   ]
  },
  {
   "cell_type": "code",
   "execution_count": null,
   "id": "ca5b4815",
   "metadata": {},
   "outputs": [],
   "source": [
    "sns.histplot(data=train, x=\"height_850_mb\")"
   ]
  },
  {
   "cell_type": "code",
   "execution_count": null,
   "id": "f48e21f8",
   "metadata": {},
   "outputs": [],
   "source": [
    "sns.histplot(data=train, x=\"zonal_wind_250mb\")"
   ]
  },
  {
   "cell_type": "code",
   "execution_count": null,
   "id": "45a651d6",
   "metadata": {},
   "outputs": [],
   "source": [
    "sns.histplot(data=train, x=\"zonal_wind_925mb\")"
   ]
  },
  {
   "cell_type": "code",
   "execution_count": null,
   "id": "fb5d3045",
   "metadata": {},
   "outputs": [],
   "source": [
    "sns.histplot(data=train, x=\"long_wind_250mb\")"
   ]
  },
  {
   "cell_type": "code",
   "execution_count": null,
   "id": "b6987f00",
   "metadata": {},
   "outputs": [],
   "source": [
    "sns.histplot(data=train, x=\"long_wind_925mb\")"
   ]
  },
  {
   "cell_type": "code",
   "execution_count": null,
   "id": "d159c853",
   "metadata": {},
   "outputs": [],
   "source": [
    "fig, ax = plt.subplots(figsize=(10,10))      \n",
    "corr = train.corr()\n",
    "sns.heatmap(corr, annot=True, square=True)\n",
    "plt.yticks(rotation=0)\n",
    "plt.show()"
   ]
  },
  {
   "cell_type": "code",
   "execution_count": null,
   "id": "73f5ad2d",
   "metadata": {},
   "outputs": [],
   "source": [
    "train.groupby('region').mean_temp.mean()\n"
   ]
  },
  {
   "cell_type": "code",
   "execution_count": null,
   "id": "a69d73f1",
   "metadata": {},
   "outputs": [],
   "source": [
    "sns.countplot(x ='region', data = train).set(title='What is the distribution of the observations per Region?')"
   ]
  },
  {
   "cell_type": "raw",
   "id": "c21de28c",
   "metadata": {},
   "source": [
    "#maps the column region, so that the regions are numeric, \n",
    "train['region_encoded'] = train.region.map({'BSk':0,\n",
    "                                      'Dfb':1,\n",
    "                                      'Cfa':2,\n",
    "                                      'Csb':3,\n",
    "                                      'Dfa':4,\n",
    "                                      'BWk':5,\n",
    "                                      'Dfc':6,\n",
    "                                      'BWh':7,\n",
    "                                      'Csa':8,\n",
    "                                      'Dsb':9,\n",
    "                                      'BSh':10,\n",
    "                                      'Cfb':11,\n",
    "                                      'Dsc':12,\n",
    "                                      'Dwa':13,\n",
    "                                      'Dwb':14})"
   ]
  },
  {
   "cell_type": "code",
   "execution_count": null,
   "id": "aa60dfd3",
   "metadata": {},
   "outputs": [],
   "source": [
    "sns.barplot(x='height_500_mb', y='mean_temp', data= train)"
   ]
  },
  {
   "cell_type": "raw",
   "id": "9a438fa5",
   "metadata": {},
   "source": [
    "cats= ['region_encoded']\n",
    "target = ['mean_temp']\n",
    "def explore_cats(train, cats, target):\n",
    "    '''\n",
    "    This function takes:\n",
    "            train = train DataFrame\n",
    "            cats = category columns (as a list of strings)\n",
    "            target = target variable (as a string)\n",
    "    prints value counts for each category in each column\n",
    "    '''\n",
    "    for col in cats:\n",
    "        print(col)\n",
    "        print(train[col].value_counts())\n",
    "        print(train[col].value_counts(normalize=True)*100)\n",
    "        sns.countplot(x=col, data=train)\n",
    "        plt.title(col+' counts')\n",
    "        plt.show()\n",
    "    \n",
    "        sns.barplot(data=train, x=col, y=target)\n",
    "        rate = train[target].mean()\n",
    "        plt.axhline(rate, label= 'average ' + target + ' rate')\n",
    "        plt.legend()\n",
    "        plt.title(target+' rate by '+col)\n",
    "        plt.show()\n",
    "    \n",
    "        alpha = 0.05\n",
    "        o = pd.crosstab(train[col], train[target])\n",
    "        chi2, p, dof, e = stats.chi2_contingency(o)\n",
    "        result = p < alpha\n",
    "        print('P is less than alpha: '+result.astype('str'))\n",
    "        print('------------------------------------------------------------')"
   ]
  },
  {
   "cell_type": "raw",
   "id": "17cf5c97",
   "metadata": {},
   "source": [
    "explore_cats(train, cats, target)"
   ]
  },
  {
   "cell_type": "raw",
   "id": "59ebe636",
   "metadata": {},
   "source": [
    "Column names\n",
    "potential_evap\n",
    "precip\n",
    "barometric_pressure\n",
    "all_atmos_precip\n",
    "relative_humidity\n",
    "sea_level_press\n",
    "mean_temp\n",
    "height_10_mb\n",
    "height_100_mb\n",
    "height_500_mb\n",
    "height_850_mb\n",
    "zonal_wind_250mb\n",
    "zonal_wind_925mb\n",
    "long_wind_250mb\n",
    "long_wind_925mb"
   ]
  },
  {
   "cell_type": "code",
   "execution_count": null,
   "id": "1371e338",
   "metadata": {},
   "outputs": [],
   "source": [
    "train.head()"
   ]
  },
  {
   "cell_type": "code",
   "execution_count": null,
   "id": "796e7fd7",
   "metadata": {},
   "outputs": [],
   "source": [
    "train.head()"
   ]
  },
  {
   "cell_type": "code",
   "execution_count": null,
   "id": "ee0c71a0",
   "metadata": {},
   "outputs": [],
   "source": [
    "Dry = train[train.region_bins == 'Dry']\n",
    "Temperate = train[train.region_bins == 'Temperate']\n",
    "Continental = train[train.region_bins == 'Continental']"
   ]
  },
  {
   "cell_type": "code",
   "execution_count": null,
   "id": "31c4180c",
   "metadata": {},
   "outputs": [],
   "source": [
    "# Using + operator to combine two columns\n",
    "train[\"latlon\"] = train['lat'].astype(str) +\", \"+ train[\"lon\"].astype(str)"
   ]
  },
  {
   "cell_type": "code",
   "execution_count": null,
   "id": "83cedc26",
   "metadata": {},
   "outputs": [],
   "source": [
    "train.head()"
   ]
  },
  {
   "cell_type": "raw",
   "id": "96437e4b",
   "metadata": {},
   "source": [
    "The null hypothesis (H0): The median is the same for all the data groups.\n",
    "The alternative hypothesis: (Ha): The median is not equal for all the data groups.\n"
   ]
  },
  {
   "cell_type": "code",
   "execution_count": null,
   "id": "e294bfe1",
   "metadata": {},
   "outputs": [],
   "source": [
    "stats.kruskal(Dry.mean_temp, Temperate.mean_temp, Continental.mean_temp)"
   ]
  },
  {
   "cell_type": "code",
   "execution_count": null,
   "id": "916f8398",
   "metadata": {},
   "outputs": [],
   "source": [
    "train.groupby('region').latlon.value_counts()"
   ]
  },
  {
   "cell_type": "code",
   "execution_count": null,
   "id": "4cc98ceb",
   "metadata": {},
   "outputs": [],
   "source": [
    "sns.countplot(x ='region_bins', data = train).set(title='Are the 3 major regions represented equally?')"
   ]
  },
  {
   "cell_type": "code",
   "execution_count": null,
   "id": "cb5ecb87",
   "metadata": {},
   "outputs": [],
   "source": [
    "sns.barplot(data=train, x=\"height_500_mb\", y='mean_temp').set(title='?')"
   ]
  },
  {
   "cell_type": "code",
   "execution_count": null,
   "id": "ad2d27d5",
   "metadata": {},
   "outputs": [],
   "source": [
    "nums = ['potential_evap','precip','barometric_pressure','all_atmos_precip','relative_humidity','sea_level_press','mean_temp','height_10_mb','height_100_mb','height_500_mb','height_850_mb','zonal_wind_250mb','zonal_wind_925mb','long_wind_250mb','long_wind_925mb']\n",
    "target = ['mean_temp']"
   ]
  },
  {
   "cell_type": "code",
   "execution_count": null,
   "id": "fea96b5a",
   "metadata": {},
   "outputs": [],
   "source": [
    "def explore_nums(train, nums):\n",
    "    '''\n",
    "    This function takes in:\n",
    "            train = train DataFrame\n",
    "            nums = numerical columns (as a list of strings)\n",
    "    '''\n",
    "    for col in nums:\n",
    "        sns.histplot(x=col, data=train)\n",
    "        plt.show()\n",
    "        "
   ]
  },
  {
   "cell_type": "code",
   "execution_count": null,
   "id": "b43a825f",
   "metadata": {},
   "outputs": [],
   "source": [
    "explore_nums(train, nums)"
   ]
  },
  {
   "cell_type": "code",
   "execution_count": null,
   "id": "db5dd5ef",
   "metadata": {},
   "outputs": [],
   "source": [
    "['potential_evap','precip','barometric_pressure','all_atmos_precip','relative_humidity','sea_level_press','mean_temp','height_10_mb','height_100_mb','height_500_mb','height_850_mb','zonal_wind_250mb','zonal_wind_925mb','long_wind_250mb','long_wind_925mb']"
   ]
  },
  {
   "cell_type": "markdown",
   "id": "f0dad3ad",
   "metadata": {},
   "source": [
    "----\n",
    "## Data Dictionary:\n",
    "| Target | Definition | Data Type | Unit |\n",
    "| ---- | ---- | ---- | ---- |\n",
    "| mean_temp| the arithmetic mean | float64 | celsius |\n",
    "\n",
    "| Feature Name | Definition | Data Type | Unit |\n",
    "| ---- | ---- | ---- | ---- |\n",
    "| region | Köppen-Geigerclimateclassifications | object | specified regions |\n",
    "| elevation | elevation | int64 | meters |\n",
    "| lat| latitude of location (anonymized) | float64 | latitude |\n",
    "| lon | longitude of location (anonymized) | float64 | longitude |\n",
    "| startdate | startdate of the 14 day period | object | dates |\n",
    "| potential_evap| potential evaporation | float64 | mL |\n",
    "| precip| measured precipitation | float64 | mm |\n",
    "| barometric_pressure | pressure | float64 |Hg (inches of mercury) |\n",
    "| all_atmos_precip | precipitable water for entire atmosphere | float64 | mm |\n",
    "| relative humidity | relative humidity | float64 | percent of atmospheric capacity |\n",
    "| sea level pressure | sea level pressure at surface | float64 | hectoPascals (hPa), also called millibars |\n",
    "| geopotential height at 10 millibars | actual height of a pressure surface above mean sea-level | float64 | millibars |\n",
    "| geopotential height at 100 millibars | actual height of a pressure surface above mean sea-level | float64 | millibars |\n",
    "| geopotential height at 500 millibars | actual height of a pressure surface above mean sea-level | float64 | millibars |\n",
    "| geopotential height at 850 millibars | actual height of a pressure surface above mean sea-level | float64 | millibars |\n",
    "| zonal wind at 250 millibars | east-west wind velocity| float64 | meters per second |\n",
    "| zonal wind at 925 millibars | east-west wind velocity | float64 | meters per second|\n",
    "| longitudinal wind at 250 millibars | north-south velocity | float64 | meters per second|\n",
    "| longitudinal wind at 925 millibars | north-south velocity | float64 |meters per second |\n",
    "\n",
    "----"
   ]
  },
  {
   "cell_type": "code",
   "execution_count": null,
   "id": "7a2331fe",
   "metadata": {},
   "outputs": [],
   "source": [
    "sns.relplot(data=train, x='height_500_mb', y=\"mean_temp\")"
   ]
  },
  {
   "cell_type": "code",
   "execution_count": null,
   "id": "cd0b4db4",
   "metadata": {},
   "outputs": [],
   "source": []
  }
 ],
 "metadata": {
  "kernelspec": {
   "display_name": "Python 3 (ipykernel)",
   "language": "python",
   "name": "python3"
  },
  "language_info": {
   "codemirror_mode": {
    "name": "ipython",
    "version": 3
   },
   "file_extension": ".py",
   "mimetype": "text/x-python",
   "name": "python",
   "nbconvert_exporter": "python",
   "pygments_lexer": "ipython3",
   "version": "3.9.12"
  }
 },
 "nbformat": 4,
 "nbformat_minor": 5
}
