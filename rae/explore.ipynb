{
 "cells": [
  {
   "cell_type": "code",
   "execution_count": 2,
   "id": "fd55862b",
   "metadata": {},
   "outputs": [],
   "source": [
    "%matplotlib inline\n",
    "import matplotlib.pyplot as plt\n",
    "from matplotlib.colors import ListedColormap\n",
    "from scipy.stats import levene, ttest_ind\n",
    "from sklearn.ensemble import RandomForestClassifier\n",
    "from sklearn.impute import SimpleImputer\n",
    "from sklearn.linear_model import LogisticRegression\n",
    "from sklearn.metrics import classification_report, confusion_matrix, ConfusionMatrixDisplay, plot_confusion_matrix\n",
    "from sklearn.model_selection import train_test_split\n",
    "from sklearn.neighbors import KNeighborsClassifier\n",
    "from sklearn.preprocessing import MinMaxScaler\n",
    "from sklearn.tree import DecisionTreeClassifier, plot_tree, export_text\n",
    "import math\n",
    "import numpy as np\n",
    "import os\n",
    "import pandas as pd\n",
    "import requests\n",
    "import seaborn as sns\n",
    "import statsmodels.api as sm\n",
    "import warnings\n",
    "import wrangle as w\n",
    "warnings.filterwarnings(\"ignore\")"
   ]
  },
  {
   "cell_type": "code",
   "execution_count": 6,
   "id": "dbd50c3a",
   "metadata": {},
   "outputs": [],
   "source": [
    "df=w.get_explore_data()"
   ]
  },
  {
   "cell_type": "code",
   "execution_count": 7,
   "id": "cc8854bd",
   "metadata": {},
   "outputs": [],
   "source": [
    "df=w. prep_data(df, features=w.features)"
   ]
  },
  {
   "cell_type": "code",
   "execution_count": 9,
   "id": "2fe23ea7",
   "metadata": {},
   "outputs": [],
   "source": [
    "df=w.rename_data(df)"
   ]
  },
  {
   "cell_type": "code",
   "execution_count": 10,
   "id": "45b5b752",
   "metadata": {},
   "outputs": [
    {
     "data": {
      "text/html": [
       "<div>\n",
       "<style scoped>\n",
       "    .dataframe tbody tr th:only-of-type {\n",
       "        vertical-align: middle;\n",
       "    }\n",
       "\n",
       "    .dataframe tbody tr th {\n",
       "        vertical-align: top;\n",
       "    }\n",
       "\n",
       "    .dataframe thead th {\n",
       "        text-align: right;\n",
       "    }\n",
       "</style>\n",
       "<table border=\"1\" class=\"dataframe\">\n",
       "  <thead>\n",
       "    <tr style=\"text-align: right;\">\n",
       "      <th></th>\n",
       "      <th>region</th>\n",
       "      <th>elevation</th>\n",
       "      <th>lat</th>\n",
       "      <th>lon</th>\n",
       "      <th>startdate</th>\n",
       "      <th>potential_evap</th>\n",
       "      <th>precip</th>\n",
       "      <th>barometric_pressure</th>\n",
       "      <th>all_atmos_precip</th>\n",
       "      <th>relative_humidity</th>\n",
       "      <th>sea_level_press</th>\n",
       "      <th>mean_temp</th>\n",
       "      <th>height_10_mb</th>\n",
       "      <th>height_100_mb</th>\n",
       "      <th>height_500_mb</th>\n",
       "      <th>height_850_mb</th>\n",
       "      <th>zonal_wind_250mb</th>\n",
       "      <th>zonal_wind_925mb</th>\n",
       "      <th>long_wind_250mb</th>\n",
       "      <th>long_wind_925mb</th>\n",
       "    </tr>\n",
       "  </thead>\n",
       "  <tbody>\n",
       "    <tr>\n",
       "      <th>0</th>\n",
       "      <td>BSh</td>\n",
       "      <td>200</td>\n",
       "      <td>0.0</td>\n",
       "      <td>0.833333</td>\n",
       "      <td>2014-09-01</td>\n",
       "      <td>237.00</td>\n",
       "      <td>94.31</td>\n",
       "      <td>98644.97</td>\n",
       "      <td>42.45</td>\n",
       "      <td>81.72</td>\n",
       "      <td>101352.08</td>\n",
       "      <td>28.744480</td>\n",
       "      <td>31246.63</td>\n",
       "      <td>16666.81</td>\n",
       "      <td>5899.66</td>\n",
       "      <td>1535.52</td>\n",
       "      <td>-2.56</td>\n",
       "      <td>-5.22</td>\n",
       "      <td>-3.52</td>\n",
       "      <td>4.41</td>\n",
       "    </tr>\n",
       "    <tr>\n",
       "      <th>1</th>\n",
       "      <td>BSh</td>\n",
       "      <td>200</td>\n",
       "      <td>0.0</td>\n",
       "      <td>0.833333</td>\n",
       "      <td>2014-09-02</td>\n",
       "      <td>228.90</td>\n",
       "      <td>100.85</td>\n",
       "      <td>98686.80</td>\n",
       "      <td>42.66</td>\n",
       "      <td>82.56</td>\n",
       "      <td>101396.02</td>\n",
       "      <td>28.370585</td>\n",
       "      <td>31244.78</td>\n",
       "      <td>16667.31</td>\n",
       "      <td>5901.03</td>\n",
       "      <td>1538.00</td>\n",
       "      <td>-2.39</td>\n",
       "      <td>-5.20</td>\n",
       "      <td>-4.49</td>\n",
       "      <td>3.74</td>\n",
       "    </tr>\n",
       "    <tr>\n",
       "      <th>2</th>\n",
       "      <td>BSh</td>\n",
       "      <td>200</td>\n",
       "      <td>0.0</td>\n",
       "      <td>0.833333</td>\n",
       "      <td>2014-09-03</td>\n",
       "      <td>220.69</td>\n",
       "      <td>101.25</td>\n",
       "      <td>98712.85</td>\n",
       "      <td>43.23</td>\n",
       "      <td>83.29</td>\n",
       "      <td>101429.25</td>\n",
       "      <td>28.133059</td>\n",
       "      <td>31239.27</td>\n",
       "      <td>16668.39</td>\n",
       "      <td>5902.18</td>\n",
       "      <td>1540.32</td>\n",
       "      <td>-2.76</td>\n",
       "      <td>-5.00</td>\n",
       "      <td>-5.44</td>\n",
       "      <td>3.40</td>\n",
       "    </tr>\n",
       "    <tr>\n",
       "      <th>3</th>\n",
       "      <td>BSh</td>\n",
       "      <td>200</td>\n",
       "      <td>0.0</td>\n",
       "      <td>0.833333</td>\n",
       "      <td>2014-09-04</td>\n",
       "      <td>225.28</td>\n",
       "      <td>101.90</td>\n",
       "      <td>98711.70</td>\n",
       "      <td>43.11</td>\n",
       "      <td>83.26</td>\n",
       "      <td>101440.85</td>\n",
       "      <td>28.256798</td>\n",
       "      <td>31232.86</td>\n",
       "      <td>16667.39</td>\n",
       "      <td>5903.07</td>\n",
       "      <td>1541.10</td>\n",
       "      <td>-3.00</td>\n",
       "      <td>-4.61</td>\n",
       "      <td>-5.76</td>\n",
       "      <td>3.29</td>\n",
       "    </tr>\n",
       "    <tr>\n",
       "      <th>4</th>\n",
       "      <td>BSh</td>\n",
       "      <td>200</td>\n",
       "      <td>0.0</td>\n",
       "      <td>0.833333</td>\n",
       "      <td>2014-09-05</td>\n",
       "      <td>237.24</td>\n",
       "      <td>82.95</td>\n",
       "      <td>98686.46</td>\n",
       "      <td>42.98</td>\n",
       "      <td>82.50</td>\n",
       "      <td>101419.53</td>\n",
       "      <td>28.372353</td>\n",
       "      <td>31226.16</td>\n",
       "      <td>16665.65</td>\n",
       "      <td>5903.36</td>\n",
       "      <td>1539.73</td>\n",
       "      <td>-3.40</td>\n",
       "      <td>-4.25</td>\n",
       "      <td>-6.09</td>\n",
       "      <td>3.27</td>\n",
       "    </tr>\n",
       "    <tr>\n",
       "      <th>...</th>\n",
       "      <td>...</td>\n",
       "      <td>...</td>\n",
       "      <td>...</td>\n",
       "      <td>...</td>\n",
       "      <td>...</td>\n",
       "      <td>...</td>\n",
       "      <td>...</td>\n",
       "      <td>...</td>\n",
       "      <td>...</td>\n",
       "      <td>...</td>\n",
       "      <td>...</td>\n",
       "      <td>...</td>\n",
       "      <td>...</td>\n",
       "      <td>...</td>\n",
       "      <td>...</td>\n",
       "      <td>...</td>\n",
       "      <td>...</td>\n",
       "      <td>...</td>\n",
       "      <td>...</td>\n",
       "      <td>...</td>\n",
       "    </tr>\n",
       "    <tr>\n",
       "      <th>375729</th>\n",
       "      <td>Dfb</td>\n",
       "      <td>100</td>\n",
       "      <td>1.0</td>\n",
       "      <td>0.866667</td>\n",
       "      <td>2016-08-27</td>\n",
       "      <td>312.05</td>\n",
       "      <td>57.45</td>\n",
       "      <td>97613.96</td>\n",
       "      <td>24.32</td>\n",
       "      <td>70.25</td>\n",
       "      <td>101373.91</td>\n",
       "      <td>17.150954</td>\n",
       "      <td>31484.23</td>\n",
       "      <td>16540.22</td>\n",
       "      <td>5763.23</td>\n",
       "      <td>1501.92</td>\n",
       "      <td>23.20</td>\n",
       "      <td>1.32</td>\n",
       "      <td>9.59</td>\n",
       "      <td>2.96</td>\n",
       "    </tr>\n",
       "    <tr>\n",
       "      <th>375730</th>\n",
       "      <td>Dfb</td>\n",
       "      <td>100</td>\n",
       "      <td>1.0</td>\n",
       "      <td>0.866667</td>\n",
       "      <td>2016-08-28</td>\n",
       "      <td>305.82</td>\n",
       "      <td>53.53</td>\n",
       "      <td>97631.29</td>\n",
       "      <td>23.92</td>\n",
       "      <td>71.08</td>\n",
       "      <td>101397.77</td>\n",
       "      <td>16.962051</td>\n",
       "      <td>31476.67</td>\n",
       "      <td>16534.71</td>\n",
       "      <td>5760.19</td>\n",
       "      <td>1502.70</td>\n",
       "      <td>23.18</td>\n",
       "      <td>1.40</td>\n",
       "      <td>7.14</td>\n",
       "      <td>2.30</td>\n",
       "    </tr>\n",
       "    <tr>\n",
       "      <th>375731</th>\n",
       "      <td>Dfb</td>\n",
       "      <td>100</td>\n",
       "      <td>1.0</td>\n",
       "      <td>0.866667</td>\n",
       "      <td>2016-08-29</td>\n",
       "      <td>311.62</td>\n",
       "      <td>52.12</td>\n",
       "      <td>97588.69</td>\n",
       "      <td>23.94</td>\n",
       "      <td>69.74</td>\n",
       "      <td>101368.67</td>\n",
       "      <td>16.915474</td>\n",
       "      <td>31464.71</td>\n",
       "      <td>16526.98</td>\n",
       "      <td>5754.76</td>\n",
       "      <td>1499.57</td>\n",
       "      <td>24.49</td>\n",
       "      <td>1.75</td>\n",
       "      <td>7.05</td>\n",
       "      <td>2.19</td>\n",
       "    </tr>\n",
       "    <tr>\n",
       "      <th>375732</th>\n",
       "      <td>Dfb</td>\n",
       "      <td>100</td>\n",
       "      <td>1.0</td>\n",
       "      <td>0.866667</td>\n",
       "      <td>2016-08-30</td>\n",
       "      <td>304.54</td>\n",
       "      <td>51.73</td>\n",
       "      <td>97538.62</td>\n",
       "      <td>23.61</td>\n",
       "      <td>69.71</td>\n",
       "      <td>101321.24</td>\n",
       "      <td>16.536761</td>\n",
       "      <td>31448.83</td>\n",
       "      <td>16512.39</td>\n",
       "      <td>5742.21</td>\n",
       "      <td>1493.14</td>\n",
       "      <td>25.80</td>\n",
       "      <td>1.84</td>\n",
       "      <td>7.74</td>\n",
       "      <td>1.88</td>\n",
       "    </tr>\n",
       "    <tr>\n",
       "      <th>375733</th>\n",
       "      <td>Dfb</td>\n",
       "      <td>100</td>\n",
       "      <td>1.0</td>\n",
       "      <td>0.866667</td>\n",
       "      <td>2016-08-31</td>\n",
       "      <td>295.29</td>\n",
       "      <td>51.83</td>\n",
       "      <td>97536.84</td>\n",
       "      <td>23.41</td>\n",
       "      <td>71.66</td>\n",
       "      <td>101323.84</td>\n",
       "      <td>15.910995</td>\n",
       "      <td>31434.76</td>\n",
       "      <td>16496.42</td>\n",
       "      <td>5726.45</td>\n",
       "      <td>1489.03</td>\n",
       "      <td>26.62</td>\n",
       "      <td>2.07</td>\n",
       "      <td>8.29</td>\n",
       "      <td>1.66</td>\n",
       "    </tr>\n",
       "  </tbody>\n",
       "</table>\n",
       "<p>375734 rows × 20 columns</p>\n",
       "</div>"
      ],
      "text/plain": [
       "       region  elevation  lat       lon  startdate  potential_evap  precip  \\\n",
       "0         BSh        200  0.0  0.833333 2014-09-01          237.00   94.31   \n",
       "1         BSh        200  0.0  0.833333 2014-09-02          228.90  100.85   \n",
       "2         BSh        200  0.0  0.833333 2014-09-03          220.69  101.25   \n",
       "3         BSh        200  0.0  0.833333 2014-09-04          225.28  101.90   \n",
       "4         BSh        200  0.0  0.833333 2014-09-05          237.24   82.95   \n",
       "...       ...        ...  ...       ...        ...             ...     ...   \n",
       "375729    Dfb        100  1.0  0.866667 2016-08-27          312.05   57.45   \n",
       "375730    Dfb        100  1.0  0.866667 2016-08-28          305.82   53.53   \n",
       "375731    Dfb        100  1.0  0.866667 2016-08-29          311.62   52.12   \n",
       "375732    Dfb        100  1.0  0.866667 2016-08-30          304.54   51.73   \n",
       "375733    Dfb        100  1.0  0.866667 2016-08-31          295.29   51.83   \n",
       "\n",
       "        barometric_pressure  all_atmos_precip  relative_humidity  \\\n",
       "0                  98644.97             42.45              81.72   \n",
       "1                  98686.80             42.66              82.56   \n",
       "2                  98712.85             43.23              83.29   \n",
       "3                  98711.70             43.11              83.26   \n",
       "4                  98686.46             42.98              82.50   \n",
       "...                     ...               ...                ...   \n",
       "375729             97613.96             24.32              70.25   \n",
       "375730             97631.29             23.92              71.08   \n",
       "375731             97588.69             23.94              69.74   \n",
       "375732             97538.62             23.61              69.71   \n",
       "375733             97536.84             23.41              71.66   \n",
       "\n",
       "        sea_level_press  mean_temp  height_10_mb  height_100_mb  \\\n",
       "0             101352.08  28.744480      31246.63       16666.81   \n",
       "1             101396.02  28.370585      31244.78       16667.31   \n",
       "2             101429.25  28.133059      31239.27       16668.39   \n",
       "3             101440.85  28.256798      31232.86       16667.39   \n",
       "4             101419.53  28.372353      31226.16       16665.65   \n",
       "...                 ...        ...           ...            ...   \n",
       "375729        101373.91  17.150954      31484.23       16540.22   \n",
       "375730        101397.77  16.962051      31476.67       16534.71   \n",
       "375731        101368.67  16.915474      31464.71       16526.98   \n",
       "375732        101321.24  16.536761      31448.83       16512.39   \n",
       "375733        101323.84  15.910995      31434.76       16496.42   \n",
       "\n",
       "        height_500_mb  height_850_mb  zonal_wind_250mb  zonal_wind_925mb  \\\n",
       "0             5899.66        1535.52             -2.56             -5.22   \n",
       "1             5901.03        1538.00             -2.39             -5.20   \n",
       "2             5902.18        1540.32             -2.76             -5.00   \n",
       "3             5903.07        1541.10             -3.00             -4.61   \n",
       "4             5903.36        1539.73             -3.40             -4.25   \n",
       "...               ...            ...               ...               ...   \n",
       "375729        5763.23        1501.92             23.20              1.32   \n",
       "375730        5760.19        1502.70             23.18              1.40   \n",
       "375731        5754.76        1499.57             24.49              1.75   \n",
       "375732        5742.21        1493.14             25.80              1.84   \n",
       "375733        5726.45        1489.03             26.62              2.07   \n",
       "\n",
       "        long_wind_250mb  long_wind_925mb  \n",
       "0                 -3.52             4.41  \n",
       "1                 -4.49             3.74  \n",
       "2                 -5.44             3.40  \n",
       "3                 -5.76             3.29  \n",
       "4                 -6.09             3.27  \n",
       "...                 ...              ...  \n",
       "375729             9.59             2.96  \n",
       "375730             7.14             2.30  \n",
       "375731             7.05             2.19  \n",
       "375732             7.74             1.88  \n",
       "375733             8.29             1.66  \n",
       "\n",
       "[375734 rows x 20 columns]"
      ]
     },
     "execution_count": 10,
     "metadata": {},
     "output_type": "execute_result"
    }
   ],
   "source": [
    "df"
   ]
  },
  {
   "cell_type": "code",
   "execution_count": 11,
   "id": "5a58caba",
   "metadata": {},
   "outputs": [],
   "source": [
    "train, validate, test=w.split_data(df, test_size=0.15)"
   ]
  },
  {
   "cell_type": "code",
   "execution_count": 12,
   "id": "f38ac55c",
   "metadata": {},
   "outputs": [
    {
     "data": {
      "text/html": [
       "<div>\n",
       "<style scoped>\n",
       "    .dataframe tbody tr th:only-of-type {\n",
       "        vertical-align: middle;\n",
       "    }\n",
       "\n",
       "    .dataframe tbody tr th {\n",
       "        vertical-align: top;\n",
       "    }\n",
       "\n",
       "    .dataframe thead th {\n",
       "        text-align: right;\n",
       "    }\n",
       "</style>\n",
       "<table border=\"1\" class=\"dataframe\">\n",
       "  <thead>\n",
       "    <tr style=\"text-align: right;\">\n",
       "      <th></th>\n",
       "      <th>region</th>\n",
       "      <th>elevation</th>\n",
       "      <th>lat</th>\n",
       "      <th>lon</th>\n",
       "      <th>startdate</th>\n",
       "      <th>potential_evap</th>\n",
       "      <th>precip</th>\n",
       "      <th>barometric_pressure</th>\n",
       "      <th>all_atmos_precip</th>\n",
       "      <th>relative_humidity</th>\n",
       "      <th>sea_level_press</th>\n",
       "      <th>mean_temp</th>\n",
       "      <th>height_10_mb</th>\n",
       "      <th>height_100_mb</th>\n",
       "      <th>height_500_mb</th>\n",
       "      <th>height_850_mb</th>\n",
       "      <th>zonal_wind_250mb</th>\n",
       "      <th>zonal_wind_925mb</th>\n",
       "      <th>long_wind_250mb</th>\n",
       "      <th>long_wind_925mb</th>\n",
       "    </tr>\n",
       "  </thead>\n",
       "  <tbody>\n",
       "    <tr>\n",
       "      <th>116277</th>\n",
       "      <td>BSk</td>\n",
       "      <td>1800</td>\n",
       "      <td>0.454545</td>\n",
       "      <td>0.300000</td>\n",
       "      <td>2014-10-19</td>\n",
       "      <td>294.86</td>\n",
       "      <td>0.03</td>\n",
       "      <td>83362.52</td>\n",
       "      <td>8.53</td>\n",
       "      <td>28.94</td>\n",
       "      <td>101443.38</td>\n",
       "      <td>16.680867</td>\n",
       "      <td>30825.95</td>\n",
       "      <td>16475.47</td>\n",
       "      <td>5796.30</td>\n",
       "      <td>1504.26</td>\n",
       "      <td>18.22</td>\n",
       "      <td>-0.87</td>\n",
       "      <td>3.46</td>\n",
       "      <td>2.04</td>\n",
       "    </tr>\n",
       "    <tr>\n",
       "      <th>237629</th>\n",
       "      <td>Csb</td>\n",
       "      <td>1100</td>\n",
       "      <td>0.727273</td>\n",
       "      <td>0.066667</td>\n",
       "      <td>2014-10-25</td>\n",
       "      <td>127.70</td>\n",
       "      <td>63.74</td>\n",
       "      <td>89156.29</td>\n",
       "      <td>16.71</td>\n",
       "      <td>83.14</td>\n",
       "      <td>101841.63</td>\n",
       "      <td>5.987106</td>\n",
       "      <td>30801.60</td>\n",
       "      <td>16340.47</td>\n",
       "      <td>5689.14</td>\n",
       "      <td>1504.33</td>\n",
       "      <td>24.22</td>\n",
       "      <td>1.52</td>\n",
       "      <td>1.08</td>\n",
       "      <td>3.10</td>\n",
       "    </tr>\n",
       "    <tr>\n",
       "      <th>272599</th>\n",
       "      <td>BSk</td>\n",
       "      <td>800</td>\n",
       "      <td>0.772727</td>\n",
       "      <td>0.700000</td>\n",
       "      <td>2016-06-29</td>\n",
       "      <td>481.48</td>\n",
       "      <td>41.43</td>\n",
       "      <td>89665.38</td>\n",
       "      <td>22.36</td>\n",
       "      <td>54.72</td>\n",
       "      <td>101003.07</td>\n",
       "      <td>21.549640</td>\n",
       "      <td>31605.85</td>\n",
       "      <td>16624.04</td>\n",
       "      <td>5828.97</td>\n",
       "      <td>1492.70</td>\n",
       "      <td>23.68</td>\n",
       "      <td>-0.08</td>\n",
       "      <td>2.35</td>\n",
       "      <td>1.04</td>\n",
       "    </tr>\n",
       "    <tr>\n",
       "      <th>205713</th>\n",
       "      <td>Dfb</td>\n",
       "      <td>2000</td>\n",
       "      <td>0.636364</td>\n",
       "      <td>0.500000</td>\n",
       "      <td>2015-06-30</td>\n",
       "      <td>453.35</td>\n",
       "      <td>24.78</td>\n",
       "      <td>77957.43</td>\n",
       "      <td>17.11</td>\n",
       "      <td>47.80</td>\n",
       "      <td>101361.57</td>\n",
       "      <td>19.173942</td>\n",
       "      <td>31576.02</td>\n",
       "      <td>16662.35</td>\n",
       "      <td>5875.87</td>\n",
       "      <td>1505.58</td>\n",
       "      <td>15.35</td>\n",
       "      <td>0.50</td>\n",
       "      <td>5.52</td>\n",
       "      <td>1.09</td>\n",
       "    </tr>\n",
       "    <tr>\n",
       "      <th>120041</th>\n",
       "      <td>BSk</td>\n",
       "      <td>1900</td>\n",
       "      <td>0.454545</td>\n",
       "      <td>0.466667</td>\n",
       "      <td>2015-02-05</td>\n",
       "      <td>135.47</td>\n",
       "      <td>0.00</td>\n",
       "      <td>81613.28</td>\n",
       "      <td>6.06</td>\n",
       "      <td>62.50</td>\n",
       "      <td>102053.60</td>\n",
       "      <td>6.862285</td>\n",
       "      <td>30715.39</td>\n",
       "      <td>16357.43</td>\n",
       "      <td>5755.62</td>\n",
       "      <td>1535.91</td>\n",
       "      <td>19.55</td>\n",
       "      <td>0.42</td>\n",
       "      <td>-10.67</td>\n",
       "      <td>0.27</td>\n",
       "    </tr>\n",
       "  </tbody>\n",
       "</table>\n",
       "</div>"
      ],
      "text/plain": [
       "       region  elevation       lat       lon  startdate  potential_evap  \\\n",
       "116277    BSk       1800  0.454545  0.300000 2014-10-19          294.86   \n",
       "237629    Csb       1100  0.727273  0.066667 2014-10-25          127.70   \n",
       "272599    BSk        800  0.772727  0.700000 2016-06-29          481.48   \n",
       "205713    Dfb       2000  0.636364  0.500000 2015-06-30          453.35   \n",
       "120041    BSk       1900  0.454545  0.466667 2015-02-05          135.47   \n",
       "\n",
       "        precip  barometric_pressure  all_atmos_precip  relative_humidity  \\\n",
       "116277    0.03             83362.52              8.53              28.94   \n",
       "237629   63.74             89156.29             16.71              83.14   \n",
       "272599   41.43             89665.38             22.36              54.72   \n",
       "205713   24.78             77957.43             17.11              47.80   \n",
       "120041    0.00             81613.28              6.06              62.50   \n",
       "\n",
       "        sea_level_press  mean_temp  height_10_mb  height_100_mb  \\\n",
       "116277        101443.38  16.680867      30825.95       16475.47   \n",
       "237629        101841.63   5.987106      30801.60       16340.47   \n",
       "272599        101003.07  21.549640      31605.85       16624.04   \n",
       "205713        101361.57  19.173942      31576.02       16662.35   \n",
       "120041        102053.60   6.862285      30715.39       16357.43   \n",
       "\n",
       "        height_500_mb  height_850_mb  zonal_wind_250mb  zonal_wind_925mb  \\\n",
       "116277        5796.30        1504.26             18.22             -0.87   \n",
       "237629        5689.14        1504.33             24.22              1.52   \n",
       "272599        5828.97        1492.70             23.68             -0.08   \n",
       "205713        5875.87        1505.58             15.35              0.50   \n",
       "120041        5755.62        1535.91             19.55              0.42   \n",
       "\n",
       "        long_wind_250mb  long_wind_925mb  \n",
       "116277             3.46             2.04  \n",
       "237629             1.08             3.10  \n",
       "272599             2.35             1.04  \n",
       "205713             5.52             1.09  \n",
       "120041           -10.67             0.27  "
      ]
     },
     "execution_count": 12,
     "metadata": {},
     "output_type": "execute_result"
    }
   ],
   "source": [
    "train.head()"
   ]
  },
  {
   "cell_type": "code",
   "execution_count": 13,
   "id": "06e9fb99",
   "metadata": {},
   "outputs": [
    {
     "data": {
      "text/plain": [
       "array([[<AxesSubplot:title={'center':'elevation'}>,\n",
       "        <AxesSubplot:title={'center':'lat'}>,\n",
       "        <AxesSubplot:title={'center':'lon'}>,\n",
       "        <AxesSubplot:title={'center':'startdate'}>],\n",
       "       [<AxesSubplot:title={'center':'potential_evap'}>,\n",
       "        <AxesSubplot:title={'center':'precip'}>,\n",
       "        <AxesSubplot:title={'center':'barometric_pressure'}>,\n",
       "        <AxesSubplot:title={'center':'all_atmos_precip'}>],\n",
       "       [<AxesSubplot:title={'center':'relative_humidity'}>,\n",
       "        <AxesSubplot:title={'center':'sea_level_press'}>,\n",
       "        <AxesSubplot:title={'center':'mean_temp'}>,\n",
       "        <AxesSubplot:title={'center':'height_10_mb'}>],\n",
       "       [<AxesSubplot:title={'center':'height_100_mb'}>,\n",
       "        <AxesSubplot:title={'center':'height_500_mb'}>,\n",
       "        <AxesSubplot:title={'center':'height_850_mb'}>,\n",
       "        <AxesSubplot:title={'center':'zonal_wind_250mb'}>],\n",
       "       [<AxesSubplot:title={'center':'zonal_wind_925mb'}>,\n",
       "        <AxesSubplot:title={'center':'long_wind_250mb'}>,\n",
       "        <AxesSubplot:title={'center':'long_wind_925mb'}>, <AxesSubplot:>]],\n",
       "      dtype=object)"
      ]
     },
     "execution_count": 13,
     "metadata": {},
     "output_type": "execute_result"
    },
    {
     "data": {
      "image/png": "[encoded data removed]",
      "text/plain": [
       "<Figure size 432x288 with 20 Axes>"
      ]
     },
     "metadata": {
      "needs_background": "light"
     },
     "output_type": "display_data"
    }
   ],
   "source": [
    "train.hist()"
   ]
  },
  {
   "cell_type": "code",
   "execution_count": null,
   "id": "fc32f854",
   "metadata": {},
   "outputs": [],
   "source": [
    "#Regions\n",
    "#\n",
    "#Dfb    256\n",
    "#Cfa    207\n",
    "#Csb    203\n",
    "#Dfa    105\n",
    "#BWk     94\n",
    "#Dfc     69\n",
    "#BWh     64\n",
    "#Csa     50\n",
    "#Dsb     39\n",
    "#Cfb     20\n",
    "#BSh     14\n",
    "#Dsc     14\n",
    "#Dwa      6\n",
    "#Dwb      2"
   ]
  },
  {
   "cell_type": "raw",
   "id": "67ad3260",
   "metadata": {},
   "source": [
    "Regions \n",
    "BWh     64\tDry-Arid Desert-hot\n",
    "BWk     94\tDry-Arid Desert-cold\n",
    "BSh     14\tDry-Semi-Arid or steppe-hot\n",
    "BSk    803\tDry-Semi-Arid or steppe-cold\n",
    "Csa     50\tTemperate-Dry summer-hot summer\n",
    "Csb    203\tTemperate-Dry summer-warm summer\t\n",
    "Cfa    207\tTemperate-No dry season-hot summer\n",
    "Cfb     20\tTemperate-No dry season-warm summer\n",
    "Dsb     39\tContinental-Dry summer-warm summer\n",
    "Dsc     14\tContinental-Dry summer-cold summer\n",
    "Dwa      6\tContinental-Dry winter-hot summer\n",
    "Dwb      2\tContinental-Dry winter-warm summer\n",
    "Dfa    105\tContinental-No dry season-hot summer\n",
    "Dfb    256\tContinental-No dry season-warm summer\n",
    "Dfc     69  Continental-No dry season-cold summer"
   ]
  },
  {
   "cell_type": "code",
   "execution_count": null,
   "id": "92778268",
   "metadata": {},
   "outputs": [],
   "source": [
    "region = df[df['long_wind_925mb']==0]['region']"
   ]
  },
  {
   "cell_type": "code",
   "execution_count": 17,
   "id": "965e28f2",
   "metadata": {},
   "outputs": [
    {
     "data": {
      "text/plain": [
       "<AxesSubplot:xlabel='region', ylabel='count'>"
      ]
     },
     "execution_count": 17,
     "metadata": {},
     "output_type": "execute_result"
    },
    {
     "data": {
      "image/png": "[encoded data removed]",
      "text/plain": [
       "<Figure size 432x288 with 1 Axes>"
      ]
     },
     "metadata": {
      "needs_background": "light"
     },
     "output_type": "display_data"
    }
   ],
   "source": [
    "sns.countplot(x ='region', data = train)"
   ]
  },
  {
   "cell_type": "code",
   "execution_count": null,
   "id": "cc7b7e60",
   "metadata": {},
   "outputs": [],
   "source": [
    "sns.countplot( ='sex', hue = \"smoker\", data = train)"
   ]
  },
  {
   "cell_type": "raw",
   "id": "cbf8bd58",
   "metadata": {},
   "source": [
    "\n",
    "potential_evap\t\n",
    "precip\t\n",
    "barometric_pressure\t\n",
    "all_atmos_precip\t\n",
    "relative_humidity\t\n",
    "sea_level_press\t\n",
    "mean_temp\t\n",
    "height_10_mb\t\n",
    "height_100_mb\t\n",
    "height_500_mb\t\n",
    "height_850_mb\t\n",
    "zonal_wind_250mb\t\n",
    "zonal_wind_925mb\t\n",
    "long_wind_250mb\t\n",
    "long_wind_925mb"
   ]
  },
  {
   "cell_type": "code",
   "execution_count": 18,
   "id": "c426f29e",
   "metadata": {},
   "outputs": [
    {
     "data": {
      "text/plain": [
       "<AxesSubplot:xlabel='potential_evap', ylabel='Count'>"
      ]
     },
     "execution_count": 18,
     "metadata": {},
     "output_type": "execute_result"
    },
    {
     "data": {
      "image/png": "[encoded data removed]",
      "text/plain": [
       "<Figure size 432x288 with 1 Axes>"
      ]
     },
     "metadata": {
      "needs_background": "light"
     },
     "output_type": "display_data"
    }
   ],
   "source": [
    "sns.histplot(data=train, x=\"potential_evap\")"
   ]
  },
  {
   "cell_type": "code",
   "execution_count": 19,
   "id": "d7b9b3bc",
   "metadata": {},
   "outputs": [
    {
     "data": {
      "text/plain": [
       "<AxesSubplot:xlabel='barometric_pressure', ylabel='Count'>"
      ]
     },
     "execution_count": 19,
     "metadata": {},
     "output_type": "execute_result"
    },
    {
     "data": {
      "image/png": "[encoded data removed]",
      "text/plain": [
       "<Figure size 432x288 with 1 Axes>"
      ]
     },
     "metadata": {
      "needs_background": "light"
     },
     "output_type": "display_data"
    }
   ],
   "source": [
    "sns.histplot(data=train, x=\"barometric_pressure\")"
   ]
  },
  {
   "cell_type": "code",
   "execution_count": 20,
   "id": "f5894064",
   "metadata": {},
   "outputs": [
    {
     "data": {
      "text/plain": [
       "<AxesSubplot:xlabel='all_atmos_precip', ylabel='Count'>"
      ]
     },
     "execution_count": 20,
     "metadata": {},
     "output_type": "execute_result"
    },
    {
     "data": {
      "image/png": "[encoded data removed]",
      "text/plain": [
       "<Figure size 432x288 with 1 Axes>"
      ]
     },
     "metadata": {
      "needs_background": "light"
     },
     "output_type": "display_data"
    }
   ],
   "source": [
    "sns.histplot(data=train, x=\"all_atmos_precip\")"
   ]
  },
  {
   "cell_type": "code",
   "execution_count": 21,
   "id": "d3178118",
   "metadata": {},
   "outputs": [
    {
     "data": {
      "text/plain": [
       "<AxesSubplot:xlabel='relative_humidity', ylabel='Count'>"
      ]
     },
     "execution_count": 21,
     "metadata": {},
     "output_type": "execute_result"
    },
    {
     "data": {
      "image/png": "[encoded data removed]",
      "text/plain": [
       "<Figure size 432x288 with 1 Axes>"
      ]
     },
     "metadata": {
      "needs_background": "light"
     },
     "output_type": "display_data"
    }
   ],
   "source": [
    "sns.histplot(data=train, x=\"relative_humidity\")"
   ]
  },
  {
   "cell_type": "code",
   "execution_count": 22,
   "id": "5d7d14b4",
   "metadata": {},
   "outputs": [
    {
     "data": {
      "text/plain": [
       "<AxesSubplot:xlabel='sea_level_press', ylabel='Count'>"
      ]
     },
     "execution_count": 22,
     "metadata": {},
     "output_type": "execute_result"
    },
    {
     "data": {
      "image/png": "[encoded data removed]",
      "text/plain": [
       "<Figure size 432x288 with 1 Axes>"
      ]
     },
     "metadata": {
      "needs_background": "light"
     },
     "output_type": "display_data"
    }
   ],
   "source": [
    "sns.histplot(data=train, x=\"sea_level_press\")"
   ]
  },
  {
   "cell_type": "code",
   "execution_count": 23,
   "id": "d58fad96",
   "metadata": {},
   "outputs": [
    {
     "data": {
      "text/plain": [
       "<AxesSubplot:xlabel='mean_temp', ylabel='Count'>"
      ]
     },
     "execution_count": 23,
     "metadata": {},
     "output_type": "execute_result"
    },
    {
     "data": {
      "image/png": "[encoded data removed]",
      "text/plain": [
       "<Figure size 432x288 with 1 Axes>"
      ]
     },
     "metadata": {
      "needs_background": "light"
     },
     "output_type": "display_data"
    }
   ],
   "source": [
    "sns.histplot(data=train, x=\"mean_temp\")"
   ]
  },
  {
   "cell_type": "code",
   "execution_count": 24,
   "id": "7028bcd3",
   "metadata": {},
   "outputs": [
    {
     "data": {
      "text/plain": [
       "<AxesSubplot:xlabel='height_10_mb', ylabel='Count'>"
      ]
     },
     "execution_count": 24,
     "metadata": {},
     "output_type": "execute_result"
    },
    {
     "data": {
      "image/png": "[encoded data removed]",
      "text/plain": [
       "<Figure size 432x288 with 1 Axes>"
      ]
     },
     "metadata": {
      "needs_background": "light"
     },
     "output_type": "display_data"
    }
   ],
   "source": [
    "sns.histplot(data=train, x=\"height_10_mb\")"
   ]
  },
  {
   "cell_type": "code",
   "execution_count": 25,
   "id": "3834e6ef",
   "metadata": {},
   "outputs": [
    {
     "data": {
      "text/plain": [
       "<AxesSubplot:xlabel='height_100_mb', ylabel='Count'>"
      ]
     },
     "execution_count": 25,
     "metadata": {},
     "output_type": "execute_result"
    },
    {
     "data": {
      "image/png": "[encoded data removed]",
      "text/plain": [
       "<Figure size 432x288 with 1 Axes>"
      ]
     },
     "metadata": {
      "needs_background": "light"
     },
     "output_type": "display_data"
    }
   ],
   "source": [
    "sns.histplot(data=train, x=\"height_100_mb\")"
   ]
  },
  {
   "cell_type": "code",
   "execution_count": 26,
   "id": "d8bf0638",
   "metadata": {},
   "outputs": [
    {
     "data": {
      "text/plain": [
       "<AxesSubplot:xlabel='height_500_mb', ylabel='Count'>"
      ]
     },
     "execution_count": 26,
     "metadata": {},
     "output_type": "execute_result"
    },
    {
     "data": {
      "image/png": "[encoded data removed]",
      "text/plain": [
       "<Figure size 432x288 with 1 Axes>"
      ]
     },
     "metadata": {
      "needs_background": "light"
     },
     "output_type": "display_data"
    }
   ],
   "source": [
    "sns.histplot(data=train, x=\"height_500_mb\")"
   ]
  },
  {
   "cell_type": "code",
   "execution_count": 27,
   "id": "ca5b4815",
   "metadata": {},
   "outputs": [
    {
     "data": {
      "text/plain": [
       "<AxesSubplot:xlabel='height_850_mb', ylabel='Count'>"
      ]
     },
     "execution_count": 27,
     "metadata": {},
     "output_type": "execute_result"
    },
    {
     "data": {
      "image/png": "[encoded data removed]",
      "text/plain": [
       "<Figure size 432x288 with 1 Axes>"
      ]
     },
     "metadata": {
      "needs_background": "light"
     },
     "output_type": "display_data"
    }
   ],
   "source": [
    "sns.histplot(data=train, x=\"height_850_mb\")"
   ]
  },
  {
   "cell_type": "code",
   "execution_count": 28,
   "id": "f48e21f8",
   "metadata": {},
   "outputs": [
    {
     "data": {
      "text/plain": [
       "<AxesSubplot:xlabel='zonal_wind_250mb', ylabel='Count'>"
      ]
     },
     "execution_count": 28,
     "metadata": {},
     "output_type": "execute_result"
    },
    {
     "data": {
      "image/png": "[encoded data removed]",
      "text/plain": [
       "<Figure size 432x288 with 1 Axes>"
      ]
     },
     "metadata": {
      "needs_background": "light"
     },
     "output_type": "display_data"
    }
   ],
   "source": [
    "sns.histplot(data=train, x=\"zonal_wind_250mb\")"
   ]
  },
  {
   "cell_type": "code",
   "execution_count": 29,
   "id": "45a651d6",
   "metadata": {},
   "outputs": [
    {
     "data": {
      "text/plain": [
       "<AxesSubplot:xlabel='zonal_wind_925mb', ylabel='Count'>"
      ]
     },
     "execution_count": 29,
     "metadata": {},
     "output_type": "execute_result"
    },
    {
     "data": {
      "image/png": "[encoded data removed]",
      "text/plain": [
       "<Figure size 432x288 with 1 Axes>"
      ]
     },
     "metadata": {
      "needs_background": "light"
     },
     "output_type": "display_data"
    }
   ],
   "source": [
    "sns.histplot(data=train, x=\"zonal_wind_925mb\")"
   ]
  },
  {
   "cell_type": "code",
   "execution_count": 30,
   "id": "fb5d3045",
   "metadata": {},
   "outputs": [
    {
     "data": {
      "text/plain": [
       "<AxesSubplot:xlabel='long_wind_250mb', ylabel='Count'>"
      ]
     },
     "execution_count": 30,
     "metadata": {},
     "output_type": "execute_result"
    },
    {
     "data": {
      "image/png": "[encoded data removed]",
      "text/plain": [
       "<Figure size 432x288 with 1 Axes>"
      ]
     },
     "metadata": {
      "needs_background": "light"
     },
     "output_type": "display_data"
    }
   ],
   "source": [
    "sns.histplot(data=train, x=\"long_wind_250mb\")"
   ]
  },
  {
   "cell_type": "code",
   "execution_count": 31,
   "id": "b6987f00",
   "metadata": {},
   "outputs": [
    {
     "data": {
      "text/plain": [
       "<AxesSubplot:xlabel='long_wind_925mb', ylabel='Count'>"
      ]
     },
     "execution_count": 31,
     "metadata": {},
     "output_type": "execute_result"
    },
    {
     "data": {
      "image/png": "[encoded data removed]",
      "text/plain": [
       "<Figure size 432x288 with 1 Axes>"
      ]
     },
     "metadata": {
      "needs_background": "light"
     },
     "output_type": "display_data"
    }
   ],
   "source": [
    "sns.histplot(data=train, x=\"long_wind_925mb\")"
   ]
  },
  {
   "cell_type": "code",
   "execution_count": null,
   "id": "dbd77538",
   "metadata": {},
   "outputs": [],
   "source": [
    "# compare the columns to each other\n",
    "sns.pairplot(data=train, kind=\"reg\", corner=True)"
   ]
  },
  {
   "cell_type": "code",
   "execution_count": null,
   "id": "d159c853",
   "metadata": {},
   "outputs": [],
   "source": [
    "fig, ax = plt.subplots(figsize=(10,10))      \n",
    "corr = train.corr()\n",
    "sns.heatmap(corr, annot=True, square=True)\n",
    "plt.yticks(rotation=0)\n",
    "plt.show()"
   ]
  },
  {
   "cell_type": "code",
   "execution_count": null,
   "id": "c8459ac2",
   "metadata": {},
   "outputs": [],
   "source": [
    "cat= region\n",
    "target = mean_temp\n",
    "def explore_cats(train, cats, target):\n",
    "    '''\n",
    "    This function takes:\n",
    "            train = train DataFrame\n",
    "            cats = category columns (as a list of strings)\n",
    "            target = target variable (as a string)\n",
    "    prints value counts for each category in each column\n",
    "    '''\n",
    "    for col in cats:\n",
    "        print(col)\n",
    "        print(train[col].value_counts())\n",
    "        print(train[col].value_counts(normalize=True)*100)\n",
    "        sns.countplot(x=col, data=train)\n",
    "        plt.title(col+' counts')\n",
    "        plt.show()\n",
    "    \n",
    "        sns.barplot(data=train, x=col, y=target)\n",
    "        rate = train[target].mean()\n",
    "        plt.axhline(rate, label= 'average ' + target + ' rate')\n",
    "        plt.legend()\n",
    "        plt.title(target+' rate by '+col)\n",
    "        plt.show()\n",
    "    \n",
    "        alpha = 0.05\n",
    "        o = pd.crosstab(train[col], train[target])\n",
    "        chi2, p, dof, e = stats.chi2_contingency(o)\n",
    "        result = p < alpha\n",
    "        print('P is less than alpha: '+result.astype('str'))\n",
    "        print('------------------------------------------------------------')"
   ]
  },
  {
   "cell_type": "code",
   "execution_count": null,
   "id": "c5d6c152",
   "metadata": {},
   "outputs": [],
   "source": [
    "# looking closer at monthly charges and churn\n",
    "sns.kdeplot(data=train, x='bmi_binned', y='outcome', hue='glucose_binned')\n",
    "rate = train.outcome.mean()\n",
    "plt.title('outcome by bmi')\n",
    "plt.show()\n"
   ]
  }
 ],
 "metadata": {
  "kernelspec": {
   "display_name": "Python 3 (ipykernel)",
   "language": "python",
   "name": "python3"
  },
  "language_info": {
   "codemirror_mode": {
    "name": "ipython",
    "version": 3
   },
   "file_extension": ".py",
   "mimetype": "text/x-python",
   "name": "python",
   "nbconvert_exporter": "python",
   "pygments_lexer": "ipython3",
   "version": "3.9.12"
  }
 },
 "nbformat": 4,
 "nbformat_minor": 5
}
