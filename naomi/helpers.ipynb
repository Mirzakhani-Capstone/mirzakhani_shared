{
 "cells": [
  {
   "cell_type": "code",
   "execution_count": 1,
   "id": "755aa90c",
   "metadata": {},
   "outputs": [],
   "source": [
    "import pandas as pd\n",
    "import matplotlib.pyplot as plt\n",
    "import seaborn as sns\n",
    "import numpy as np\n"
   ]
  },
  {
   "cell_type": "code",
   "execution_count": null,
   "id": "5a4193df",
   "metadata": {},
   "outputs": [],
   "source": [
    "def plot_categorical_and_continuous_vars(df, cat_vars_list, cont_vars_list):\n",
    "    \n",
    "    for col in cat_vars_list:\n",
    "        for col2 in cont_vars_list:\n",
    "            fig, (ax1, ax2, ax3) = plt.subplots(1,3, figsize=(16,6))\n",
    "            fig.suptitle(f'{col} vs. {col2}')\n",
    "            sns.boxplot(data=df, x=col, y=col2, ax=ax1)\n",
    "            sns.violinplot(data=df, x=col, y=col2, ax=ax2)\n",
    "            sns.barplot(data=df, x=col, y=col2, ax=ax3)\n",
    "            plt.show()\n",
    "            "
   ]
  },
  {
   "cell_type": "code",
   "execution_count": null,
   "id": "41b4b43e",
   "metadata": {},
   "outputs": [],
   "source": [
    "            \n",
    "def plot_variable_pairs_2(df, target):\n",
    "    cols = df.columns.to_list()\n",
    "    cols.remove(target)\n",
    "    \n",
    "    for col in cols:\n",
    "        sns.lmplot(data= df, x=col, y=target, line_kws={'color':'red'})\n",
    "    \n",
    "    plt.show()\n",
    "    "
   ]
  },
  {
   "cell_type": "code",
   "execution_count": null,
   "id": "0010b5ba",
   "metadata": {},
   "outputs": [],
   "source": [
    "    \n",
    "    \n",
    "def plot_variable_pairs(df, target):\n",
    "    cols = df.columns.to_list()\n",
    "    cols.remove(target)\n",
    "    \n",
    "    for col in cols:\n",
    "        sns.lmplot(data= df, x=col, y=target, line_kws={'color':'red'})\n",
    "    \n",
    "    plt.show()"
   ]
  },
  {
   "cell_type": "code",
   "execution_count": null,
   "id": "30e650f4",
   "metadata": {},
   "outputs": [],
   "source": []
  },
  {
   "cell_type": "code",
   "execution_count": null,
   "id": "10da2258",
   "metadata": {},
   "outputs": [],
   "source": []
  }
 ],
 "metadata": {
  "kernelspec": {
   "display_name": "Python 3 (ipykernel)",
   "language": "python",
   "name": "python3"
  },
  "language_info": {
   "codemirror_mode": {
    "name": "ipython",
    "version": 3
   },
   "file_extension": ".py",
   "mimetype": "text/x-python",
   "name": "python",
   "nbconvert_exporter": "python",
   "pygments_lexer": "ipython3",
   "version": "3.9.12"
  }
 },
 "nbformat": 4,
 "nbformat_minor": 5
}
