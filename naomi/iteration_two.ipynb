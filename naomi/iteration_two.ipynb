{
 "cells": [
  {
   "cell_type": "code",
   "execution_count": 1,
   "id": "e8dd795d",
   "metadata": {},
   "outputs": [],
   "source": [
    "import pandas as pd\n",
    "import numpy as np\n",
    "import matplotlib.pyplot as plt\n",
    "import seaborn as sns \n",
    "from sklearn.cluster import KMeans\n",
    "from scipy.stats import spearmanr\n",
    "\n",
    "pd.options.display.max_columns = None\n",
    "pd.options.display.max_rows = None\n",
    "\n",
    "import wrangle"
   ]
  },
  {
   "cell_type": "code",
   "execution_count": 2,
   "id": "6a59207e",
   "metadata": {},
   "outputs": [
    {
     "data": {
      "text/plain": [
       "(375734, 20)"
      ]
     },
     "execution_count": 2,
     "metadata": {},
     "output_type": "execute_result"
    }
   ],
   "source": [
    "df = wrangle.get_explore_data()\n",
    "df = wrangle.prep_data(df, features = wrangle.features)\n",
    "df = wrangle.rename_data(df)\n",
    "df.shape"
   ]
  },
  {
   "cell_type": "code",
   "execution_count": 3,
   "id": "c598e293",
   "metadata": {},
   "outputs": [
    {
     "data": {
      "text/plain": [
       "(244226, 20)"
      ]
     },
     "execution_count": 3,
     "metadata": {},
     "output_type": "execute_result"
    }
   ],
   "source": [
    "train, validate, test = wrangle.split_data(df)\n",
    "df = train.copy()\n",
    "df.shape"
   ]
  },
  {
   "cell_type": "markdown",
   "id": "87e80770",
   "metadata": {},
   "source": [
    "## What i want to do: create data frames for each binned region and each binned elevation and each season. \n",
    "## Three features binned like\n",
    "- elevation = 4\n",
    "- region = 3\n",
    "- season = we'll see\n",
    "\n",
    "### steps to take \n",
    "1. pull in elevation dfs incase they are better than those created in step 2\n",
    "2. use the computer to generate four bins for elevation\n",
    "3. use a stat test to see which group is a better indicator for mean_temp\n",
    "4. look at startdate min and max and see how many seasons those dates cover\n",
    "5. create bins based on those seasons\n",
    "6. take in Rae's bins for region\n",
    "7. model off of the bins in various combinations\n",
    "8. model off of a single narrow bin and all other contest features"
   ]
  },
  {
   "cell_type": "markdown",
   "id": "173214a5",
   "metadata": {},
   "source": [
    "# 1. elevation bins"
   ]
  },
  {
   "cell_type": "code",
   "execution_count": 4,
   "id": "a7909c87",
   "metadata": {},
   "outputs": [],
   "source": [
    "# these are the four naomi-made dataframes\n",
    "elevation_low_low=df[df.elevation < 500.0]\n",
    "elevation_low=df[(df.elevation > 500.0)&(df.elevation <1000)]\n",
    "elevation_mid = df[(df.elevation >1000.0) & (df.elevation < 2000.0)]\n",
    "elevation_high = df[df.elevation > 2000.0]"
   ]
  },
  {
   "cell_type": "code",
   "execution_count": 5,
   "id": "03cbfac7",
   "metadata": {},
   "outputs": [],
   "source": [
    "# this is the train dataframe with a new column that labels the elevation based on bin labels\n",
    "labels = ['low-low', 'low', 'mid', 'high']\n",
    "bins = [ 0, 500, 1000, 2000, 4000]\n",
    "\n",
    "df['elevation_bins'] = pd.cut(df['elevation'] , bins=bins, labels=labels, include_lowest=True)"
   ]
  },
  {
   "cell_type": "markdown",
   "id": "c21d3db0",
   "metadata": {},
   "source": [
    "# 2. program generated bins"
   ]
  },
  {
   "cell_type": "code",
   "execution_count": 6,
   "id": "84ea8a0d",
   "metadata": {},
   "outputs": [],
   "source": [
    "labels = ['bottom_quan', 'low_quan', 'mid_quan', 'high_quan']\n",
    "df['elevation_quantile'] =  pd.qcut(df['elevation'], 4, labels=labels)"
   ]
  },
  {
   "cell_type": "markdown",
   "id": "ccb96157",
   "metadata": {},
   "source": [
    "# 3. stat test for significance"
   ]
  },
  {
   "cell_type": "code",
   "execution_count": 7,
   "id": "a8630d8e",
   "metadata": {},
   "outputs": [],
   "source": [
    "# ask mark for help"
   ]
  },
  {
   "cell_type": "markdown",
   "id": "81a782c1",
   "metadata": {},
   "source": [
    "# 4. how many seasons?\n"
   ]
  },
  {
   "cell_type": "code",
   "execution_count": 8,
   "id": "3d12e176",
   "metadata": {},
   "outputs": [
    {
     "data": {
      "text/plain": [
       "Timestamp('2016-08-31 00:00:00')"
      ]
     },
     "execution_count": 8,
     "metadata": {},
     "output_type": "execute_result"
    }
   ],
   "source": [
    "df.startdate.max()"
   ]
  },
  {
   "cell_type": "code",
   "execution_count": 9,
   "id": "bca1d74c",
   "metadata": {},
   "outputs": [
    {
     "data": {
      "text/plain": [
       "Timestamp('2014-09-01 00:00:00')"
      ]
     },
     "execution_count": 9,
     "metadata": {},
     "output_type": "execute_result"
    }
   ],
   "source": [
    "df.startdate.min()"
   ]
  },
  {
   "cell_type": "code",
   "execution_count": null,
   "id": "703a6e40",
   "metadata": {},
   "outputs": [],
   "source": []
  },
  {
   "cell_type": "code",
   "execution_count": null,
   "id": "399f2c55",
   "metadata": {},
   "outputs": [],
   "source": []
  },
  {
   "cell_type": "markdown",
   "id": "09a65ad1",
   "metadata": {},
   "source": [
    "## dates are suspicious. Ask team to check original df and train df to see if data matches"
   ]
  },
  {
   "cell_type": "markdown",
   "id": "c8cd3f86",
   "metadata": {},
   "source": [
    "Counting September as an Autumn Month the break down is as such:\n",
    "- 2014 Sep-Nov = 1\n",
    "- 2014 Dec-2015 Feb = 2\n",
    "- 2015 Mar-May = 3\n",
    "- 2015 Jun-Aug = 4\n",
    "- 2015 Sep-Nov = 5\n",
    "- 2015 Dec-2016 Feb = 6\n",
    "- 2016 Mar-May = 7\n",
    "- 2016 Jun-Aug = 8\n",
    "*** eight seasons, two full years, two of each season\n",
    "\n",
    "\n"
   ]
  },
  {
   "cell_type": "markdown",
   "id": "9ed4f15b",
   "metadata": {},
   "source": [
    "# 5. creating bins based on seasons\n",
    "### do i want eight bins, one for each season? or four bins each with two seasons?\n"
   ]
  },
  {
   "cell_type": "code",
   "execution_count": 10,
   "id": "ffbb2a71",
   "metadata": {},
   "outputs": [],
   "source": [
    "# four bins of seasons with two three month periods each\n",
    "labels = ['Autumn', 'Winter', 'Spring', 'Summer']\n",
    "df['Season_quantile'] =  pd.qcut(df['startdate'], 4, labels=labels)"
   ]
  },
  {
   "cell_type": "code",
   "execution_count": 11,
   "id": "dd5c4a6c",
   "metadata": {},
   "outputs": [
    {
     "data": {
      "image/png": "[encoded data removed]",
      "text/plain": [
       "<Figure size 432x288 with 1 Axes>"
      ]
     },
     "metadata": {
      "needs_background": "light"
     },
     "output_type": "display_data"
    }
   ],
   "source": [
    "# reset index\n",
    "\n",
    "# Plot the time series in your DataFrame\n",
    "ax = df.startdate.plot(color='blue')\n",
    "\n",
    "# Specify the x-axis label in your plot\n",
    "ax.set_xlabel('Date')\n",
    "\n",
    "# Specify the y-axis label in your plot\n",
    "ax.set_ylabel('mean_temp');"
   ]
  },
  {
   "cell_type": "code",
   "execution_count": null,
   "id": "4f35448f",
   "metadata": {},
   "outputs": [],
   "source": []
  }
 ],
 "metadata": {
  "kernelspec": {
   "display_name": "Python 3 (ipykernel)",
   "language": "python",
   "name": "python3"
  },
  "language_info": {
   "codemirror_mode": {
    "name": "ipython",
    "version": 3
   },
   "file_extension": ".py",
   "mimetype": "text/x-python",
   "name": "python",
   "nbconvert_exporter": "python",
   "pygments_lexer": "ipython3",
   "version": "3.9.12"
  }
 },
 "nbformat": 4,
 "nbformat_minor": 5
}
