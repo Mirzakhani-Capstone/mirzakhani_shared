{
 "cells": [
  {
   "cell_type": "markdown",
   "id": "13429ecc",
   "metadata": {},
   "source": [
    "<div class=\"alert alert-block alert-danger\">\n",
    "<b>warning</b> \n",
    "\n",
    "# RUN ALL not recommended\n",
    "   </div>"
   ]
  },
  {
   "cell_type": "code",
   "execution_count": 1,
   "id": "e8dd795d",
   "metadata": {},
   "outputs": [],
   "source": [
    "import pandas as pd\n",
    "import numpy as np\n",
    "import matplotlib.pyplot as plt\n",
    "import seaborn as sns \n",
    "from sklearn.cluster import KMeans\n",
    "from scipy.stats import spearmanr\n",
    "\n",
    "pd.options.display.max_columns = None\n",
    "pd.options.display.max_rows = None\n",
    "\n",
    "import wrangle\n",
    "import model"
   ]
  },
  {
   "cell_type": "code",
   "execution_count": 2,
   "id": "6a59207e",
   "metadata": {
    "scrolled": true
   },
   "outputs": [
    {
     "data": {
      "text/plain": [
       "(375734, 20)"
      ]
     },
     "execution_count": 2,
     "metadata": {},
     "output_type": "execute_result"
    }
   ],
   "source": [
    "df = wrangle.get_explore_data()\n",
    "df = wrangle.prep_data(df, features = wrangle.features)\n",
    "df = wrangle.rename_data(df)\n",
    "df.shape"
   ]
  },
  {
   "cell_type": "markdown",
   "id": "81a9b1c0",
   "metadata": {},
   "source": [
    "## After importing data, I moved all featured engineered below to the top of this notebook to have them on the df before splitting into TVT"
   ]
  },
  {
   "cell_type": "code",
   "execution_count": 4,
   "id": "6df5ede9",
   "metadata": {},
   "outputs": [],
   "source": [
    "# defining variables\n",
    "labels_n = ['low-low', 'low', 'mid', 'high']\n",
    "bins = [ 0, 500, 1000, 2000, 4000]\n",
    "\n",
    "labels_q = ['bottom_quan', 'low_quan', 'mid_quan', 'high_quan']"
   ]
  },
  {
   "cell_type": "code",
   "execution_count": 5,
   "id": "5cebb1bc",
   "metadata": {},
   "outputs": [],
   "source": [
    "# putting engineered features onto df and test\n",
    "\n",
    "# elevation features\n",
    "df['elevation_bins']=pd.cut(df['elevation'], bins = bins, labels=labels_n, include_lowest=True)\n",
    "df['elevation_quantile'] =  pd.qcut(df['elevation'], 4, labels=labels_q)\n",
    "#season features\n",
    "df['month']=df['startdate'].dt.month\n",
    "\n",
    "season_groups = {\n",
    "    \"Autumn\": [9,10,11],\n",
    "    \"Winter\": [12,1,2],\n",
    "    \"Spring\": [3,4,5],\n",
    "    \"Summer\": [6,7,8],\n",
    "}\n",
    "df[\"seasons\"] = (\n",
    "    df[\"month\"]\n",
    "    .apply(lambda x: [k for k in season_groups.keys() if x in season_groups[k]])\n",
    "    .str[0]\n",
    "    .fillna(\"Other\")\n",
    ")\n",
    "#regional feature\n",
    "region_groups = {\n",
    "    \"Dry\": [\"BWh\", \"BWk\", \"BSh\", \"BSk\"],\n",
    "    \"Temperate\": [\"Csa\", \"Csb\", \"Cfa\", \"Cfb\",],\n",
    "    \"Continental\": [\"Dsb\", \"Dsc\",\"Dwa\",\"Dwb\",\"Dfa\", \"Dfb\", \"Dfc\"]\n",
    "}\n",
    "df[\"region_bins\"] = (\n",
    "    df[\"region\"]\n",
    "    .apply(lambda x: [k for k in region_groups.keys() if x in region_groups[k]])\n",
    "    .str[0]\n",
    "    .fillna(\"Other\")\n",
    ")"
   ]
  },
  {
   "cell_type": "code",
   "execution_count": 6,
   "id": "07bcc960",
   "metadata": {},
   "outputs": [
    {
     "data": {
      "text/plain": [
       "(375734, 25)"
      ]
     },
     "execution_count": 6,
     "metadata": {},
     "output_type": "execute_result"
    }
   ],
   "source": [
    "df.shape"
   ]
  },
  {
   "cell_type": "code",
   "execution_count": 7,
   "id": "c598e293",
   "metadata": {},
   "outputs": [
    {
     "data": {
      "text/plain": [
       "((244226, 25), (75147, 25), (56361, 25))"
      ]
     },
     "execution_count": 7,
     "metadata": {},
     "output_type": "execute_result"
    }
   ],
   "source": [
    "train, validate, test = wrangle.split_data(df)\n",
    "#df = train.copy()\n",
    "train.shape, validate.shape, test.shape"
   ]
  },
  {
   "cell_type": "markdown",
   "id": "33857250",
   "metadata": {},
   "source": [
    "<div class=\"alert alert-block alert-danger\">\n",
    "<b>warning</b> \n",
    "\n",
    "# The cells below are where I engineered features. If notbook is run-all, there may be issues with duplicates. PAY ATTENTION TO WHAT SHAPE THE DFS SHOULD BE\n",
    "**RECOMMEND RUNNING ABOVE CELLS AND SKIPPING DOWN TO MARKDOWN CELL LABELED \"7. MODELING\"**\n",
    "    </div>"
   ]
  },
  {
   "cell_type": "markdown",
   "id": "87e80770",
   "metadata": {},
   "source": [
    "## What i want to do: create data frames for each binned region and each binned elevation and each season. \n",
    "## Three features binned like\n",
    "- elevation = 4\n",
    "- region = 3\n",
    "- season = we'll see\n",
    "\n",
    "### steps to take \n",
    "1. pull in elevation dfs incase they are better than those created in step 2\n",
    "2. use the computer to generate four bins for elevation\n",
    "3. use a stat test to see which group is a better indicator for mean_temp\n",
    "4. look at startdate min and max and see how many seasons those dates cover\n",
    "5. create bins based on those seasons\n",
    "6. take in Rae's bins for region\n",
    "7. model off of the bins in various combinations\n",
    "8. model off of a single narrow bin and all other contest features"
   ]
  },
  {
   "cell_type": "markdown",
   "id": "173214a5",
   "metadata": {},
   "source": [
    "# 1. elevation bins"
   ]
  },
  {
   "cell_type": "code",
   "execution_count": null,
   "id": "a7909c87",
   "metadata": {},
   "outputs": [],
   "source": [
    "# these are the four naomi-made dataframes\n",
    "elevation_low_low=train[train.elevation < 500.0]\n",
    "elevation_low=train[(train.elevation > 500.0)&(train.elevation <1000)]\n",
    "elevation_mid = train[(train.elevation >1000.0) & (train.elevation < 2000.0)]\n",
    "elevation_high = train[train.elevation > 2000.0]"
   ]
  },
  {
   "cell_type": "code",
   "execution_count": null,
   "id": "03cbfac7",
   "metadata": {},
   "outputs": [],
   "source": [
    "# this is the train dataframe with a new column that labels the elevation based on bin labels\n",
    "\n",
    "labels = ['low-low', 'low', 'mid', 'high']\n",
    "bins = [ 0, 500, 1000, 2000, 4000]\n",
    "\n",
    "train['elevation_bins'] = pd.cut(train['elevation'] , bins=bins, labels=labels, include_lowest=True)\n"
   ]
  },
  {
   "cell_type": "code",
   "execution_count": null,
   "id": "4f36f243",
   "metadata": {},
   "outputs": [],
   "source": [
    "validate.shape"
   ]
  },
  {
   "cell_type": "code",
   "execution_count": null,
   "id": "b70afd7e",
   "metadata": {},
   "outputs": [],
   "source": [
    "# wraping this code in a function takes forever and breaks the host\n",
    "\n",
    "validate['elevation_bins']=pd.cut(validate['elevation'], bins = bins, labels=labels, include_lowest=True)\n"
   ]
  },
  {
   "cell_type": "code",
   "execution_count": null,
   "id": "465b9add",
   "metadata": {},
   "outputs": [],
   "source": [
    "validate.shape"
   ]
  },
  {
   "cell_type": "code",
   "execution_count": null,
   "id": "a0b7e33f",
   "metadata": {},
   "outputs": [],
   "source": [
    "test['elevation_bins']=pd.cut(test['elevation'], bins = bins, labels=labels, include_lowest=True)\n"
   ]
  },
  {
   "cell_type": "code",
   "execution_count": null,
   "id": "f2ebeef8",
   "metadata": {},
   "outputs": [],
   "source": [
    "test.shape"
   ]
  },
  {
   "cell_type": "markdown",
   "id": "c21d3db0",
   "metadata": {},
   "source": [
    "# 2. program generated bins"
   ]
  },
  {
   "cell_type": "code",
   "execution_count": null,
   "id": "84ea8a0d",
   "metadata": {},
   "outputs": [],
   "source": [
    "labels = ['bottom_quan', 'low_quan', 'mid_quan', 'high_quan']\n",
    "train['elevation_quantile'] =  pd.qcut(train['elevation'], 4, labels=labels)\n",
    "train.shape"
   ]
  },
  {
   "cell_type": "code",
   "execution_count": null,
   "id": "0f8f7372",
   "metadata": {},
   "outputs": [],
   "source": [
    "validate['elevation_quantile'] =  pd.qcut(validate['elevation'], 4, labels=labels)\n",
    "validate.shape\n"
   ]
  },
  {
   "cell_type": "code",
   "execution_count": null,
   "id": "e9d791fc",
   "metadata": {},
   "outputs": [],
   "source": [
    "test['elevation_quantile'] = pd.qcut(test['elevation'], 4, labels=labels)\n",
    "test.shape"
   ]
  },
  {
   "cell_type": "markdown",
   "id": "ccb96157",
   "metadata": {},
   "source": [
    "# 3. stat test for significance"
   ]
  },
  {
   "cell_type": "code",
   "execution_count": null,
   "id": "a8630d8e",
   "metadata": {},
   "outputs": [],
   "source": [
    "# ask mark for help"
   ]
  },
  {
   "cell_type": "markdown",
   "id": "81a782c1",
   "metadata": {},
   "source": [
    "# 4. how many seasons?\n"
   ]
  },
  {
   "cell_type": "code",
   "execution_count": null,
   "id": "3d12e176",
   "metadata": {},
   "outputs": [],
   "source": [
    "train.startdate.max()"
   ]
  },
  {
   "cell_type": "code",
   "execution_count": null,
   "id": "bca1d74c",
   "metadata": {},
   "outputs": [],
   "source": [
    "train.startdate.min()"
   ]
  },
  {
   "cell_type": "markdown",
   "id": "c8cd3f86",
   "metadata": {},
   "source": [
    "Counting September as an Autumn Month the break down is as such:\n",
    "- 2014 Sep-Nov = 1\n",
    "- 2014 Dec-2015 Feb = 2\n",
    "- 2015 Mar-May = 3\n",
    "- 2015 Jun-Aug = 4\n",
    "- 2015 Sep-Nov = 5\n",
    "- 2015 Dec-2016 Feb = 6\n",
    "- 2016 Mar-May = 7\n",
    "- 2016 Jun-Aug = 8\n",
    "*** eight seasons, two full years, two of each season\n",
    "\n",
    "\n"
   ]
  },
  {
   "cell_type": "markdown",
   "id": "9ed4f15b",
   "metadata": {},
   "source": [
    "# 5. creating bins based on seasons\n",
    "### do i want eight bins, one for each season? or four bins each with two seasons?\n"
   ]
  },
  {
   "cell_type": "code",
   "execution_count": null,
   "id": "4f35448f",
   "metadata": {},
   "outputs": [],
   "source": [
    "train.head()"
   ]
  },
  {
   "cell_type": "code",
   "execution_count": 3,
   "id": "443c015c",
   "metadata": {},
   "outputs": [
    {
     "ename": "NameError",
     "evalue": "name 'train' is not defined",
     "output_type": "error",
     "traceback": [
      "\u001b[0;31m---------------------------------------------------------------------------\u001b[0m",
      "\u001b[0;31mNameError\u001b[0m                                 Traceback (most recent call last)",
      "Input \u001b[0;32mIn [3]\u001b[0m, in \u001b[0;36m<cell line: 1>\u001b[0;34m()\u001b[0m\n\u001b[0;32m----> 1\u001b[0m train[\u001b[38;5;124m'\u001b[39m\u001b[38;5;124mmonth\u001b[39m\u001b[38;5;124m'\u001b[39m]\u001b[38;5;241m=\u001b[39m\u001b[43mtrain\u001b[49m[\u001b[38;5;124m'\u001b[39m\u001b[38;5;124mstartdate\u001b[39m\u001b[38;5;124m'\u001b[39m]\u001b[38;5;241m.\u001b[39mdt\u001b[38;5;241m.\u001b[39mmonth\n",
      "\u001b[0;31mNameError\u001b[0m: name 'train' is not defined"
     ]
    }
   ],
   "source": [
    "train['month']=train['startdate'].dt.month"
   ]
  },
  {
   "cell_type": "code",
   "execution_count": null,
   "id": "a32d4e83",
   "metadata": {},
   "outputs": [],
   "source": [
    "# binning for season. Each bin holds two years of seasons\n",
    "season_groups = {\n",
    "    \"Autumn\": [9,10,11],\n",
    "    \"Winter\": [12,1,2],\n",
    "    \"Spring\": [3,4,5],\n",
    "    \"Summer\": [6,7,8],\n",
    "}\n",
    "train[\"seasons\"] = (\n",
    "    train[\"month\"]\n",
    "    .apply(lambda x: [k for k in groups.keys() if x in groups[k]])\n",
    "    .str[0]\n",
    "    .fillna(\"Other\")\n",
    ")"
   ]
  },
  {
   "cell_type": "code",
   "execution_count": null,
   "id": "d84b285d",
   "metadata": {},
   "outputs": [],
   "source": [
    "df.head()"
   ]
  },
  {
   "cell_type": "code",
   "execution_count": null,
   "id": "b7d90302",
   "metadata": {},
   "outputs": [],
   "source": [
    "# creating four dataframes based on season\n",
    "autumn_train = train[train.seasons == 'Autumn']\n",
    "winter_train = train[train.seasons == 'Winter']\n",
    "spring_train = train[train.seasons == 'Spring']\n",
    "summer_train = train[train.seasons == 'Summer']"
   ]
  },
  {
   "cell_type": "code",
   "execution_count": null,
   "id": "c87d368d",
   "metadata": {},
   "outputs": [],
   "source": [
    "autumn_train.shape, winter_train.shape, spring_train.shape, summer_train.shape"
   ]
  },
  {
   "cell_type": "code",
   "execution_count": null,
   "id": "abb1a269",
   "metadata": {},
   "outputs": [],
   "source": [
    "def season_bins(df):\n",
    "    df['month']=df['startdate'].dt.month\n",
    "    \n",
    "    season_groups = {\n",
    "        \"Autumn\": [9,10,11],\n",
    "        \"Winter\": [12,1,2],\n",
    "        \"Spring\": [3,4,5],\n",
    "        \"Summer\": [6,7,8],\n",
    "    }\n",
    "    df[\"seasons\"] = (\n",
    "        df[\"month\"]\n",
    "        .apply(lambda x: [k for k in season_groups.keys() if x in season_groups[k]])\n",
    "        .str[0]\n",
    "        .fillna(\"Other\")\n",
    "    )\n",
    "    return df\n",
    "    "
   ]
  },
  {
   "cell_type": "code",
   "execution_count": null,
   "id": "940b6a3e",
   "metadata": {},
   "outputs": [],
   "source": [
    "season_bins(df)"
   ]
  },
  {
   "cell_type": "code",
   "execution_count": null,
   "id": "784eeff9",
   "metadata": {
    "scrolled": true
   },
   "outputs": [],
   "source": [
    "df.head()"
   ]
  },
  {
   "cell_type": "code",
   "execution_count": null,
   "id": "b8b17d5a",
   "metadata": {},
   "outputs": [],
   "source": []
  },
  {
   "cell_type": "markdown",
   "id": "361276ae",
   "metadata": {},
   "source": [
    "# 6. Take in Region bins"
   ]
  },
  {
   "cell_type": "code",
   "execution_count": null,
   "id": "d680725a",
   "metadata": {},
   "outputs": [],
   "source": [
    "region_groups = {\n",
    "    \"Dry\": [\"BWh\", \"BWk\", \"BSh\", \"BSk\"],\n",
    "    \"Temperate\": [\"Csa\", \"Csb\", \"Cfa\", \"Cfb\",],\n",
    "    \"Continental\": [\"Dsb\", \"Dsc\",\"Dwa\",\"Dwb\",\"Dfa\", \"Dfb\", \"Dfc\"]\n",
    "}\n",
    "train[\"region_bins\"] = (\n",
    "    train[\"region\"]\n",
    "    .apply(lambda x: [k for k in region_groups.keys() if x in region_groups[k]])\n",
    "    .str[0]\n",
    "    .fillna(\"Other\")\n",
    ")"
   ]
  },
  {
   "cell_type": "code",
   "execution_count": null,
   "id": "383f6608",
   "metadata": {},
   "outputs": [],
   "source": [
    "train.region_bins.value_counts()"
   ]
  },
  {
   "cell_type": "code",
   "execution_count": null,
   "id": "e35f6db8",
   "metadata": {},
   "outputs": [],
   "source": [
    "df.shape"
   ]
  },
  {
   "cell_type": "code",
   "execution_count": null,
   "id": "c40a3e97",
   "metadata": {},
   "outputs": [],
   "source": [
    "# defining variables\n",
    "labels_n = ['low-low', 'low', 'mid', 'high']\n",
    "bins = [ 0, 500, 1000, 2000, 4000]\n",
    "\n",
    "labels_q = ['bottom_quan', 'low_quan', 'mid_quan', 'high_quan']\n",
    "\n"
   ]
  },
  {
   "cell_type": "code",
   "execution_count": null,
   "id": "d817f957",
   "metadata": {},
   "outputs": [],
   "source": [
    "# putting engineered features onto df\n",
    "# elevation features\n",
    "df['elevation_bins']=pd.cut(df['elevation'], bins = bins, labels=labels_n, include_lowest=True)\n",
    "df['elevation_quantile'] =  pd.qcut(df['elevation'], 4, labels=labels_q)\n",
    "#season features\n",
    "df['month']=df['startdate'].dt.month\n",
    "\n",
    "season_groups = {\n",
    "    \"Autumn\": [9,10,11],\n",
    "    \"Winter\": [12,1,2],\n",
    "    \"Spring\": [3,4,5],\n",
    "    \"Summer\": [6,7,8],\n",
    "}\n",
    "df[\"seasons\"] = (\n",
    "    df[\"month\"]\n",
    "    .apply(lambda x: [k for k in season_groups.keys() if x in season_groups[k]])\n",
    "    .str[0]\n",
    "    .fillna(\"Other\")\n",
    ")\n",
    "#regional feature\n",
    "region_groups = {\n",
    "    \"Dry\": [\"BWh\", \"BWk\", \"BSh\", \"BSk\"],\n",
    "    \"Temperate\": [\"Csa\", \"Csb\", \"Cfa\", \"Cfb\",],\n",
    "    \"Continental\": [\"Dsb\", \"Dsc\",\"Dwa\",\"Dwb\",\"Dfa\", \"Dfb\", \"Dfc\"]\n",
    "}\n",
    "df[\"region_bins\"] = (\n",
    "    df[\"region\"]\n",
    "    .apply(lambda x: [k for k in region_groups.keys() if x in region_groups[k]])\n",
    "    .str[0]\n",
    "    .fillna(\"Other\")\n",
    ")"
   ]
  },
  {
   "cell_type": "code",
   "execution_count": null,
   "id": "bec80673",
   "metadata": {},
   "outputs": [],
   "source": [
    "df.shape"
   ]
  },
  {
   "cell_type": "code",
   "execution_count": null,
   "id": "d5cb903d",
   "metadata": {
    "scrolled": true
   },
   "outputs": [],
   "source": [
    "df.info()"
   ]
  },
  {
   "cell_type": "code",
   "execution_count": null,
   "id": "ef64f2bc",
   "metadata": {
    "scrolled": true
   },
   "outputs": [],
   "source": [
    "train.shape"
   ]
  },
  {
   "cell_type": "markdown",
   "id": "357c403a",
   "metadata": {},
   "source": [
    "# 7. modeling"
   ]
  },
  {
   "cell_type": "code",
   "execution_count": null,
   "id": "13ca4c9b",
   "metadata": {},
   "outputs": [],
   "source": [
    "drivers = list(df.columns)\n",
    "\n",
    "drivers.remove('startdate')\n",
    "drivers.remove('mean_temp')\n",
    "drivers.remove('month')\n",
    "# model is improved with month scaled as a feature\n",
    "drivers.remove('region_bins')"
   ]
  },
  {
   "cell_type": "code",
   "execution_count": null,
   "id": "fbbbad0f",
   "metadata": {},
   "outputs": [],
   "source": [
    "X_train, y_train, X_validate, y_validate, X_test, y_test = model.prep_for_model(df, validate, test, 'mean_temp', drivers)\n"
   ]
  },
  {
   "cell_type": "code",
   "execution_count": null,
   "id": "2ed1899e",
   "metadata": {},
   "outputs": [],
   "source": [
    "X_train.shape, y_train.shape, X_validate.shape, y_validate.shape, X_test.shape, y_test.shape"
   ]
  },
  {
   "cell_type": "code",
   "execution_count": null,
   "id": "6ae96546",
   "metadata": {},
   "outputs": [],
   "source": [
    "X_train.head()"
   ]
  },
  {
   "cell_type": "code",
   "execution_count": null,
   "id": "33d47cd8",
   "metadata": {},
   "outputs": [],
   "source": [
    "import warnings\n",
    "warnings.filterwarnings(\"ignore\")"
   ]
  },
  {
   "cell_type": "code",
   "execution_count": null,
   "id": "e52d8c75",
   "metadata": {
    "scrolled": true
   },
   "outputs": [],
   "source": [
    "model.regression_models(X_train, y_train, X_validate, y_validate)"
   ]
  },
  {
   "cell_type": "markdown",
   "id": "32d71219",
   "metadata": {},
   "source": [
    "# 8. Narrow bin modeling\n",
    "- run through OLS correlation thing for each dataframe and see if different features correlate differently between them"
   ]
  },
  {
   "cell_type": "code",
   "execution_count": null,
   "id": "0d251c4d",
   "metadata": {},
   "outputs": [],
   "source": [
    "# **be sure to use binning before running season and region as the data is not encoded in the original**\n",
    "\n",
    "#elevation dataframes\n",
    "elevation_low_low=df[df.elevation < 500.0]\n",
    "elevation_low=df[(df.elevation > 500.0)&(df.elevation <1000)]\n",
    "elevation_mid = df[(df.elevation >1000.0) & (df.elevation < 2000.0)]\n",
    "elevation_high = df[df.elevation > 2000.0]\n",
    "\n",
    "# season dataframes\n",
    "autumn_df = df[df.seasons == 'Autumn']\n",
    "winter_df = df[df.seasons == 'Winter']\n",
    "spring_df = df[df.seasons == 'Spring']\n",
    "summer_df = df[df.seasons == 'Summer']\n",
    "\n",
    "# region dataframes\n",
    "dry_df = df[df.region_bins == \"Dry\"]\n",
    "temperate_df = df[df.region_bins == \"Temperate\"]\n",
    "continental_df = df[df.region_bins == 'Continental']"
   ]
  },
  {
   "cell_type": "code",
   "execution_count": null,
   "id": "2f2e3a6f",
   "metadata": {},
   "outputs": [],
   "source": [
    "dry_df.shape"
   ]
  },
  {
   "cell_type": "code",
   "execution_count": null,
   "id": "a9394276",
   "metadata": {},
   "outputs": [],
   "source": [
    "df.region_bins.value_counts()"
   ]
  },
  {
   "cell_type": "code",
   "execution_count": null,
   "id": "70b5a15a",
   "metadata": {},
   "outputs": [],
   "source": []
  }
 ],
 "metadata": {
  "kernelspec": {
   "display_name": "Python 3 (ipykernel)",
   "language": "python",
   "name": "python3"
  },
  "language_info": {
   "codemirror_mode": {
    "name": "ipython",
    "version": 3
   },
   "file_extension": ".py",
   "mimetype": "text/x-python",
   "name": "python",
   "nbconvert_exporter": "python",
   "pygments_lexer": "ipython3",
   "version": "3.9.12"
  }
 },
 "nbformat": 4,
 "nbformat_minor": 5
}
