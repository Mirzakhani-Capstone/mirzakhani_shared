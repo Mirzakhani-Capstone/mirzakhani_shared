{
 "cells": [
  {
   "cell_type": "code",
   "execution_count": 1,
   "id": "a339a820",
   "metadata": {},
   "outputs": [],
   "source": [
    "import pandas as pd\n",
    "import numpy as np\n",
    "\n",
    "import matplotlib.pyplot as plt\n",
    "import seaborn as sns\n",
    "\n",
    "from sklearn.model_selection import train_test_split\n",
    "import sklearn.metrics as metric\n",
    "from sklearn.linear_model import LinearRegression, LassoLars\n",
    "from sklearn.preprocessing import PolynomialFeatures\n",
    "import sklearn.preprocessing as pre\n",
    "from sklearn.ensemble import HistGradientBoostingRegressor\n",
    "\n",
    "import warnings\n",
    "warnings.filterwarnings('ignore')\n",
    "\n",
    "import wrangle1 as w\n",
    "import model as m\n",
    "\n",
    "from importlib import reload"
   ]
  },
  {
   "cell_type": "markdown",
   "id": "6ef0d5a7",
   "metadata": {},
   "source": [
    "## Prepping Data with all features"
   ]
  },
  {
   "cell_type": "code",
   "execution_count": 2,
   "id": "c00f662f",
   "metadata": {},
   "outputs": [
    {
     "data": {
      "text/plain": [
       "((375734, 245), (31354, 245))"
      ]
     },
     "execution_count": 2,
     "metadata": {},
     "output_type": "execute_result"
    }
   ],
   "source": [
    "train_df = pd.read_csv('train_data.csv').drop('index', axis='columns')\n",
    "test_df = pd.read_csv('test_data.csv')\n",
    "train_df.shape, test_df.shape"
   ]
  },
  {
   "cell_type": "code",
   "execution_count": 21,
   "id": "41134093",
   "metadata": {},
   "outputs": [
    {
     "data": {
      "text/html": [
       "<div>\n",
       "<style scoped>\n",
       "    .dataframe tbody tr th:only-of-type {\n",
       "        vertical-align: middle;\n",
       "    }\n",
       "\n",
       "    .dataframe tbody tr th {\n",
       "        vertical-align: top;\n",
       "    }\n",
       "\n",
       "    .dataframe thead th {\n",
       "        text-align: right;\n",
       "    }\n",
       "</style>\n",
       "<table border=\"1\" class=\"dataframe\">\n",
       "  <thead>\n",
       "    <tr style=\"text-align: right;\">\n",
       "      <th></th>\n",
       "      <th>index</th>\n",
       "      <th>lat</th>\n",
       "      <th>lon</th>\n",
       "      <th>startdate</th>\n",
       "      <th>contest-pevpr-sfc-gauss-14d__pevpr</th>\n",
       "      <th>nmme0-tmp2m-34w__cancm30</th>\n",
       "      <th>nmme0-tmp2m-34w__cancm40</th>\n",
       "      <th>nmme0-tmp2m-34w__ccsm30</th>\n",
       "      <th>nmme0-tmp2m-34w__ccsm40</th>\n",
       "      <th>nmme0-tmp2m-34w__cfsv20</th>\n",
       "      <th>...</th>\n",
       "      <th>wind-vwnd-925-2010-11</th>\n",
       "      <th>wind-vwnd-925-2010-12</th>\n",
       "      <th>wind-vwnd-925-2010-13</th>\n",
       "      <th>wind-vwnd-925-2010-14</th>\n",
       "      <th>wind-vwnd-925-2010-15</th>\n",
       "      <th>wind-vwnd-925-2010-16</th>\n",
       "      <th>wind-vwnd-925-2010-17</th>\n",
       "      <th>wind-vwnd-925-2010-18</th>\n",
       "      <th>wind-vwnd-925-2010-19</th>\n",
       "      <th>wind-vwnd-925-2010-20</th>\n",
       "    </tr>\n",
       "  </thead>\n",
       "  <tbody>\n",
       "    <tr>\n",
       "      <th>0</th>\n",
       "      <td>375734</td>\n",
       "      <td>0.0</td>\n",
       "      <td>0.833333</td>\n",
       "      <td>11/1/22</td>\n",
       "      <td>339.88</td>\n",
       "      <td>30.88</td>\n",
       "      <td>30.92</td>\n",
       "      <td>29.17</td>\n",
       "      <td>31.02</td>\n",
       "      <td>29.47</td>\n",
       "      <td>...</td>\n",
       "      <td>-19.28</td>\n",
       "      <td>-39.77</td>\n",
       "      <td>-29.25</td>\n",
       "      <td>40.88</td>\n",
       "      <td>-8.31</td>\n",
       "      <td>14.91</td>\n",
       "      <td>-24.62</td>\n",
       "      <td>31.05</td>\n",
       "      <td>-23.69</td>\n",
       "      <td>6.27</td>\n",
       "    </tr>\n",
       "    <tr>\n",
       "      <th>1</th>\n",
       "      <td>375735</td>\n",
       "      <td>0.0</td>\n",
       "      <td>0.833333</td>\n",
       "      <td>11/2/22</td>\n",
       "      <td>334.63</td>\n",
       "      <td>30.88</td>\n",
       "      <td>30.92</td>\n",
       "      <td>29.17</td>\n",
       "      <td>31.02</td>\n",
       "      <td>29.47</td>\n",
       "      <td>...</td>\n",
       "      <td>-19.58</td>\n",
       "      <td>-43.14</td>\n",
       "      <td>-28.62</td>\n",
       "      <td>45.37</td>\n",
       "      <td>-5.42</td>\n",
       "      <td>16.97</td>\n",
       "      <td>-23.94</td>\n",
       "      <td>28.84</td>\n",
       "      <td>-20.61</td>\n",
       "      <td>14.16</td>\n",
       "    </tr>\n",
       "    <tr>\n",
       "      <th>2</th>\n",
       "      <td>375736</td>\n",
       "      <td>0.0</td>\n",
       "      <td>0.833333</td>\n",
       "      <td>11/3/22</td>\n",
       "      <td>337.83</td>\n",
       "      <td>30.88</td>\n",
       "      <td>30.92</td>\n",
       "      <td>29.17</td>\n",
       "      <td>31.02</td>\n",
       "      <td>29.47</td>\n",
       "      <td>...</td>\n",
       "      <td>-13.73</td>\n",
       "      <td>-44.22</td>\n",
       "      <td>-27.67</td>\n",
       "      <td>49.76</td>\n",
       "      <td>-1.31</td>\n",
       "      <td>21.44</td>\n",
       "      <td>-19.06</td>\n",
       "      <td>26.85</td>\n",
       "      <td>-16.78</td>\n",
       "      <td>13.42</td>\n",
       "    </tr>\n",
       "    <tr>\n",
       "      <th>3</th>\n",
       "      <td>375737</td>\n",
       "      <td>0.0</td>\n",
       "      <td>0.833333</td>\n",
       "      <td>11/4/22</td>\n",
       "      <td>345.81</td>\n",
       "      <td>30.88</td>\n",
       "      <td>30.92</td>\n",
       "      <td>29.17</td>\n",
       "      <td>31.02</td>\n",
       "      <td>29.47</td>\n",
       "      <td>...</td>\n",
       "      <td>-7.97</td>\n",
       "      <td>-49.47</td>\n",
       "      <td>-19.32</td>\n",
       "      <td>52.62</td>\n",
       "      <td>-0.44</td>\n",
       "      <td>21.65</td>\n",
       "      <td>-23.12</td>\n",
       "      <td>23.70</td>\n",
       "      <td>-18.62</td>\n",
       "      <td>10.69</td>\n",
       "    </tr>\n",
       "    <tr>\n",
       "      <th>4</th>\n",
       "      <td>375738</td>\n",
       "      <td>0.0</td>\n",
       "      <td>0.833333</td>\n",
       "      <td>11/5/22</td>\n",
       "      <td>357.39</td>\n",
       "      <td>30.88</td>\n",
       "      <td>30.92</td>\n",
       "      <td>29.17</td>\n",
       "      <td>31.02</td>\n",
       "      <td>29.47</td>\n",
       "      <td>...</td>\n",
       "      <td>-0.80</td>\n",
       "      <td>-56.07</td>\n",
       "      <td>-9.89</td>\n",
       "      <td>51.23</td>\n",
       "      <td>-7.57</td>\n",
       "      <td>19.86</td>\n",
       "      <td>-30.56</td>\n",
       "      <td>20.66</td>\n",
       "      <td>-25.08</td>\n",
       "      <td>19.64</td>\n",
       "    </tr>\n",
       "    <tr>\n",
       "      <th>...</th>\n",
       "      <td>...</td>\n",
       "      <td>...</td>\n",
       "      <td>...</td>\n",
       "      <td>...</td>\n",
       "      <td>...</td>\n",
       "      <td>...</td>\n",
       "      <td>...</td>\n",
       "      <td>...</td>\n",
       "      <td>...</td>\n",
       "      <td>...</td>\n",
       "      <td>...</td>\n",
       "      <td>...</td>\n",
       "      <td>...</td>\n",
       "      <td>...</td>\n",
       "      <td>...</td>\n",
       "      <td>...</td>\n",
       "      <td>...</td>\n",
       "      <td>...</td>\n",
       "      <td>...</td>\n",
       "      <td>...</td>\n",
       "      <td>...</td>\n",
       "    </tr>\n",
       "    <tr>\n",
       "      <th>31349</th>\n",
       "      <td>407083</td>\n",
       "      <td>1.0</td>\n",
       "      <td>0.866667</td>\n",
       "      <td>12/27/22</td>\n",
       "      <td>62.72</td>\n",
       "      <td>4.60</td>\n",
       "      <td>8.71</td>\n",
       "      <td>6.05</td>\n",
       "      <td>10.08</td>\n",
       "      <td>6.39</td>\n",
       "      <td>...</td>\n",
       "      <td>74.96</td>\n",
       "      <td>-8.49</td>\n",
       "      <td>32.39</td>\n",
       "      <td>38.82</td>\n",
       "      <td>7.42</td>\n",
       "      <td>11.75</td>\n",
       "      <td>-23.62</td>\n",
       "      <td>-0.24</td>\n",
       "      <td>-5.94</td>\n",
       "      <td>51.23</td>\n",
       "    </tr>\n",
       "    <tr>\n",
       "      <th>31350</th>\n",
       "      <td>407084</td>\n",
       "      <td>1.0</td>\n",
       "      <td>0.866667</td>\n",
       "      <td>12/28/22</td>\n",
       "      <td>73.41</td>\n",
       "      <td>4.60</td>\n",
       "      <td>8.71</td>\n",
       "      <td>6.05</td>\n",
       "      <td>10.08</td>\n",
       "      <td>6.39</td>\n",
       "      <td>...</td>\n",
       "      <td>88.57</td>\n",
       "      <td>0.83</td>\n",
       "      <td>26.23</td>\n",
       "      <td>37.64</td>\n",
       "      <td>13.01</td>\n",
       "      <td>17.84</td>\n",
       "      <td>-22.05</td>\n",
       "      <td>-3.03</td>\n",
       "      <td>1.31</td>\n",
       "      <td>51.45</td>\n",
       "    </tr>\n",
       "    <tr>\n",
       "      <th>31351</th>\n",
       "      <td>407085</td>\n",
       "      <td>1.0</td>\n",
       "      <td>0.866667</td>\n",
       "      <td>12/29/22</td>\n",
       "      <td>70.00</td>\n",
       "      <td>4.60</td>\n",
       "      <td>8.71</td>\n",
       "      <td>6.05</td>\n",
       "      <td>10.08</td>\n",
       "      <td>6.39</td>\n",
       "      <td>...</td>\n",
       "      <td>99.43</td>\n",
       "      <td>10.90</td>\n",
       "      <td>21.06</td>\n",
       "      <td>36.53</td>\n",
       "      <td>14.15</td>\n",
       "      <td>23.12</td>\n",
       "      <td>-25.60</td>\n",
       "      <td>-5.88</td>\n",
       "      <td>9.32</td>\n",
       "      <td>45.32</td>\n",
       "    </tr>\n",
       "    <tr>\n",
       "      <th>31352</th>\n",
       "      <td>407086</td>\n",
       "      <td>1.0</td>\n",
       "      <td>0.866667</td>\n",
       "      <td>12/30/22</td>\n",
       "      <td>79.81</td>\n",
       "      <td>4.60</td>\n",
       "      <td>8.71</td>\n",
       "      <td>6.05</td>\n",
       "      <td>10.08</td>\n",
       "      <td>6.39</td>\n",
       "      <td>...</td>\n",
       "      <td>109.39</td>\n",
       "      <td>21.37</td>\n",
       "      <td>20.42</td>\n",
       "      <td>36.05</td>\n",
       "      <td>6.38</td>\n",
       "      <td>29.00</td>\n",
       "      <td>-27.06</td>\n",
       "      <td>-1.42</td>\n",
       "      <td>16.06</td>\n",
       "      <td>31.88</td>\n",
       "    </tr>\n",
       "    <tr>\n",
       "      <th>31353</th>\n",
       "      <td>407087</td>\n",
       "      <td>1.0</td>\n",
       "      <td>0.866667</td>\n",
       "      <td>12/31/22</td>\n",
       "      <td>86.17</td>\n",
       "      <td>4.60</td>\n",
       "      <td>8.71</td>\n",
       "      <td>6.05</td>\n",
       "      <td>10.08</td>\n",
       "      <td>6.39</td>\n",
       "      <td>...</td>\n",
       "      <td>116.77</td>\n",
       "      <td>25.33</td>\n",
       "      <td>26.17</td>\n",
       "      <td>30.68</td>\n",
       "      <td>-3.24</td>\n",
       "      <td>27.70</td>\n",
       "      <td>-28.75</td>\n",
       "      <td>0.15</td>\n",
       "      <td>16.64</td>\n",
       "      <td>19.27</td>\n",
       "    </tr>\n",
       "  </tbody>\n",
       "</table>\n",
       "<p>31354 rows × 245 columns</p>\n",
       "</div>"
      ],
      "text/plain": [
       "        index  lat       lon startdate  contest-pevpr-sfc-gauss-14d__pevpr  \\\n",
       "0      375734  0.0  0.833333   11/1/22                              339.88   \n",
       "1      375735  0.0  0.833333   11/2/22                              334.63   \n",
       "2      375736  0.0  0.833333   11/3/22                              337.83   \n",
       "3      375737  0.0  0.833333   11/4/22                              345.81   \n",
       "4      375738  0.0  0.833333   11/5/22                              357.39   \n",
       "...       ...  ...       ...       ...                                 ...   \n",
       "31349  407083  1.0  0.866667  12/27/22                               62.72   \n",
       "31350  407084  1.0  0.866667  12/28/22                               73.41   \n",
       "31351  407085  1.0  0.866667  12/29/22                               70.00   \n",
       "31352  407086  1.0  0.866667  12/30/22                               79.81   \n",
       "31353  407087  1.0  0.866667  12/31/22                               86.17   \n",
       "\n",
       "       nmme0-tmp2m-34w__cancm30  nmme0-tmp2m-34w__cancm40  \\\n",
       "0                         30.88                     30.92   \n",
       "1                         30.88                     30.92   \n",
       "2                         30.88                     30.92   \n",
       "3                         30.88                     30.92   \n",
       "4                         30.88                     30.92   \n",
       "...                         ...                       ...   \n",
       "31349                      4.60                      8.71   \n",
       "31350                      4.60                      8.71   \n",
       "31351                      4.60                      8.71   \n",
       "31352                      4.60                      8.71   \n",
       "31353                      4.60                      8.71   \n",
       "\n",
       "       nmme0-tmp2m-34w__ccsm30  nmme0-tmp2m-34w__ccsm40  \\\n",
       "0                        29.17                    31.02   \n",
       "1                        29.17                    31.02   \n",
       "2                        29.17                    31.02   \n",
       "3                        29.17                    31.02   \n",
       "4                        29.17                    31.02   \n",
       "...                        ...                      ...   \n",
       "31349                     6.05                    10.08   \n",
       "31350                     6.05                    10.08   \n",
       "31351                     6.05                    10.08   \n",
       "31352                     6.05                    10.08   \n",
       "31353                     6.05                    10.08   \n",
       "\n",
       "       nmme0-tmp2m-34w__cfsv20  ...  wind-vwnd-925-2010-11  \\\n",
       "0                        29.47  ...                 -19.28   \n",
       "1                        29.47  ...                 -19.58   \n",
       "2                        29.47  ...                 -13.73   \n",
       "3                        29.47  ...                  -7.97   \n",
       "4                        29.47  ...                  -0.80   \n",
       "...                        ...  ...                    ...   \n",
       "31349                     6.39  ...                  74.96   \n",
       "31350                     6.39  ...                  88.57   \n",
       "31351                     6.39  ...                  99.43   \n",
       "31352                     6.39  ...                 109.39   \n",
       "31353                     6.39  ...                 116.77   \n",
       "\n",
       "       wind-vwnd-925-2010-12  wind-vwnd-925-2010-13  wind-vwnd-925-2010-14  \\\n",
       "0                     -39.77                 -29.25                  40.88   \n",
       "1                     -43.14                 -28.62                  45.37   \n",
       "2                     -44.22                 -27.67                  49.76   \n",
       "3                     -49.47                 -19.32                  52.62   \n",
       "4                     -56.07                  -9.89                  51.23   \n",
       "...                      ...                    ...                    ...   \n",
       "31349                  -8.49                  32.39                  38.82   \n",
       "31350                   0.83                  26.23                  37.64   \n",
       "31351                  10.90                  21.06                  36.53   \n",
       "31352                  21.37                  20.42                  36.05   \n",
       "31353                  25.33                  26.17                  30.68   \n",
       "\n",
       "       wind-vwnd-925-2010-15  wind-vwnd-925-2010-16  wind-vwnd-925-2010-17  \\\n",
       "0                      -8.31                  14.91                 -24.62   \n",
       "1                      -5.42                  16.97                 -23.94   \n",
       "2                      -1.31                  21.44                 -19.06   \n",
       "3                      -0.44                  21.65                 -23.12   \n",
       "4                      -7.57                  19.86                 -30.56   \n",
       "...                      ...                    ...                    ...   \n",
       "31349                   7.42                  11.75                 -23.62   \n",
       "31350                  13.01                  17.84                 -22.05   \n",
       "31351                  14.15                  23.12                 -25.60   \n",
       "31352                   6.38                  29.00                 -27.06   \n",
       "31353                  -3.24                  27.70                 -28.75   \n",
       "\n",
       "       wind-vwnd-925-2010-18  wind-vwnd-925-2010-19  wind-vwnd-925-2010-20  \n",
       "0                      31.05                 -23.69                   6.27  \n",
       "1                      28.84                 -20.61                  14.16  \n",
       "2                      26.85                 -16.78                  13.42  \n",
       "3                      23.70                 -18.62                  10.69  \n",
       "4                      20.66                 -25.08                  19.64  \n",
       "...                      ...                    ...                    ...  \n",
       "31349                  -0.24                  -5.94                  51.23  \n",
       "31350                  -3.03                   1.31                  51.45  \n",
       "31351                  -5.88                   9.32                  45.32  \n",
       "31352                  -1.42                  16.06                  31.88  \n",
       "31353                   0.15                  16.64                  19.27  \n",
       "\n",
       "[31354 rows x 245 columns]"
      ]
     },
     "execution_count": 21,
     "metadata": {},
     "output_type": "execute_result"
    }
   ],
   "source": [
    "test_df"
   ]
  },
  {
   "cell_type": "code",
   "execution_count": 3,
   "id": "4682f158",
   "metadata": {},
   "outputs": [
    {
     "data": {
      "text/plain": [
       "0.08344733242134063"
      ]
     },
     "execution_count": 3,
     "metadata": {},
     "output_type": "execute_result"
    }
   ],
   "source": [
    "test_df.shape[0] / train_df.shape[0]"
   ]
  },
  {
   "cell_type": "code",
   "execution_count": 5,
   "id": "44aaf817",
   "metadata": {},
   "outputs": [],
   "source": [
    "train_df = w.rename_data(train_df)"
   ]
  },
  {
   "cell_type": "code",
   "execution_count": 5,
   "id": "be1b74d7",
   "metadata": {},
   "outputs": [],
   "source": [
    "test_df = w.rename_data(test_df)"
   ]
  },
  {
   "cell_type": "code",
   "execution_count": 6,
   "id": "2635cea5",
   "metadata": {},
   "outputs": [],
   "source": [
    "train, validate, test = w.split_data(train_df)"
   ]
  },
  {
   "cell_type": "code",
   "execution_count": 7,
   "id": "d1f1bc9b",
   "metadata": {},
   "outputs": [
    {
     "data": {
      "text/plain": [
       "((244226, 245), (75147, 245), (56361, 245))"
      ]
     },
     "execution_count": 7,
     "metadata": {},
     "output_type": "execute_result"
    }
   ],
   "source": [
    "train.shape, validate.shape, test.shape"
   ]
  },
  {
   "cell_type": "code",
   "execution_count": 3,
   "id": "85551963",
   "metadata": {},
   "outputs": [],
   "source": [
    "def filter_na_cols(df):\n",
    "    count_na_df = df.isna().sum() \n",
    "    if count_na_df[count_na_df > 0].tolist():\n",
    "        return count_na_df[count_na_df > 0]\n",
    "    else:\n",
    "        return 'Clean dataset'"
   ]
  },
  {
   "cell_type": "code",
   "execution_count": null,
   "id": "5d54ff15",
   "metadata": {},
   "outputs": [],
   "source": [
    "count_na_df = df.isna().sum() \n",
    "count_na_df[count_na_df > 0].tolist()"
   ]
  },
  {
   "cell_type": "code",
   "execution_count": 7,
   "id": "97a82a17",
   "metadata": {},
   "outputs": [],
   "source": [
    "nulls = filter_na_cols(train_df)"
   ]
  },
  {
   "cell_type": "code",
   "execution_count": 8,
   "id": "e5bf215d",
   "metadata": {},
   "outputs": [
    {
     "data": {
      "text/plain": [
       "['nmme0-tmp2m-34w__ccsm30',\n",
       " 'nmme-tmp2m-56w__ccsm3',\n",
       " 'nmme-prate-34w__ccsm3',\n",
       " 'nmme0-prate-56w__ccsm30',\n",
       " 'nmme0-prate-34w__ccsm30',\n",
       " 'nmme-prate-56w__ccsm3',\n",
       " 'nmme-tmp2m-34w__ccsm3',\n",
       " 'ccsm30']"
      ]
     },
     "execution_count": 8,
     "metadata": {},
     "output_type": "execute_result"
    }
   ],
   "source": [
    "null_cols = list(nulls.index)\n",
    "null_cols"
   ]
  },
  {
   "cell_type": "markdown",
   "id": "7a11311c",
   "metadata": {},
   "source": [
    "According to the data description:\n",
    "\n",
    "```nmme0-tmp2m-34w```: file containing most recent monthly NMME model forecasts for tmp2m (cancm30,cancm40, ccsm30, ccsm40, cfsv20, gfdlflora0, gfdlflorb0, gfdl0, nasa0, nmme0mean) and average forecast across those models (nmme0mean)\"\n",
    "=> This means:\n",
    "\n",
    "```nmme0mean``` = (cancm30 + cancm40 + x +ccsm30 + ccsm40 + cfsv20 + gfdlflora0 + gfdlflorb0 + gfdl0 + nasa0) / 9"
   ]
  },
  {
   "cell_type": "code",
   "execution_count": 19,
   "id": "7baefb15",
   "metadata": {},
   "outputs": [],
   "source": [
    "calc_1 = ['nmme0-tmp2m-34w__cancm30',\n",
    "'nmme0-tmp2m-34w__cancm40',\n",
    "'nmme0-tmp2m-34w__ccsm30',\n",
    "'nmme0-tmp2m-34w__ccsm40',\n",
    "'nmme0-tmp2m-34w__cfsv20',\n",
    "'nmme0-tmp2m-34w__gfdlflora0',\n",
    "'nmme0-tmp2m-34w__gfdlflorb0',\n",
    "'nmme0-tmp2m-34w__gfdl0',\n",
    "'nmme0-tmp2m-34w__nasa0']"
   ]
  },
  {
   "cell_type": "code",
   "execution_count": 20,
   "id": "b4794e28",
   "metadata": {},
   "outputs": [
    {
     "data": {
      "text/plain": [
       "0         30.454444\n",
       "1         30.454444\n",
       "2         30.454444\n",
       "3         30.454444\n",
       "4         30.454444\n",
       "            ...    \n",
       "375729    22.551111\n",
       "375730    22.551111\n",
       "375731    22.551111\n",
       "375732    22.551111\n",
       "375733    22.551111\n",
       "Length: 375734, dtype: float64"
      ]
     },
     "execution_count": 20,
     "metadata": {},
     "output_type": "execute_result"
    }
   ],
   "source": [
    "df[calc_1].mean(axis=1)"
   ]
  },
  {
   "cell_type": "code",
   "execution_count": 24,
   "id": "c5872bf4",
   "metadata": {},
   "outputs": [],
   "source": [
    "df['calculated_nmme0-tmp2m-34w__nmme0mean'] = df[calc_1].mean(axis=1)"
   ]
  },
  {
   "cell_type": "code",
   "execution_count": 25,
   "id": "e79fb364",
   "metadata": {},
   "outputs": [
    {
     "data": {
      "text/plain": [
       "0         30.454444\n",
       "1         30.454444\n",
       "2         30.454444\n",
       "3         30.454444\n",
       "4         30.454444\n",
       "            ...    \n",
       "375729    22.551111\n",
       "375730    22.551111\n",
       "375731    22.551111\n",
       "375732    22.551111\n",
       "375733    22.551111\n",
       "Name: calculated_nmme0-tmp2m-34w__nmme0mean, Length: 375734, dtype: float64"
      ]
     },
     "execution_count": 25,
     "metadata": {},
     "output_type": "execute_result"
    }
   ],
   "source": [
    "df['calculated_nmme0-tmp2m-34w__nmme0mean']"
   ]
  },
  {
   "cell_type": "code",
   "execution_count": 12,
   "id": "b5ec8171",
   "metadata": {
    "scrolled": true
   },
   "outputs": [
    {
     "data": {
      "text/plain": [
       "['nmme0-tmp2m-34w__ccsm30',\n",
       " 'nmme-tmp2m-56w__ccsm3',\n",
       " 'nmme-prate-34w__ccsm3',\n",
       " 'nmme0-prate-56w__ccsm30',\n",
       " 'nmme0-prate-34w__ccsm30',\n",
       " 'nmme-prate-56w__ccsm3',\n",
       " 'nmme-tmp2m-34w__ccsm3',\n",
       " 'ccsm30']"
      ]
     },
     "execution_count": 12,
     "metadata": {},
     "output_type": "execute_result"
    }
   ],
   "source": [
    "null_cols"
   ]
  },
  {
   "cell_type": "code",
   "execution_count": 9,
   "id": "024c82aa",
   "metadata": {},
   "outputs": [],
   "source": [
    "g_means =  ['nmme0-tmp2m-34w__nmme0mean', \n",
    " 'nmme-tmp2m-56w__nmmemean', \n",
    " 'nmme-prate-34w__nmmemean', \n",
    " 'nmme0-prate-56w__nmme0mean', \n",
    " 'nmme0-prate-34w__nmme0mean', \n",
    " 'nmme-prate-56w__nmmemean', \n",
    " 'nmme-tmp2m-34w__nmmemean']\n",
    "\n",
    "\n",
    "g_1 = ['nmme0-tmp2m-34w__cancm30',\n",
    "'nmme0-tmp2m-34w__cancm40',\n",
    "'nmme0-tmp2m-34w__ccsm40',\n",
    "'nmme0-tmp2m-34w__cfsv20',\n",
    "'nmme0-tmp2m-34w__gfdlflora0',\n",
    "'nmme0-tmp2m-34w__gfdlflorb0',\n",
    "'nmme0-tmp2m-34w__gfdl0',\n",
    "'nmme0-tmp2m-34w__nasa0']\n",
    "\n",
    "g_2 = ['nmme-tmp2m-56w__cancm3',\n",
    "'nmme-tmp2m-56w__cancm4',\n",
    "'nmme-tmp2m-56w__ccsm4',\n",
    "'nmme-tmp2m-56w__cfsv2',\n",
    "'nmme-tmp2m-56w__gfdl',\n",
    "'nmme-tmp2m-56w__gfdlflora',\n",
    "'nmme-tmp2m-56w__gfdlflorb',\n",
    "'nmme-tmp2m-56w__nasa']\n",
    "\n",
    "g_3 = ['nmme-prate-34w__cancm3',\n",
    "'nmme-prate-34w__cancm4',\n",
    "'nmme-prate-34w__ccsm4',\n",
    "'nmme-prate-34w__cfsv2',\n",
    "'nmme-prate-34w__gfdl',\n",
    "'nmme-prate-34w__gfdlflora',\n",
    "'nmme-prate-34w__gfdlflorb',\n",
    "'nmme-prate-34w__nasa']\n",
    "\n",
    "g_4 = [ 'nmme0-prate-56w__cancm30',\n",
    "'nmme0-prate-56w__cancm40',\n",
    "'nmme0-prate-56w__ccsm40',\n",
    "'nmme0-prate-56w__cfsv20',\n",
    "'nmme0-prate-56w__gfdlflora0',\n",
    "'nmme0-prate-56w__gfdlflorb0',\n",
    "'nmme0-prate-56w__gfdl0',\n",
    "'nmme0-prate-56w__nasa0']\n",
    "\n",
    "g_5 = ['nmme0-prate-34w__cancm30',\n",
    "'nmme0-prate-34w__cancm40',\n",
    "'nmme0-prate-34w__ccsm40',\n",
    "'nmme0-prate-34w__cfsv20',\n",
    "'nmme0-prate-34w__gfdlflora0',\n",
    "'nmme0-prate-34w__gfdlflorb0',\n",
    "'nmme0-prate-34w__gfdl0',\n",
    "'nmme0-prate-34w__nasa0']\n",
    "\n",
    "g_6 = ['nmme-prate-56w__cancm3',\n",
    "'nmme-prate-56w__cancm4',\n",
    "'nmme-prate-56w__ccsm4',\n",
    "'nmme-prate-56w__cfsv2',\n",
    "'nmme-prate-56w__gfdl',\n",
    "'nmme-prate-56w__gfdlflora',\n",
    "'nmme-prate-56w__gfdlflorb',\n",
    "'nmme-prate-56w__nasa']\n",
    "\n",
    "g_7 = ['nmme-tmp2m-34w__cancm3',\n",
    "'nmme-tmp2m-34w__cancm4',\n",
    "'nmme-tmp2m-34w__ccsm4',\n",
    "'nmme-tmp2m-34w__cfsv2',\n",
    "'nmme-tmp2m-34w__gfdl',\n",
    "'nmme-tmp2m-34w__gfdlflora',\n",
    "'nmme-tmp2m-34w__gfdlflorb',\n",
    "'nmme-tmp2m-34w__nasa']"
   ]
  },
  {
   "cell_type": "code",
   "execution_count": 30,
   "id": "4b269e65",
   "metadata": {},
   "outputs": [
    {
     "data": {
      "text/plain": [
       "356      NaN\n",
       "357      NaN\n",
       "358      NaN\n",
       "359      NaN\n",
       "360      NaN\n",
       "          ..\n",
       "375385   NaN\n",
       "375386   NaN\n",
       "375387   NaN\n",
       "375388   NaN\n",
       "375389   NaN\n",
       "Name: nmme0-tmp2m-34w__ccsm30, Length: 15934, dtype: float64"
      ]
     },
     "execution_count": 30,
     "metadata": {},
     "output_type": "execute_result"
    }
   ],
   "source": [
    "df[df['nmme0-tmp2m-34w__ccsm30'].isna()]['nmme0-tmp2m-34w__ccsm30']"
   ]
  },
  {
   "cell_type": "code",
   "execution_count": 28,
   "id": "9f984b32",
   "metadata": {},
   "outputs": [
    {
     "data": {
      "text/plain": [
       "0         244.52\n",
       "1         244.52\n",
       "2         244.52\n",
       "3         244.52\n",
       "4         244.52\n",
       "           ...  \n",
       "375729    182.71\n",
       "375730    182.71\n",
       "375731    182.71\n",
       "375732    182.71\n",
       "375733    182.71\n",
       "Length: 375734, dtype: float64"
      ]
     },
     "execution_count": 28,
     "metadata": {},
     "output_type": "execute_result"
    }
   ],
   "source": [
    "df[g_1].sum(axis=1)"
   ]
  },
  {
   "cell_type": "markdown",
   "id": "32f205fc",
   "metadata": {},
   "source": [
    "'nmme0-tmp2m-34w__ccsm30' = ('nmme0-tmp2m-34w__nmme0mean'*9) - "
   ]
  },
  {
   "cell_type": "code",
   "execution_count": 38,
   "id": "8c81f3f1",
   "metadata": {},
   "outputs": [
    {
     "data": {
      "text/plain": [
       "0         274.14\n",
       "1         274.14\n",
       "2         274.14\n",
       "3         274.14\n",
       "4         274.14\n",
       "           ...  \n",
       "375729    202.95\n",
       "375730    202.95\n",
       "375731    202.95\n",
       "375732    202.95\n",
       "375733    202.95\n",
       "Name: nmme0-tmp2m-34w__nmme0mean, Length: 375734, dtype: float64"
      ]
     },
     "execution_count": 38,
     "metadata": {},
     "output_type": "execute_result"
    }
   ],
   "source": [
    "(df['nmme0-tmp2m-34w__nmme0mean'] *9)"
   ]
  },
  {
   "cell_type": "code",
   "execution_count": 34,
   "id": "18e77399",
   "metadata": {
    "scrolled": false
   },
   "outputs": [
    {
     "data": {
      "text/plain": [
       "0         29.62\n",
       "1         29.62\n",
       "2         29.62\n",
       "3         29.62\n",
       "4         29.62\n",
       "          ...  \n",
       "375729    20.24\n",
       "375730    20.24\n",
       "375731    20.24\n",
       "375732    20.24\n",
       "375733    20.24\n",
       "Length: 375734, dtype: float64"
      ]
     },
     "execution_count": 34,
     "metadata": {},
     "output_type": "execute_result"
    }
   ],
   "source": [
    "(df['nmme0-tmp2m-34w__nmme0mean'] *9) - (df[g_1].sum(axis=1))"
   ]
  },
  {
   "cell_type": "code",
   "execution_count": 33,
   "id": "0fbc0162",
   "metadata": {},
   "outputs": [
    {
     "data": {
      "text/plain": [
       "0         29.57\n",
       "1         29.57\n",
       "2         29.57\n",
       "3         29.57\n",
       "4         29.57\n",
       "          ...  \n",
       "375729    20.25\n",
       "375730    20.25\n",
       "375731    20.25\n",
       "375732    20.25\n",
       "375733    20.25\n",
       "Name: nmme0-tmp2m-34w__ccsm30, Length: 375734, dtype: float64"
      ]
     },
     "execution_count": 33,
     "metadata": {},
     "output_type": "execute_result"
    }
   ],
   "source": [
    "df['nmme0-tmp2m-34w__ccsm30']"
   ]
  },
  {
   "cell_type": "code",
   "execution_count": 35,
   "id": "20ed20f1",
   "metadata": {},
   "outputs": [],
   "source": [
    "df['calc_nmme0-tmp2m-34w__ccsm30'] = (df['nmme0-tmp2m-34w__nmme0mean'] *9) - (df[g_1].sum(axis=1))"
   ]
  },
  {
   "cell_type": "code",
   "execution_count": 39,
   "id": "13d5bff2",
   "metadata": {},
   "outputs": [
    {
     "data": {
      "text/html": [
       "<div>\n",
       "<style scoped>\n",
       "    .dataframe tbody tr th:only-of-type {\n",
       "        vertical-align: middle;\n",
       "    }\n",
       "\n",
       "    .dataframe tbody tr th {\n",
       "        vertical-align: top;\n",
       "    }\n",
       "\n",
       "    .dataframe thead th {\n",
       "        text-align: right;\n",
       "    }\n",
       "</style>\n",
       "<table border=\"1\" class=\"dataframe\">\n",
       "  <thead>\n",
       "    <tr style=\"text-align: right;\">\n",
       "      <th></th>\n",
       "      <th>calc_nmme0-tmp2m-34w__ccsm30</th>\n",
       "      <th>nmme0-tmp2m-34w__ccsm30</th>\n",
       "    </tr>\n",
       "  </thead>\n",
       "  <tbody>\n",
       "    <tr>\n",
       "      <th>356</th>\n",
       "      <td>30.91</td>\n",
       "      <td>NaN</td>\n",
       "    </tr>\n",
       "    <tr>\n",
       "      <th>357</th>\n",
       "      <td>30.91</td>\n",
       "      <td>NaN</td>\n",
       "    </tr>\n",
       "    <tr>\n",
       "      <th>358</th>\n",
       "      <td>30.91</td>\n",
       "      <td>NaN</td>\n",
       "    </tr>\n",
       "    <tr>\n",
       "      <th>359</th>\n",
       "      <td>30.91</td>\n",
       "      <td>NaN</td>\n",
       "    </tr>\n",
       "    <tr>\n",
       "      <th>360</th>\n",
       "      <td>30.91</td>\n",
       "      <td>NaN</td>\n",
       "    </tr>\n",
       "    <tr>\n",
       "      <th>...</th>\n",
       "      <td>...</td>\n",
       "      <td>...</td>\n",
       "    </tr>\n",
       "    <tr>\n",
       "      <th>375385</th>\n",
       "      <td>22.72</td>\n",
       "      <td>NaN</td>\n",
       "    </tr>\n",
       "    <tr>\n",
       "      <th>375386</th>\n",
       "      <td>22.72</td>\n",
       "      <td>NaN</td>\n",
       "    </tr>\n",
       "    <tr>\n",
       "      <th>375387</th>\n",
       "      <td>22.72</td>\n",
       "      <td>NaN</td>\n",
       "    </tr>\n",
       "    <tr>\n",
       "      <th>375388</th>\n",
       "      <td>22.72</td>\n",
       "      <td>NaN</td>\n",
       "    </tr>\n",
       "    <tr>\n",
       "      <th>375389</th>\n",
       "      <td>22.72</td>\n",
       "      <td>NaN</td>\n",
       "    </tr>\n",
       "  </tbody>\n",
       "</table>\n",
       "<p>15934 rows × 2 columns</p>\n",
       "</div>"
      ],
      "text/plain": [
       "        calc_nmme0-tmp2m-34w__ccsm30  nmme0-tmp2m-34w__ccsm30\n",
       "356                            30.91                      NaN\n",
       "357                            30.91                      NaN\n",
       "358                            30.91                      NaN\n",
       "359                            30.91                      NaN\n",
       "360                            30.91                      NaN\n",
       "...                              ...                      ...\n",
       "375385                         22.72                      NaN\n",
       "375386                         22.72                      NaN\n",
       "375387                         22.72                      NaN\n",
       "375388                         22.72                      NaN\n",
       "375389                         22.72                      NaN\n",
       "\n",
       "[15934 rows x 2 columns]"
      ]
     },
     "execution_count": 39,
     "metadata": {},
     "output_type": "execute_result"
    }
   ],
   "source": [
    "df[df['nmme0-tmp2m-34w__ccsm30'].isna()][['calc_nmme0-tmp2m-34w__ccsm30','nmme0-tmp2m-34w__ccsm30']]"
   ]
  },
  {
   "cell_type": "code",
   "execution_count": 11,
   "id": "e32865ea",
   "metadata": {},
   "outputs": [],
   "source": [
    "gs = [g_1, g_2, g_3, g_4, g_5, g_6, g_7]\n",
    "\n",
    "zip_cols = zip(null_cols, gs, g_means)\n",
    "for c, g, s in zip_cols:\n",
    "    train_df[c] = (train_df[s]*9) - train_df[g].sum(1)"
   ]
  },
  {
   "cell_type": "code",
   "execution_count": 13,
   "id": "fbed87a1",
   "metadata": {},
   "outputs": [
    {
     "data": {
      "text/plain": [
       "ccsm30    15934\n",
       "dtype: int64"
      ]
     },
     "execution_count": 13,
     "metadata": {},
     "output_type": "execute_result"
    }
   ],
   "source": [
    "filter_na_cols(train_df)"
   ]
  },
  {
   "cell_type": "code",
   "execution_count": 14,
   "id": "ee2afd44",
   "metadata": {},
   "outputs": [],
   "source": [
    "train_df = train_df.drop(columns='ccsm30')"
   ]
  },
  {
   "cell_type": "code",
   "execution_count": 15,
   "id": "398d9e35",
   "metadata": {},
   "outputs": [
    {
     "data": {
      "text/plain": [
       "(375734, 244)"
      ]
     },
     "execution_count": 15,
     "metadata": {},
     "output_type": "execute_result"
    }
   ],
   "source": [
    "train_df.shape"
   ]
  },
  {
   "cell_type": "code",
   "execution_count": 16,
   "id": "6d117eba",
   "metadata": {},
   "outputs": [],
   "source": [
    "train, validate, _ = w.split_data(train_df)"
   ]
  },
  {
   "cell_type": "code",
   "execution_count": 17,
   "id": "f6dfeea0",
   "metadata": {},
   "outputs": [
    {
     "data": {
      "text/plain": [
       "(244226, 244)"
      ]
     },
     "execution_count": 17,
     "metadata": {},
     "output_type": "execute_result"
    }
   ],
   "source": [
    "train.shape"
   ]
  },
  {
   "cell_type": "code",
   "execution_count": 20,
   "id": "56fb4e70",
   "metadata": {},
   "outputs": [
    {
     "data": {
      "text/plain": [
       "'Clean dataset'"
      ]
     },
     "execution_count": 20,
     "metadata": {},
     "output_type": "execute_result"
    }
   ],
   "source": [
    "filter_na_cols(train)"
   ]
  },
  {
   "cell_type": "code",
   "execution_count": 18,
   "id": "96aa5570",
   "metadata": {},
   "outputs": [],
   "source": [
    "drivers2 = ['nmme0-tmp2m-34w__cancm40',\n",
    " 'nmme0-tmp2m-34w__gfdlflorb0',\n",
    " 'nmme-tmp2m-56w__nmmemean',\n",
    " 'nmme-prate-34w__nmmemean',\n",
    " 'nmme0-prate-56w__nmme0mean',\n",
    " 'nmme0-prate-34w__nmme0mean',\n",
    " 'sea_level_press',\n",
    " 'nmme-prate-56w__nmmemean',\n",
    " 'nmme-tmp2m-34w__nmmemean',\n",
    " 'nmme0mean',\n",
    " 'wind-hgt-100-2010-1',\n",
    " 'nmme0-tmp2m-34w__nmme0mean',\n",
    " 'nmme-tmp2m-56w__cancm4',\n",
    " 'nmme-tmp2m-56w__ccsm3',\n",
    " 'nmme-tmp2m-56w__ccsm4',\n",
    " 'nmme-tmp2m-56w__cfsv2',\n",
    " 'nmme-tmp2m-56w__gfdlflora',\n",
    " 'nmme-tmp2m-56w__gfdlflorb',\n",
    " 'nmme0-prate-56w__cancm30',\n",
    " 'nmme0-prate-56w__cancm40',\n",
    " 'nmme0-prate-56w__ccsm30',\n",
    " 'nmme0-prate-56w__ccsm40',\n",
    " 'nmme0-prate-56w__cfsv20',\n",
    " 'nmme0-prate-56w__gfdlflora0',\n",
    " 'nmme0-prate-56w__gfdlflorb0',\n",
    " 'nmme0-prate-56w__gfdl0',\n",
    " 'nmme0-prate-56w__nasa0',\n",
    " 'nmme0-prate-34w__cancm30',\n",
    " 'nmme0-prate-34w__cancm40',\n",
    " 'nmme0-prate-34w__ccsm30',\n",
    " 'nmme0-prate-34w__ccsm40',\n",
    " 'nmme0-prate-34w__cfsv20',\n",
    " 'nmme0-prate-34w__gfdlflora0',\n",
    " 'nmme0-prate-34w__gfdlflorb0',\n",
    " 'nmme0-prate-34w__gfdl0',\n",
    " 'nmme0-prate-34w__nasa0',\n",
    " 'nmme-prate-56w__gfdlflorb',\n",
    " 'nmme-tmp2m-34w__cancm3',\n",
    " 'nmme-tmp2m-34w__ccsm3',\n",
    " 'nmme-tmp2m-34w__ccsm4',\n",
    " 'nmme-tmp2m-34w__cfsv2',\n",
    " 'nmme-tmp2m-34w__gfdlflora',\n",
    " 'nmme-tmp2m-34w__gfdlflorb',\n",
    " 'nmme-tmp2m-34w__nasa',\n",
    " 'cancm30',\n",
    " 'cancm40',\n",
    " 'cfsv20',\n",
    " 'gfdlflora0',\n",
    " 'gfdl0',\n",
    " 'nasa0',\n",
    " 'wind-hgt-500-2010-1',\n",
    " 'region',\n",
    " 'elevation',\n",
    " 'lat',\n",
    " 'lon',\n",
    " 'potential_evap',\n",
    " 'precip',\n",
    " 'barometric_pressure',\n",
    " 'all_atmos_precip',\n",
    " 'relative_humidity',\n",
    " 'sea_level_press',\n",
    " 'height_10_mb',\n",
    " 'height_100_mb',\n",
    " 'height_500_mb',\n",
    " 'height_850_mb',\n",
    " 'zonal_wind_250mb',\n",
    " 'zonal_wind_925mb',\n",
    " 'long_wind_250mb',\n",
    " 'long_wind_925mb']"
   ]
  },
  {
   "cell_type": "code",
   "execution_count": 58,
   "id": "1e4a166c",
   "metadata": {},
   "outputs": [],
   "source": [
    "import model as m"
   ]
  },
  {
   "cell_type": "code",
   "execution_count": 20,
   "id": "2e846a76",
   "metadata": {},
   "outputs": [
    {
     "ename": "KeyError",
     "evalue": "\"['index', 'contest-pevpr-sfc-gauss-14d__pevpr', 'contest-wind-h10-14d__wind-hgt-10', 'contest-rhum-sig995-14d__rhum', 'contest-wind-h100-14d__wind-hgt-100', 'contest-slp-14d__slp', 'contest-wind-vwnd-925-14d__wind-vwnd-925', 'contest-pres-sfc-gauss-14d__pres', 'contest-wind-uwnd-250-14d__wind-uwnd-250', 'contest-prwtr-eatm-14d__prwtr', 'contest-wind-vwnd-250-14d__wind-vwnd-250', 'contest-precip-14d__precip', 'contest-wind-h850-14d__wind-hgt-850', 'contest-wind-uwnd-925-14d__wind-uwnd-925', 'contest-wind-h500-14d__wind-hgt-500', 'ccsm30', 'elevation__elevation'] not in index\"",
     "output_type": "error",
     "traceback": [
      "\u001b[0;31m---------------------------------------------------------------------------\u001b[0m",
      "\u001b[0;31mKeyError\u001b[0m                                  Traceback (most recent call last)",
      "Input \u001b[0;32mIn [20]\u001b[0m, in \u001b[0;36m<cell line: 1>\u001b[0;34m()\u001b[0m\n\u001b[0;32m----> 1\u001b[0m X_train, y_train, X_validate, y_validate, X_test \u001b[38;5;241m=\u001b[39m \u001b[43mm\u001b[49m\u001b[38;5;241;43m.\u001b[39;49m\u001b[43mprep_for_model\u001b[49m\u001b[43m(\u001b[49m\u001b[43mtrain\u001b[49m\u001b[43m,\u001b[49m\u001b[43m \u001b[49m\u001b[43mvalidate\u001b[49m\u001b[43m,\u001b[49m\u001b[43m \u001b[49m\u001b[43mtest_df\u001b[49m\u001b[43m,\u001b[49m\u001b[43m \u001b[49m\u001b[38;5;124;43m'\u001b[39;49m\u001b[38;5;124;43mmean_temp\u001b[39;49m\u001b[38;5;124;43m'\u001b[39;49m\u001b[43m,\u001b[49m\u001b[43m \u001b[49m\u001b[43mdrivers2\u001b[49m\u001b[43m)\u001b[49m\n",
      "File \u001b[0;32m~/codeup-data-science/mirzakhani_shared/mark/model.py:42\u001b[0m, in \u001b[0;36mprep_for_model\u001b[0;34m(train, validate, test, target, drivers)\u001b[0m\n\u001b[1;32m     36\u001b[0m \u001b[38;5;124;03m'''\u001b[39;00m\n\u001b[1;32m     37\u001b[0m \u001b[38;5;124;03mTakes in train, validate, and test data frames\u001b[39;00m\n\u001b[1;32m     38\u001b[0m \u001b[38;5;124;03mthen splits  for X (all variables but target variable) \u001b[39;00m\n\u001b[1;32m     39\u001b[0m \u001b[38;5;124;03mand y (only target variable) for each data frame\u001b[39;00m\n\u001b[1;32m     40\u001b[0m \u001b[38;5;124;03m'''\u001b[39;00m\n\u001b[1;32m     41\u001b[0m \u001b[38;5;66;03m#scale data\u001b[39;00m\n\u001b[0;32m---> 42\u001b[0m train_scaled, validate_scaled, test_scaled \u001b[38;5;241m=\u001b[39m \u001b[43mscale_data\u001b[49m\u001b[43m(\u001b[49m\u001b[43mtrain\u001b[49m\u001b[43m,\u001b[49m\u001b[43m \u001b[49m\u001b[43mvalidate\u001b[49m\u001b[43m,\u001b[49m\u001b[43m \u001b[49m\u001b[43mtest\u001b[49m\u001b[43m)\u001b[49m\n\u001b[1;32m     44\u001b[0m X_train \u001b[38;5;241m=\u001b[39m train_scaled[drivers]\n\u001b[1;32m     46\u001b[0m \u001b[38;5;66;03m#make list of cat variables to make dummies for\u001b[39;00m\n",
      "File \u001b[0;32m~/codeup-data-science/mirzakhani_shared/mark/model.py:22\u001b[0m, in \u001b[0;36mscale_data\u001b[0;34m(train, validate, test)\u001b[0m\n\u001b[1;32m     19\u001b[0m test_scaled \u001b[38;5;241m=\u001b[39m test\u001b[38;5;241m.\u001b[39mcopy()\n\u001b[1;32m     21\u001b[0m minmax \u001b[38;5;241m=\u001b[39m pre\u001b[38;5;241m.\u001b[39mMinMaxScaler()\n\u001b[0;32m---> 22\u001b[0m minmax\u001b[38;5;241m.\u001b[39mfit(\u001b[43mtrain\u001b[49m\u001b[43m[\u001b[49m\u001b[43mscale_features\u001b[49m\u001b[43m]\u001b[49m)\n\u001b[1;32m     24\u001b[0m train_scaled[scale_features] \u001b[38;5;241m=\u001b[39m pd\u001b[38;5;241m.\u001b[39mDataFrame(minmax\u001b[38;5;241m.\u001b[39mtransform(train[scale_features]),\n\u001b[1;32m     25\u001b[0m                                               columns\u001b[38;5;241m=\u001b[39mtrain[scale_features]\u001b[38;5;241m.\u001b[39mcolumns\u001b[38;5;241m.\u001b[39mvalues)\u001b[38;5;241m.\u001b[39mset_index([train\u001b[38;5;241m.\u001b[39mindex\u001b[38;5;241m.\u001b[39mvalues])\n\u001b[1;32m     27\u001b[0m validate_scaled[scale_features] \u001b[38;5;241m=\u001b[39m pd\u001b[38;5;241m.\u001b[39mDataFrame(minmax\u001b[38;5;241m.\u001b[39mtransform(validate[scale_features]),\n\u001b[1;32m     28\u001b[0m                                            columns\u001b[38;5;241m=\u001b[39mvalidate[scale_features]\u001b[38;5;241m.\u001b[39mcolumns\u001b[38;5;241m.\u001b[39mvalues)\u001b[38;5;241m.\u001b[39mset_index([validate\u001b[38;5;241m.\u001b[39mindex\u001b[38;5;241m.\u001b[39mvalues])\n",
      "File \u001b[0;32m/usr/local/anaconda3/lib/python3.9/site-packages/pandas/core/frame.py:3511\u001b[0m, in \u001b[0;36mDataFrame.__getitem__\u001b[0;34m(self, key)\u001b[0m\n\u001b[1;32m   3509\u001b[0m     \u001b[38;5;28;01mif\u001b[39;00m is_iterator(key):\n\u001b[1;32m   3510\u001b[0m         key \u001b[38;5;241m=\u001b[39m \u001b[38;5;28mlist\u001b[39m(key)\n\u001b[0;32m-> 3511\u001b[0m     indexer \u001b[38;5;241m=\u001b[39m \u001b[38;5;28;43mself\u001b[39;49m\u001b[38;5;241;43m.\u001b[39;49m\u001b[43mcolumns\u001b[49m\u001b[38;5;241;43m.\u001b[39;49m\u001b[43m_get_indexer_strict\u001b[49m\u001b[43m(\u001b[49m\u001b[43mkey\u001b[49m\u001b[43m,\u001b[49m\u001b[43m \u001b[49m\u001b[38;5;124;43m\"\u001b[39;49m\u001b[38;5;124;43mcolumns\u001b[39;49m\u001b[38;5;124;43m\"\u001b[39;49m\u001b[43m)\u001b[49m[\u001b[38;5;241m1\u001b[39m]\n\u001b[1;32m   3513\u001b[0m \u001b[38;5;66;03m# take() does not accept boolean indexers\u001b[39;00m\n\u001b[1;32m   3514\u001b[0m \u001b[38;5;28;01mif\u001b[39;00m \u001b[38;5;28mgetattr\u001b[39m(indexer, \u001b[38;5;124m\"\u001b[39m\u001b[38;5;124mdtype\u001b[39m\u001b[38;5;124m\"\u001b[39m, \u001b[38;5;28;01mNone\u001b[39;00m) \u001b[38;5;241m==\u001b[39m \u001b[38;5;28mbool\u001b[39m:\n",
      "File \u001b[0;32m/usr/local/anaconda3/lib/python3.9/site-packages/pandas/core/indexes/base.py:5782\u001b[0m, in \u001b[0;36mIndex._get_indexer_strict\u001b[0;34m(self, key, axis_name)\u001b[0m\n\u001b[1;32m   5779\u001b[0m \u001b[38;5;28;01melse\u001b[39;00m:\n\u001b[1;32m   5780\u001b[0m     keyarr, indexer, new_indexer \u001b[38;5;241m=\u001b[39m \u001b[38;5;28mself\u001b[39m\u001b[38;5;241m.\u001b[39m_reindex_non_unique(keyarr)\n\u001b[0;32m-> 5782\u001b[0m \u001b[38;5;28;43mself\u001b[39;49m\u001b[38;5;241;43m.\u001b[39;49m\u001b[43m_raise_if_missing\u001b[49m\u001b[43m(\u001b[49m\u001b[43mkeyarr\u001b[49m\u001b[43m,\u001b[49m\u001b[43m \u001b[49m\u001b[43mindexer\u001b[49m\u001b[43m,\u001b[49m\u001b[43m \u001b[49m\u001b[43maxis_name\u001b[49m\u001b[43m)\u001b[49m\n\u001b[1;32m   5784\u001b[0m keyarr \u001b[38;5;241m=\u001b[39m \u001b[38;5;28mself\u001b[39m\u001b[38;5;241m.\u001b[39mtake(indexer)\n\u001b[1;32m   5785\u001b[0m \u001b[38;5;28;01mif\u001b[39;00m \u001b[38;5;28misinstance\u001b[39m(key, Index):\n\u001b[1;32m   5786\u001b[0m     \u001b[38;5;66;03m# GH 42790 - Preserve name from an Index\u001b[39;00m\n",
      "File \u001b[0;32m/usr/local/anaconda3/lib/python3.9/site-packages/pandas/core/indexes/base.py:5845\u001b[0m, in \u001b[0;36mIndex._raise_if_missing\u001b[0;34m(self, key, indexer, axis_name)\u001b[0m\n\u001b[1;32m   5842\u001b[0m     \u001b[38;5;28;01mraise\u001b[39;00m \u001b[38;5;167;01mKeyError\u001b[39;00m(\u001b[38;5;124mf\u001b[39m\u001b[38;5;124m\"\u001b[39m\u001b[38;5;124mNone of [\u001b[39m\u001b[38;5;132;01m{\u001b[39;00mkey\u001b[38;5;132;01m}\u001b[39;00m\u001b[38;5;124m] are in the [\u001b[39m\u001b[38;5;132;01m{\u001b[39;00maxis_name\u001b[38;5;132;01m}\u001b[39;00m\u001b[38;5;124m]\u001b[39m\u001b[38;5;124m\"\u001b[39m)\n\u001b[1;32m   5844\u001b[0m not_found \u001b[38;5;241m=\u001b[39m \u001b[38;5;28mlist\u001b[39m(ensure_index(key)[missing_mask\u001b[38;5;241m.\u001b[39mnonzero()[\u001b[38;5;241m0\u001b[39m]]\u001b[38;5;241m.\u001b[39munique())\n\u001b[0;32m-> 5845\u001b[0m \u001b[38;5;28;01mraise\u001b[39;00m \u001b[38;5;167;01mKeyError\u001b[39;00m(\u001b[38;5;124mf\u001b[39m\u001b[38;5;124m\"\u001b[39m\u001b[38;5;132;01m{\u001b[39;00mnot_found\u001b[38;5;132;01m}\u001b[39;00m\u001b[38;5;124m not in index\u001b[39m\u001b[38;5;124m\"\u001b[39m)\n",
      "\u001b[0;31mKeyError\u001b[0m: \"['index', 'contest-pevpr-sfc-gauss-14d__pevpr', 'contest-wind-h10-14d__wind-hgt-10', 'contest-rhum-sig995-14d__rhum', 'contest-wind-h100-14d__wind-hgt-100', 'contest-slp-14d__slp', 'contest-wind-vwnd-925-14d__wind-vwnd-925', 'contest-pres-sfc-gauss-14d__pres', 'contest-wind-uwnd-250-14d__wind-uwnd-250', 'contest-prwtr-eatm-14d__prwtr', 'contest-wind-vwnd-250-14d__wind-vwnd-250', 'contest-precip-14d__precip', 'contest-wind-h850-14d__wind-hgt-850', 'contest-wind-uwnd-925-14d__wind-uwnd-925', 'contest-wind-h500-14d__wind-hgt-500', 'ccsm30', 'elevation__elevation'] not in index\""
     ]
    }
   ],
   "source": [
    "X_train, y_train, X_validate, y_validate, X_test = m.prep_for_model(train, validate, test_df, 'mean_temp', drivers2)\n",
    "\n",
    "\n",
    "\n"
   ]
  },
  {
   "cell_type": "code",
   "execution_count": null,
   "id": "50428f63",
   "metadata": {},
   "outputs": [],
   "source": [
    "est = HistGradientBoostingRegressor(max_depth=20, min_samples_leaf=3)\n",
    "est.fit(X_train, y_train)\n",
    "\n",
    "metric_df = pd.DataFrame(data=[\n",
    "        {\n",
    "            'model': 'Quadratic', \n",
    "            f'RMSE_train': metric.mean_squared_error(\n",
    "                y_train,\n",
    "                est.predict(X_train)) ** .5,\n",
    "            f'RMSE_validate': metric.mean_squared_error(\n",
    "                y_validate,\n",
    "                est.predict(X_validate)) ** .5\n",
    "        }])\n",
    "\n",
    "metric_df"
   ]
  },
  {
   "cell_type": "code",
   "execution_count": 63,
   "id": "ddd1f591",
   "metadata": {},
   "outputs": [
    {
     "data": {
      "text/html": [
       "<div>\n",
       "<style scoped>\n",
       "    .dataframe tbody tr th:only-of-type {\n",
       "        vertical-align: middle;\n",
       "    }\n",
       "\n",
       "    .dataframe tbody tr th {\n",
       "        vertical-align: top;\n",
       "    }\n",
       "\n",
       "    .dataframe thead th {\n",
       "        text-align: right;\n",
       "    }\n",
       "</style>\n",
       "<table border=\"1\" class=\"dataframe\">\n",
       "  <thead>\n",
       "    <tr style=\"text-align: right;\">\n",
       "      <th></th>\n",
       "      <th>model</th>\n",
       "      <th>RMSE_train</th>\n",
       "      <th>RMSE_validate</th>\n",
       "    </tr>\n",
       "  </thead>\n",
       "  <tbody>\n",
       "    <tr>\n",
       "      <th>0</th>\n",
       "      <td>Quadratic</td>\n",
       "      <td>0.748009</td>\n",
       "      <td>0.761539</td>\n",
       "    </tr>\n",
       "  </tbody>\n",
       "</table>\n",
       "</div>"
      ],
      "text/plain": [
       "       model  RMSE_train  RMSE_validate\n",
       "0  Quadratic    0.748009       0.761539"
      ]
     },
     "execution_count": 63,
     "metadata": {},
     "output_type": "execute_result"
    }
   ],
   "source": [
    "# make the polynomial features to get a new set of features\n",
    "pf = PolynomialFeatures(degree=2)\n",
    "# fit and transform X_train_scaled\n",
    "X_train_degree2 = pf.fit_transform(X_train)\n",
    "# transform X_validate_scaled & X_test_scaled\n",
    "X_validate_degree2 = pf.transform(X_validate)\n",
    "X_test_degree2 = pf.transform(X_test)\n",
    "# create the model object\n",
    "lm2 = LinearRegression(normalize=True)\n",
    "lm2.fit(X_train_degree2, y_train)\n",
    "\n",
    "metric_df = pd.DataFrame(data=[\n",
    "        {\n",
    "            'model': 'Quadratic', \n",
    "            f'RMSE_train': metric.mean_squared_error(\n",
    "                y_train,\n",
    "                lm2.predict(X_train_degree2)) ** .5,\n",
    "            f'RMSE_validate': metric.mean_squared_error(\n",
    "                y_validate,\n",
    "                lm2.predict(X_validate_degree2)) ** .5\n",
    "        }])\n",
    "\n",
    "metric_df"
   ]
  },
  {
   "cell_type": "code",
   "execution_count": 64,
   "id": "4ddd1c76",
   "metadata": {},
   "outputs": [
    {
     "data": {
      "text/plain": [
       "array([17.83670849, -5.86949116,  7.07576412, ..., -6.21368366,\n",
       "       25.46963161, 25.76183742])"
      ]
     },
     "execution_count": 64,
     "metadata": {},
     "output_type": "execute_result"
    }
   ],
   "source": [
    "test_pred = lm2.predict(X_test_degree2)\n",
    "\n",
    "test_pred"
   ]
  },
  {
   "cell_type": "code",
   "execution_count": 65,
   "id": "15f01cca",
   "metadata": {},
   "outputs": [
    {
     "ename": "KeyError",
     "evalue": "'index'",
     "output_type": "error",
     "traceback": [
      "\u001b[0;31m---------------------------------------------------------------------------\u001b[0m",
      "\u001b[0;31mKeyError\u001b[0m                                  Traceback (most recent call last)",
      "File \u001b[0;32m/usr/local/anaconda3/lib/python3.9/site-packages/pandas/core/indexes/base.py:3621\u001b[0m, in \u001b[0;36mIndex.get_loc\u001b[0;34m(self, key, method, tolerance)\u001b[0m\n\u001b[1;32m   3620\u001b[0m \u001b[38;5;28;01mtry\u001b[39;00m:\n\u001b[0;32m-> 3621\u001b[0m     \u001b[38;5;28;01mreturn\u001b[39;00m \u001b[38;5;28;43mself\u001b[39;49m\u001b[38;5;241;43m.\u001b[39;49m\u001b[43m_engine\u001b[49m\u001b[38;5;241;43m.\u001b[39;49m\u001b[43mget_loc\u001b[49m\u001b[43m(\u001b[49m\u001b[43mcasted_key\u001b[49m\u001b[43m)\u001b[49m\n\u001b[1;32m   3622\u001b[0m \u001b[38;5;28;01mexcept\u001b[39;00m \u001b[38;5;167;01mKeyError\u001b[39;00m \u001b[38;5;28;01mas\u001b[39;00m err:\n",
      "File \u001b[0;32m/usr/local/anaconda3/lib/python3.9/site-packages/pandas/_libs/index.pyx:136\u001b[0m, in \u001b[0;36mpandas._libs.index.IndexEngine.get_loc\u001b[0;34m()\u001b[0m\n",
      "File \u001b[0;32m/usr/local/anaconda3/lib/python3.9/site-packages/pandas/_libs/index.pyx:163\u001b[0m, in \u001b[0;36mpandas._libs.index.IndexEngine.get_loc\u001b[0;34m()\u001b[0m\n",
      "File \u001b[0;32mpandas/_libs/hashtable_class_helper.pxi:5198\u001b[0m, in \u001b[0;36mpandas._libs.hashtable.PyObjectHashTable.get_item\u001b[0;34m()\u001b[0m\n",
      "File \u001b[0;32mpandas/_libs/hashtable_class_helper.pxi:5206\u001b[0m, in \u001b[0;36mpandas._libs.hashtable.PyObjectHashTable.get_item\u001b[0;34m()\u001b[0m\n",
      "\u001b[0;31mKeyError\u001b[0m: 'index'",
      "\nThe above exception was the direct cause of the following exception:\n",
      "\u001b[0;31mKeyError\u001b[0m                                  Traceback (most recent call last)",
      "Input \u001b[0;32mIn [65]\u001b[0m, in \u001b[0;36m<cell line: 1>\u001b[0;34m()\u001b[0m\n\u001b[1;32m      1\u001b[0m jan_30_predictions \u001b[38;5;241m=\u001b[39m pd\u001b[38;5;241m.\u001b[39mDataFrame({\u001b[38;5;124m'\u001b[39m\u001b[38;5;124mcontest-tmp2m-14d__tmp2m\u001b[39m\u001b[38;5;124m'\u001b[39m : test_pred, \n\u001b[0;32m----> 2\u001b[0m                      \u001b[38;5;124m'\u001b[39m\u001b[38;5;124mindex\u001b[39m\u001b[38;5;124m'\u001b[39m: \u001b[43mtest\u001b[49m\u001b[43m[\u001b[49m\u001b[38;5;124;43m'\u001b[39;49m\u001b[38;5;124;43mindex\u001b[39;49m\u001b[38;5;124;43m'\u001b[39;49m\u001b[43m]\u001b[49m})\n\u001b[1;32m      4\u001b[0m jan_30_predictions\n",
      "File \u001b[0;32m/usr/local/anaconda3/lib/python3.9/site-packages/pandas/core/frame.py:3505\u001b[0m, in \u001b[0;36mDataFrame.__getitem__\u001b[0;34m(self, key)\u001b[0m\n\u001b[1;32m   3503\u001b[0m \u001b[38;5;28;01mif\u001b[39;00m \u001b[38;5;28mself\u001b[39m\u001b[38;5;241m.\u001b[39mcolumns\u001b[38;5;241m.\u001b[39mnlevels \u001b[38;5;241m>\u001b[39m \u001b[38;5;241m1\u001b[39m:\n\u001b[1;32m   3504\u001b[0m     \u001b[38;5;28;01mreturn\u001b[39;00m \u001b[38;5;28mself\u001b[39m\u001b[38;5;241m.\u001b[39m_getitem_multilevel(key)\n\u001b[0;32m-> 3505\u001b[0m indexer \u001b[38;5;241m=\u001b[39m \u001b[38;5;28;43mself\u001b[39;49m\u001b[38;5;241;43m.\u001b[39;49m\u001b[43mcolumns\u001b[49m\u001b[38;5;241;43m.\u001b[39;49m\u001b[43mget_loc\u001b[49m\u001b[43m(\u001b[49m\u001b[43mkey\u001b[49m\u001b[43m)\u001b[49m\n\u001b[1;32m   3506\u001b[0m \u001b[38;5;28;01mif\u001b[39;00m is_integer(indexer):\n\u001b[1;32m   3507\u001b[0m     indexer \u001b[38;5;241m=\u001b[39m [indexer]\n",
      "File \u001b[0;32m/usr/local/anaconda3/lib/python3.9/site-packages/pandas/core/indexes/base.py:3623\u001b[0m, in \u001b[0;36mIndex.get_loc\u001b[0;34m(self, key, method, tolerance)\u001b[0m\n\u001b[1;32m   3621\u001b[0m     \u001b[38;5;28;01mreturn\u001b[39;00m \u001b[38;5;28mself\u001b[39m\u001b[38;5;241m.\u001b[39m_engine\u001b[38;5;241m.\u001b[39mget_loc(casted_key)\n\u001b[1;32m   3622\u001b[0m \u001b[38;5;28;01mexcept\u001b[39;00m \u001b[38;5;167;01mKeyError\u001b[39;00m \u001b[38;5;28;01mas\u001b[39;00m err:\n\u001b[0;32m-> 3623\u001b[0m     \u001b[38;5;28;01mraise\u001b[39;00m \u001b[38;5;167;01mKeyError\u001b[39;00m(key) \u001b[38;5;28;01mfrom\u001b[39;00m \u001b[38;5;21;01merr\u001b[39;00m\n\u001b[1;32m   3624\u001b[0m \u001b[38;5;28;01mexcept\u001b[39;00m \u001b[38;5;167;01mTypeError\u001b[39;00m:\n\u001b[1;32m   3625\u001b[0m     \u001b[38;5;66;03m# If we have a listlike key, _check_indexing_error will raise\u001b[39;00m\n\u001b[1;32m   3626\u001b[0m     \u001b[38;5;66;03m#  InvalidIndexError. Otherwise we fall through and re-raise\u001b[39;00m\n\u001b[1;32m   3627\u001b[0m     \u001b[38;5;66;03m#  the TypeError.\u001b[39;00m\n\u001b[1;32m   3628\u001b[0m     \u001b[38;5;28mself\u001b[39m\u001b[38;5;241m.\u001b[39m_check_indexing_error(key)\n",
      "\u001b[0;31mKeyError\u001b[0m: 'index'"
     ]
    }
   ],
   "source": [
    "jan_30_predictions = pd.DataFrame({'contest-tmp2m-14d__tmp2m' : test_pred, \n",
    "                     'index': test['index']})\n",
    "\n",
    "jan_30_predictions"
   ]
  },
  {
   "cell_type": "code",
   "execution_count": null,
   "id": "9dd1cfa2",
   "metadata": {},
   "outputs": [],
   "source": [
    "test_df = pd.read_csv('test_data.csv')"
   ]
  },
  {
   "cell_type": "markdown",
   "id": "2dbd3b44",
   "metadata": {},
   "source": [
    "Explaining more detail about how I became an meteoroli\n",
    "\n",
    "Teaching the audience what the data is.\n",
    "\n",
    "Why am I doing this?\n",
    "\n",
    "Run on baseline mean(\n",
    "\n",
    "Model performs % over baseline"
   ]
  }
 ],
 "metadata": {
  "kernelspec": {
   "display_name": "Python 3 (ipykernel)",
   "language": "python",
   "name": "python3"
  },
  "language_info": {
   "codemirror_mode": {
    "name": "ipython",
    "version": 3
   },
   "file_extension": ".py",
   "mimetype": "text/x-python",
   "name": "python",
   "nbconvert_exporter": "python",
   "pygments_lexer": "ipython3",
   "version": "3.9.12"
  }
 },
 "nbformat": 4,
 "nbformat_minor": 5
}
