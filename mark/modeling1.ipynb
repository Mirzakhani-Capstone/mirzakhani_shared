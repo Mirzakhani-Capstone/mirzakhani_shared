{
 "cells": [
  {
   "cell_type": "code",
   "execution_count": 1,
   "id": "0dae0453",
   "metadata": {},
   "outputs": [],
   "source": [
    "import pandas as pd\n",
    "import numpy as np\n",
    "\n",
    "import matplotlib.pyplot as plt\n",
    "import seaborn as sns\n",
    "\n",
    "from sklearn.model_selection import train_test_split\n",
    "import sklearn.metrics as metric\n",
    "from sklearn.linear_model import LinearRegression, LassoLars, TweedieRegressor\n",
    "from sklearn.preprocessing import PolynomialFeatures\n",
    "import sklearn.preprocessing as pre\n",
    "\n",
    "import warnings\n",
    "warnings.filterwarnings('ignore')\n",
    "\n",
    "import wrangle1 as w\n",
    "import model as m\n",
    "\n",
    "from importlib import reload"
   ]
  },
  {
   "cell_type": "markdown",
   "id": "9c7798fa",
   "metadata": {},
   "source": [
    "## Prepping Data with all features"
   ]
  },
  {
   "cell_type": "code",
   "execution_count": 2,
   "id": "e3b3e258",
   "metadata": {},
   "outputs": [],
   "source": [
    "df = w.get_explore_data()"
   ]
  },
  {
   "cell_type": "code",
   "execution_count": 3,
   "id": "d7753a3c",
   "metadata": {},
   "outputs": [],
   "source": [
    "df = w.prep_data(df)"
   ]
  },
  {
   "cell_type": "code",
   "execution_count": 4,
   "id": "8a874ea3",
   "metadata": {},
   "outputs": [],
   "source": [
    "df = w.rename_data(df)"
   ]
  },
  {
   "cell_type": "code",
   "execution_count": 5,
   "id": "2eb7a2e9",
   "metadata": {},
   "outputs": [],
   "source": [
    "df = w.create_elevation_bins(df)"
   ]
  },
  {
   "cell_type": "code",
   "execution_count": 6,
   "id": "c5a492d6",
   "metadata": {},
   "outputs": [],
   "source": [
    "df = w.create_region_bins(df)"
   ]
  },
  {
   "cell_type": "code",
   "execution_count": null,
   "id": "92a264b1",
   "metadata": {},
   "outputs": [],
   "source": [
    "df[]"
   ]
  },
  {
   "cell_type": "code",
   "execution_count": 7,
   "id": "127c1ebd",
   "metadata": {},
   "outputs": [],
   "source": [
    "#dropped nulls because they couldn't go into the model\n",
    "df = df.dropna()"
   ]
  },
  {
   "cell_type": "code",
   "execution_count": 8,
   "id": "a621b822",
   "metadata": {},
   "outputs": [],
   "source": [
    "train, validate, test = w.split_data(df)"
   ]
  },
  {
   "cell_type": "code",
   "execution_count": 39,
   "id": "ca1c0191",
   "metadata": {},
   "outputs": [
    {
     "data": {
      "text/plain": [
       "(229192, 248)"
      ]
     },
     "execution_count": 39,
     "metadata": {},
     "output_type": "execute_result"
    }
   ],
   "source": [
    "train.shape"
   ]
  },
  {
   "cell_type": "markdown",
   "id": "32d71278",
   "metadata": {},
   "source": [
    "## Splitting data for modeling"
   ]
  },
  {
   "cell_type": "code",
   "execution_count": 18,
   "id": "17c7af6a",
   "metadata": {},
   "outputs": [],
   "source": [
    "#drivers used are ALL columns beside startdate and mean_temp\n",
    "drivers = list(train.columns)\n",
    "drivers.remove('startdate')\n",
    "drivers.remove('mean_temp')"
   ]
  },
  {
   "cell_type": "code",
   "execution_count": 10,
   "id": "1e781227",
   "metadata": {},
   "outputs": [],
   "source": [
    "X_train, y_train, X_validate, y_validate, X_test, y_test = m.prep_for_model(train, validate, test, 'mean_temp', drivers)"
   ]
  },
  {
   "cell_type": "code",
   "execution_count": 11,
   "id": "7f355fe0",
   "metadata": {},
   "outputs": [
    {
     "data": {
      "text/plain": [
       "LinearRegression(normalize=True)"
      ]
     },
     "execution_count": 11,
     "metadata": {},
     "output_type": "execute_result"
    }
   ],
   "source": [
    "lm = LinearRegression(normalize=True)\n",
    "lm.fit(X_train, y_train)"
   ]
  },
  {
   "cell_type": "code",
   "execution_count": 12,
   "id": "7b0e25fd",
   "metadata": {},
   "outputs": [],
   "source": [
    "feature_coefs = pd.DataFrame({'feature' : lm.feature_names_in_, \n",
    "                     'weight': lm.coef_})"
   ]
  },
  {
   "cell_type": "code",
   "execution_count": 38,
   "id": "465b3c31",
   "metadata": {},
   "outputs": [
    {
     "data": {
      "text/html": [
       "<div>\n",
       "<style scoped>\n",
       "    .dataframe tbody tr th:only-of-type {\n",
       "        vertical-align: middle;\n",
       "    }\n",
       "\n",
       "    .dataframe tbody tr th {\n",
       "        vertical-align: top;\n",
       "    }\n",
       "\n",
       "    .dataframe thead th {\n",
       "        text-align: right;\n",
       "    }\n",
       "</style>\n",
       "<table border=\"1\" class=\"dataframe\">\n",
       "  <thead>\n",
       "    <tr style=\"text-align: right;\">\n",
       "      <th></th>\n",
       "      <th>feature</th>\n",
       "      <th>weight</th>\n",
       "    </tr>\n",
       "  </thead>\n",
       "  <tbody>\n",
       "    <tr>\n",
       "      <th>249</th>\n",
       "      <td>region_Csb</td>\n",
       "      <td>-1.595715e+11</td>\n",
       "    </tr>\n",
       "    <tr>\n",
       "      <th>247</th>\n",
       "      <td>region_Cfb</td>\n",
       "      <td>-1.595715e+11</td>\n",
       "    </tr>\n",
       "    <tr>\n",
       "      <th>246</th>\n",
       "      <td>region_Cfa</td>\n",
       "      <td>-1.595715e+11</td>\n",
       "    </tr>\n",
       "    <tr>\n",
       "      <th>248</th>\n",
       "      <td>region_Csa</td>\n",
       "      <td>-1.595715e+11</td>\n",
       "    </tr>\n",
       "    <tr>\n",
       "      <th>252</th>\n",
       "      <td>region_Dfc</td>\n",
       "      <td>-4.209229e+10</td>\n",
       "    </tr>\n",
       "    <tr>\n",
       "      <th>...</th>\n",
       "      <td>...</td>\n",
       "      <td>...</td>\n",
       "    </tr>\n",
       "    <tr>\n",
       "      <th>43</th>\n",
       "      <td>nmme0-prate-56w__gfdlflorb0</td>\n",
       "      <td>3.472114e+01</td>\n",
       "    </tr>\n",
       "    <tr>\n",
       "      <th>53</th>\n",
       "      <td>nmme0-prate-34w__gfdlflorb0</td>\n",
       "      <td>3.594195e+01</td>\n",
       "    </tr>\n",
       "    <tr>\n",
       "      <th>52</th>\n",
       "      <td>nmme0-prate-34w__gfdlflora0</td>\n",
       "      <td>3.673249e+01</td>\n",
       "    </tr>\n",
       "    <tr>\n",
       "      <th>13</th>\n",
       "      <td>nmme0-tmp2m-34w__nmme0mean</td>\n",
       "      <td>6.928643e+01</td>\n",
       "    </tr>\n",
       "    <tr>\n",
       "      <th>261</th>\n",
       "      <td>region_bins_Temperate</td>\n",
       "      <td>1.174792e+11</td>\n",
       "    </tr>\n",
       "  </tbody>\n",
       "</table>\n",
       "<p>262 rows × 2 columns</p>\n",
       "</div>"
      ],
      "text/plain": [
       "                         feature        weight\n",
       "249                   region_Csb -1.595715e+11\n",
       "247                   region_Cfb -1.595715e+11\n",
       "246                   region_Cfa -1.595715e+11\n",
       "248                   region_Csa -1.595715e+11\n",
       "252                   region_Dfc -4.209229e+10\n",
       "..                           ...           ...\n",
       "43   nmme0-prate-56w__gfdlflorb0  3.472114e+01\n",
       "53   nmme0-prate-34w__gfdlflorb0  3.594195e+01\n",
       "52   nmme0-prate-34w__gfdlflora0  3.673249e+01\n",
       "13    nmme0-tmp2m-34w__nmme0mean  6.928643e+01\n",
       "261        region_bins_Temperate  1.174792e+11\n",
       "\n",
       "[262 rows x 2 columns]"
      ]
     },
     "execution_count": 38,
     "metadata": {},
     "output_type": "execute_result"
    }
   ],
   "source": [
    "feature_coefs.sort_values(by='weight')"
   ]
  },
  {
   "cell_type": "code",
   "execution_count": 36,
   "id": "388aaab8",
   "metadata": {},
   "outputs": [],
   "source": [
    "negative_coef = list(feature_coefs[feature_coefs.weight < -200].feature)"
   ]
  },
  {
   "cell_type": "code",
   "execution_count": 37,
   "id": "567be85a",
   "metadata": {},
   "outputs": [
    {
     "data": {
      "text/plain": [
       "['nmme0-prate-56w__nmme0mean',\n",
       " 'nmme0-prate-34w__nmme0mean',\n",
       " 'region_Cfa',\n",
       " 'region_Cfb',\n",
       " 'region_Csa',\n",
       " 'region_Csb',\n",
       " 'region_Dfa',\n",
       " 'region_Dfb',\n",
       " 'region_Dfc',\n",
       " 'region_Dsb',\n",
       " 'region_Dsc',\n",
       " 'region_Dwa',\n",
       " 'region_Dwb',\n",
       " 'region_bins_Dry']"
      ]
     },
     "execution_count": 37,
     "metadata": {},
     "output_type": "execute_result"
    }
   ],
   "source": [
    "negative_coef"
   ]
  },
  {
   "cell_type": "code",
   "execution_count": 25,
   "id": "bfd0bdd0",
   "metadata": {},
   "outputs": [],
   "source": [
    "positive_coef = list(feature_coefs[feature_coefs.weight > 50].feature)"
   ]
  },
  {
   "cell_type": "code",
   "execution_count": 27,
   "id": "38491841",
   "metadata": {},
   "outputs": [],
   "source": [
    "drivers2 = negative_coef + positive_coef + w.contest_features"
   ]
  },
  {
   "cell_type": "code",
   "execution_count": 28,
   "id": "d64f2237",
   "metadata": {},
   "outputs": [
    {
     "data": {
      "text/plain": [
       "['region',\n",
       " 'elevation',\n",
       " 'lat',\n",
       " 'lon',\n",
       " 'potential_evap',\n",
       " 'precip',\n",
       " 'barometric_pressure',\n",
       " 'all_atmos_precip',\n",
       " 'relative_humidity',\n",
       " 'sea_level_press',\n",
       " 'height_10_mb',\n",
       " 'height_100_mb',\n",
       " 'height_500_mb',\n",
       " 'height_850_mb',\n",
       " 'zonal_wind_250mb',\n",
       " 'zonal_wind_925mb',\n",
       " 'long_wind_250mb',\n",
       " 'long_wind_925mb',\n",
       " 'elevation_range',\n",
       " 'region_bins']"
      ]
     },
     "execution_count": 28,
     "metadata": {},
     "output_type": "execute_result"
    }
   ],
   "source": [
    "w.contest_features"
   ]
  },
  {
   "cell_type": "code",
   "execution_count": 29,
   "id": "8bc10ed8",
   "metadata": {},
   "outputs": [
    {
     "data": {
      "text/plain": [
       "['nmme-tmp2m-56w__nmmemean',\n",
       " 'nmme0-prate-56w__nmme0mean',\n",
       " 'nmme0-prate-34w__nmme0mean',\n",
       " 'nmme-tmp2m-34w__nmmemean',\n",
       " 'nmme0mean',\n",
       " 'region_Cfa',\n",
       " 'region_Cfb',\n",
       " 'region_Csa',\n",
       " 'region_Csb',\n",
       " 'region_Dfa',\n",
       " 'region_Dfb',\n",
       " 'region_Dfc',\n",
       " 'region_Dsb',\n",
       " 'region_Dsc',\n",
       " 'region_Dwa',\n",
       " 'region_Dwb',\n",
       " 'region_bins_Dry',\n",
       " 'nmme0-tmp2m-34w__nmme0mean',\n",
       " 'region_bins_Temperate',\n",
       " 'region',\n",
       " 'elevation',\n",
       " 'lat',\n",
       " 'lon',\n",
       " 'potential_evap',\n",
       " 'precip',\n",
       " 'barometric_pressure',\n",
       " 'all_atmos_precip',\n",
       " 'relative_humidity',\n",
       " 'sea_level_press',\n",
       " 'height_10_mb',\n",
       " 'height_100_mb',\n",
       " 'height_500_mb',\n",
       " 'height_850_mb',\n",
       " 'zonal_wind_250mb',\n",
       " 'zonal_wind_925mb',\n",
       " 'long_wind_250mb',\n",
       " 'long_wind_925mb',\n",
       " 'elevation_range',\n",
       " 'region_bins']"
      ]
     },
     "execution_count": 29,
     "metadata": {},
     "output_type": "execute_result"
    }
   ],
   "source": [
    "drivers2"
   ]
  },
  {
   "cell_type": "markdown",
   "id": "7ad28754",
   "metadata": {},
   "source": [
    "## Prep again for modeling with all contest and high coef features"
   ]
  },
  {
   "cell_type": "code",
   "execution_count": 21,
   "id": "d3994e0b",
   "metadata": {},
   "outputs": [
    {
     "ename": "KeyError",
     "evalue": "\"['region_Cfa', 'region_Cfb', 'region_Csa', 'region_Csb', 'region_Dfa', 'region_Dfb', 'region_Dfc', 'region_Dsb', 'region_Dsc', 'region_Dwa', 'region_Dwb', 'region_bins_Dry', 'region_bins_Temperate'] not in index\"",
     "output_type": "error",
     "traceback": [
      "\u001b[0;31m---------------------------------------------------------------------------\u001b[0m",
      "\u001b[0;31mKeyError\u001b[0m                                  Traceback (most recent call last)",
      "Input \u001b[0;32mIn [21]\u001b[0m, in \u001b[0;36m<cell line: 1>\u001b[0;34m()\u001b[0m\n\u001b[0;32m----> 1\u001b[0m X_train, y_train, X_validate, y_validate, X_test, y_test \u001b[38;5;241m=\u001b[39m \u001b[43mm\u001b[49m\u001b[38;5;241;43m.\u001b[39;49m\u001b[43mprep_for_model\u001b[49m\u001b[43m(\u001b[49m\u001b[43mtrain\u001b[49m\u001b[43m,\u001b[49m\u001b[43m \u001b[49m\u001b[43mvalidate\u001b[49m\u001b[43m,\u001b[49m\u001b[43m \u001b[49m\u001b[43mtest\u001b[49m\u001b[43m,\u001b[49m\u001b[43m \u001b[49m\u001b[38;5;124;43m'\u001b[39;49m\u001b[38;5;124;43mmean_temp\u001b[39;49m\u001b[38;5;124;43m'\u001b[39;49m\u001b[43m,\u001b[49m\u001b[43m \u001b[49m\u001b[43mdrivers2\u001b[49m\u001b[43m)\u001b[49m\n",
      "File \u001b[0;32m~/codeup-data-science/mirzakhani_shared/mark/model.py:44\u001b[0m, in \u001b[0;36mprep_for_model\u001b[0;34m(train, validate, test, target, drivers)\u001b[0m\n\u001b[1;32m     41\u001b[0m \u001b[38;5;66;03m#scale data\u001b[39;00m\n\u001b[1;32m     42\u001b[0m train_scaled, validate_scaled, test_scaled \u001b[38;5;241m=\u001b[39m scale_data(train, validate, test)\n\u001b[0;32m---> 44\u001b[0m X_train \u001b[38;5;241m=\u001b[39m \u001b[43mtrain_scaled\u001b[49m\u001b[43m[\u001b[49m\u001b[43mdrivers\u001b[49m\u001b[43m]\u001b[49m\n\u001b[1;32m     46\u001b[0m \u001b[38;5;66;03m#make list of cat variables to make dummies for\u001b[39;00m\n\u001b[1;32m     47\u001b[0m cat_vars \u001b[38;5;241m=\u001b[39m \u001b[38;5;28mlist\u001b[39m(X_train\u001b[38;5;241m.\u001b[39mselect_dtypes(exclude\u001b[38;5;241m=\u001b[39mnp\u001b[38;5;241m.\u001b[39mnumber)\u001b[38;5;241m.\u001b[39mcolumns)\n",
      "File \u001b[0;32m/usr/local/anaconda3/lib/python3.9/site-packages/pandas/core/frame.py:3511\u001b[0m, in \u001b[0;36mDataFrame.__getitem__\u001b[0;34m(self, key)\u001b[0m\n\u001b[1;32m   3509\u001b[0m     \u001b[38;5;28;01mif\u001b[39;00m is_iterator(key):\n\u001b[1;32m   3510\u001b[0m         key \u001b[38;5;241m=\u001b[39m \u001b[38;5;28mlist\u001b[39m(key)\n\u001b[0;32m-> 3511\u001b[0m     indexer \u001b[38;5;241m=\u001b[39m \u001b[38;5;28;43mself\u001b[39;49m\u001b[38;5;241;43m.\u001b[39;49m\u001b[43mcolumns\u001b[49m\u001b[38;5;241;43m.\u001b[39;49m\u001b[43m_get_indexer_strict\u001b[49m\u001b[43m(\u001b[49m\u001b[43mkey\u001b[49m\u001b[43m,\u001b[49m\u001b[43m \u001b[49m\u001b[38;5;124;43m\"\u001b[39;49m\u001b[38;5;124;43mcolumns\u001b[39;49m\u001b[38;5;124;43m\"\u001b[39;49m\u001b[43m)\u001b[49m[\u001b[38;5;241m1\u001b[39m]\n\u001b[1;32m   3513\u001b[0m \u001b[38;5;66;03m# take() does not accept boolean indexers\u001b[39;00m\n\u001b[1;32m   3514\u001b[0m \u001b[38;5;28;01mif\u001b[39;00m \u001b[38;5;28mgetattr\u001b[39m(indexer, \u001b[38;5;124m\"\u001b[39m\u001b[38;5;124mdtype\u001b[39m\u001b[38;5;124m\"\u001b[39m, \u001b[38;5;28;01mNone\u001b[39;00m) \u001b[38;5;241m==\u001b[39m \u001b[38;5;28mbool\u001b[39m:\n",
      "File \u001b[0;32m/usr/local/anaconda3/lib/python3.9/site-packages/pandas/core/indexes/base.py:5782\u001b[0m, in \u001b[0;36mIndex._get_indexer_strict\u001b[0;34m(self, key, axis_name)\u001b[0m\n\u001b[1;32m   5779\u001b[0m \u001b[38;5;28;01melse\u001b[39;00m:\n\u001b[1;32m   5780\u001b[0m     keyarr, indexer, new_indexer \u001b[38;5;241m=\u001b[39m \u001b[38;5;28mself\u001b[39m\u001b[38;5;241m.\u001b[39m_reindex_non_unique(keyarr)\n\u001b[0;32m-> 5782\u001b[0m \u001b[38;5;28;43mself\u001b[39;49m\u001b[38;5;241;43m.\u001b[39;49m\u001b[43m_raise_if_missing\u001b[49m\u001b[43m(\u001b[49m\u001b[43mkeyarr\u001b[49m\u001b[43m,\u001b[49m\u001b[43m \u001b[49m\u001b[43mindexer\u001b[49m\u001b[43m,\u001b[49m\u001b[43m \u001b[49m\u001b[43maxis_name\u001b[49m\u001b[43m)\u001b[49m\n\u001b[1;32m   5784\u001b[0m keyarr \u001b[38;5;241m=\u001b[39m \u001b[38;5;28mself\u001b[39m\u001b[38;5;241m.\u001b[39mtake(indexer)\n\u001b[1;32m   5785\u001b[0m \u001b[38;5;28;01mif\u001b[39;00m \u001b[38;5;28misinstance\u001b[39m(key, Index):\n\u001b[1;32m   5786\u001b[0m     \u001b[38;5;66;03m# GH 42790 - Preserve name from an Index\u001b[39;00m\n",
      "File \u001b[0;32m/usr/local/anaconda3/lib/python3.9/site-packages/pandas/core/indexes/base.py:5845\u001b[0m, in \u001b[0;36mIndex._raise_if_missing\u001b[0;34m(self, key, indexer, axis_name)\u001b[0m\n\u001b[1;32m   5842\u001b[0m     \u001b[38;5;28;01mraise\u001b[39;00m \u001b[38;5;167;01mKeyError\u001b[39;00m(\u001b[38;5;124mf\u001b[39m\u001b[38;5;124m\"\u001b[39m\u001b[38;5;124mNone of [\u001b[39m\u001b[38;5;132;01m{\u001b[39;00mkey\u001b[38;5;132;01m}\u001b[39;00m\u001b[38;5;124m] are in the [\u001b[39m\u001b[38;5;132;01m{\u001b[39;00maxis_name\u001b[38;5;132;01m}\u001b[39;00m\u001b[38;5;124m]\u001b[39m\u001b[38;5;124m\"\u001b[39m)\n\u001b[1;32m   5844\u001b[0m not_found \u001b[38;5;241m=\u001b[39m \u001b[38;5;28mlist\u001b[39m(ensure_index(key)[missing_mask\u001b[38;5;241m.\u001b[39mnonzero()[\u001b[38;5;241m0\u001b[39m]]\u001b[38;5;241m.\u001b[39munique())\n\u001b[0;32m-> 5845\u001b[0m \u001b[38;5;28;01mraise\u001b[39;00m \u001b[38;5;167;01mKeyError\u001b[39;00m(\u001b[38;5;124mf\u001b[39m\u001b[38;5;124m\"\u001b[39m\u001b[38;5;132;01m{\u001b[39;00mnot_found\u001b[38;5;132;01m}\u001b[39;00m\u001b[38;5;124m not in index\u001b[39m\u001b[38;5;124m\"\u001b[39m)\n",
      "\u001b[0;31mKeyError\u001b[0m: \"['region_Cfa', 'region_Cfb', 'region_Csa', 'region_Csb', 'region_Dfa', 'region_Dfb', 'region_Dfc', 'region_Dsb', 'region_Dsc', 'region_Dwa', 'region_Dwb', 'region_bins_Dry', 'region_bins_Temperate'] not in index\""
     ]
    }
   ],
   "source": [
    "X_train, y_train, X_validate, y_validate, X_test, y_test = m.prep_for_model(train, validate, test, 'mean_temp', drivers2)"
   ]
  },
  {
   "cell_type": "code",
   "execution_count": null,
   "id": "7d279d00",
   "metadata": {},
   "outputs": [],
   "source": [
    "m.regression_models(X_train, y_train, X_validate, y_validate)"
   ]
  },
  {
   "cell_type": "code",
   "execution_count": null,
   "id": "a35c0331",
   "metadata": {},
   "outputs": [],
   "source": [
    "m.best_model(X_train, y_train, X_validate, y_validate, X_test, y_test)"
   ]
  },
  {
   "cell_type": "code",
   "execution_count": 29,
   "id": "d87c6fa7",
   "metadata": {},
   "outputs": [],
   "source": [
    "final_test = pd.read_csv('test_data.csv')"
   ]
  },
  {
   "cell_type": "code",
   "execution_count": 30,
   "id": "86325033",
   "metadata": {},
   "outputs": [
    {
     "data": {
      "text/html": [
       "<div>\n",
       "<style scoped>\n",
       "    .dataframe tbody tr th:only-of-type {\n",
       "        vertical-align: middle;\n",
       "    }\n",
       "\n",
       "    .dataframe tbody tr th {\n",
       "        vertical-align: top;\n",
       "    }\n",
       "\n",
       "    .dataframe thead th {\n",
       "        text-align: right;\n",
       "    }\n",
       "</style>\n",
       "<table border=\"1\" class=\"dataframe\">\n",
       "  <thead>\n",
       "    <tr style=\"text-align: right;\">\n",
       "      <th></th>\n",
       "      <th>index</th>\n",
       "      <th>lat</th>\n",
       "      <th>lon</th>\n",
       "      <th>startdate</th>\n",
       "      <th>contest-pevpr-sfc-gauss-14d__pevpr</th>\n",
       "      <th>nmme0-tmp2m-34w__cancm30</th>\n",
       "      <th>nmme0-tmp2m-34w__cancm40</th>\n",
       "      <th>nmme0-tmp2m-34w__ccsm30</th>\n",
       "      <th>nmme0-tmp2m-34w__ccsm40</th>\n",
       "      <th>nmme0-tmp2m-34w__cfsv20</th>\n",
       "      <th>...</th>\n",
       "      <th>wind-vwnd-925-2010-11</th>\n",
       "      <th>wind-vwnd-925-2010-12</th>\n",
       "      <th>wind-vwnd-925-2010-13</th>\n",
       "      <th>wind-vwnd-925-2010-14</th>\n",
       "      <th>wind-vwnd-925-2010-15</th>\n",
       "      <th>wind-vwnd-925-2010-16</th>\n",
       "      <th>wind-vwnd-925-2010-17</th>\n",
       "      <th>wind-vwnd-925-2010-18</th>\n",
       "      <th>wind-vwnd-925-2010-19</th>\n",
       "      <th>wind-vwnd-925-2010-20</th>\n",
       "    </tr>\n",
       "  </thead>\n",
       "  <tbody>\n",
       "    <tr>\n",
       "      <th>0</th>\n",
       "      <td>375734</td>\n",
       "      <td>0.0</td>\n",
       "      <td>0.833333</td>\n",
       "      <td>11/1/22</td>\n",
       "      <td>339.88</td>\n",
       "      <td>30.88</td>\n",
       "      <td>30.92</td>\n",
       "      <td>29.17</td>\n",
       "      <td>31.02</td>\n",
       "      <td>29.47</td>\n",
       "      <td>...</td>\n",
       "      <td>-19.28</td>\n",
       "      <td>-39.77</td>\n",
       "      <td>-29.25</td>\n",
       "      <td>40.88</td>\n",
       "      <td>-8.31</td>\n",
       "      <td>14.91</td>\n",
       "      <td>-24.62</td>\n",
       "      <td>31.05</td>\n",
       "      <td>-23.69</td>\n",
       "      <td>6.27</td>\n",
       "    </tr>\n",
       "    <tr>\n",
       "      <th>1</th>\n",
       "      <td>375735</td>\n",
       "      <td>0.0</td>\n",
       "      <td>0.833333</td>\n",
       "      <td>11/2/22</td>\n",
       "      <td>334.63</td>\n",
       "      <td>30.88</td>\n",
       "      <td>30.92</td>\n",
       "      <td>29.17</td>\n",
       "      <td>31.02</td>\n",
       "      <td>29.47</td>\n",
       "      <td>...</td>\n",
       "      <td>-19.58</td>\n",
       "      <td>-43.14</td>\n",
       "      <td>-28.62</td>\n",
       "      <td>45.37</td>\n",
       "      <td>-5.42</td>\n",
       "      <td>16.97</td>\n",
       "      <td>-23.94</td>\n",
       "      <td>28.84</td>\n",
       "      <td>-20.61</td>\n",
       "      <td>14.16</td>\n",
       "    </tr>\n",
       "    <tr>\n",
       "      <th>2</th>\n",
       "      <td>375736</td>\n",
       "      <td>0.0</td>\n",
       "      <td>0.833333</td>\n",
       "      <td>11/3/22</td>\n",
       "      <td>337.83</td>\n",
       "      <td>30.88</td>\n",
       "      <td>30.92</td>\n",
       "      <td>29.17</td>\n",
       "      <td>31.02</td>\n",
       "      <td>29.47</td>\n",
       "      <td>...</td>\n",
       "      <td>-13.73</td>\n",
       "      <td>-44.22</td>\n",
       "      <td>-27.67</td>\n",
       "      <td>49.76</td>\n",
       "      <td>-1.31</td>\n",
       "      <td>21.44</td>\n",
       "      <td>-19.06</td>\n",
       "      <td>26.85</td>\n",
       "      <td>-16.78</td>\n",
       "      <td>13.42</td>\n",
       "    </tr>\n",
       "    <tr>\n",
       "      <th>3</th>\n",
       "      <td>375737</td>\n",
       "      <td>0.0</td>\n",
       "      <td>0.833333</td>\n",
       "      <td>11/4/22</td>\n",
       "      <td>345.81</td>\n",
       "      <td>30.88</td>\n",
       "      <td>30.92</td>\n",
       "      <td>29.17</td>\n",
       "      <td>31.02</td>\n",
       "      <td>29.47</td>\n",
       "      <td>...</td>\n",
       "      <td>-7.97</td>\n",
       "      <td>-49.47</td>\n",
       "      <td>-19.32</td>\n",
       "      <td>52.62</td>\n",
       "      <td>-0.44</td>\n",
       "      <td>21.65</td>\n",
       "      <td>-23.12</td>\n",
       "      <td>23.70</td>\n",
       "      <td>-18.62</td>\n",
       "      <td>10.69</td>\n",
       "    </tr>\n",
       "    <tr>\n",
       "      <th>4</th>\n",
       "      <td>375738</td>\n",
       "      <td>0.0</td>\n",
       "      <td>0.833333</td>\n",
       "      <td>11/5/22</td>\n",
       "      <td>357.39</td>\n",
       "      <td>30.88</td>\n",
       "      <td>30.92</td>\n",
       "      <td>29.17</td>\n",
       "      <td>31.02</td>\n",
       "      <td>29.47</td>\n",
       "      <td>...</td>\n",
       "      <td>-0.80</td>\n",
       "      <td>-56.07</td>\n",
       "      <td>-9.89</td>\n",
       "      <td>51.23</td>\n",
       "      <td>-7.57</td>\n",
       "      <td>19.86</td>\n",
       "      <td>-30.56</td>\n",
       "      <td>20.66</td>\n",
       "      <td>-25.08</td>\n",
       "      <td>19.64</td>\n",
       "    </tr>\n",
       "    <tr>\n",
       "      <th>...</th>\n",
       "      <td>...</td>\n",
       "      <td>...</td>\n",
       "      <td>...</td>\n",
       "      <td>...</td>\n",
       "      <td>...</td>\n",
       "      <td>...</td>\n",
       "      <td>...</td>\n",
       "      <td>...</td>\n",
       "      <td>...</td>\n",
       "      <td>...</td>\n",
       "      <td>...</td>\n",
       "      <td>...</td>\n",
       "      <td>...</td>\n",
       "      <td>...</td>\n",
       "      <td>...</td>\n",
       "      <td>...</td>\n",
       "      <td>...</td>\n",
       "      <td>...</td>\n",
       "      <td>...</td>\n",
       "      <td>...</td>\n",
       "      <td>...</td>\n",
       "    </tr>\n",
       "    <tr>\n",
       "      <th>31349</th>\n",
       "      <td>407083</td>\n",
       "      <td>1.0</td>\n",
       "      <td>0.866667</td>\n",
       "      <td>12/27/22</td>\n",
       "      <td>62.72</td>\n",
       "      <td>4.60</td>\n",
       "      <td>8.71</td>\n",
       "      <td>6.05</td>\n",
       "      <td>10.08</td>\n",
       "      <td>6.39</td>\n",
       "      <td>...</td>\n",
       "      <td>74.96</td>\n",
       "      <td>-8.49</td>\n",
       "      <td>32.39</td>\n",
       "      <td>38.82</td>\n",
       "      <td>7.42</td>\n",
       "      <td>11.75</td>\n",
       "      <td>-23.62</td>\n",
       "      <td>-0.24</td>\n",
       "      <td>-5.94</td>\n",
       "      <td>51.23</td>\n",
       "    </tr>\n",
       "    <tr>\n",
       "      <th>31350</th>\n",
       "      <td>407084</td>\n",
       "      <td>1.0</td>\n",
       "      <td>0.866667</td>\n",
       "      <td>12/28/22</td>\n",
       "      <td>73.41</td>\n",
       "      <td>4.60</td>\n",
       "      <td>8.71</td>\n",
       "      <td>6.05</td>\n",
       "      <td>10.08</td>\n",
       "      <td>6.39</td>\n",
       "      <td>...</td>\n",
       "      <td>88.57</td>\n",
       "      <td>0.83</td>\n",
       "      <td>26.23</td>\n",
       "      <td>37.64</td>\n",
       "      <td>13.01</td>\n",
       "      <td>17.84</td>\n",
       "      <td>-22.05</td>\n",
       "      <td>-3.03</td>\n",
       "      <td>1.31</td>\n",
       "      <td>51.45</td>\n",
       "    </tr>\n",
       "    <tr>\n",
       "      <th>31351</th>\n",
       "      <td>407085</td>\n",
       "      <td>1.0</td>\n",
       "      <td>0.866667</td>\n",
       "      <td>12/29/22</td>\n",
       "      <td>70.00</td>\n",
       "      <td>4.60</td>\n",
       "      <td>8.71</td>\n",
       "      <td>6.05</td>\n",
       "      <td>10.08</td>\n",
       "      <td>6.39</td>\n",
       "      <td>...</td>\n",
       "      <td>99.43</td>\n",
       "      <td>10.90</td>\n",
       "      <td>21.06</td>\n",
       "      <td>36.53</td>\n",
       "      <td>14.15</td>\n",
       "      <td>23.12</td>\n",
       "      <td>-25.60</td>\n",
       "      <td>-5.88</td>\n",
       "      <td>9.32</td>\n",
       "      <td>45.32</td>\n",
       "    </tr>\n",
       "    <tr>\n",
       "      <th>31352</th>\n",
       "      <td>407086</td>\n",
       "      <td>1.0</td>\n",
       "      <td>0.866667</td>\n",
       "      <td>12/30/22</td>\n",
       "      <td>79.81</td>\n",
       "      <td>4.60</td>\n",
       "      <td>8.71</td>\n",
       "      <td>6.05</td>\n",
       "      <td>10.08</td>\n",
       "      <td>6.39</td>\n",
       "      <td>...</td>\n",
       "      <td>109.39</td>\n",
       "      <td>21.37</td>\n",
       "      <td>20.42</td>\n",
       "      <td>36.05</td>\n",
       "      <td>6.38</td>\n",
       "      <td>29.00</td>\n",
       "      <td>-27.06</td>\n",
       "      <td>-1.42</td>\n",
       "      <td>16.06</td>\n",
       "      <td>31.88</td>\n",
       "    </tr>\n",
       "    <tr>\n",
       "      <th>31353</th>\n",
       "      <td>407087</td>\n",
       "      <td>1.0</td>\n",
       "      <td>0.866667</td>\n",
       "      <td>12/31/22</td>\n",
       "      <td>86.17</td>\n",
       "      <td>4.60</td>\n",
       "      <td>8.71</td>\n",
       "      <td>6.05</td>\n",
       "      <td>10.08</td>\n",
       "      <td>6.39</td>\n",
       "      <td>...</td>\n",
       "      <td>116.77</td>\n",
       "      <td>25.33</td>\n",
       "      <td>26.17</td>\n",
       "      <td>30.68</td>\n",
       "      <td>-3.24</td>\n",
       "      <td>27.70</td>\n",
       "      <td>-28.75</td>\n",
       "      <td>0.15</td>\n",
       "      <td>16.64</td>\n",
       "      <td>19.27</td>\n",
       "    </tr>\n",
       "  </tbody>\n",
       "</table>\n",
       "<p>31354 rows × 245 columns</p>\n",
       "</div>"
      ],
      "text/plain": [
       "        index  lat       lon startdate  contest-pevpr-sfc-gauss-14d__pevpr  \\\n",
       "0      375734  0.0  0.833333   11/1/22                              339.88   \n",
       "1      375735  0.0  0.833333   11/2/22                              334.63   \n",
       "2      375736  0.0  0.833333   11/3/22                              337.83   \n",
       "3      375737  0.0  0.833333   11/4/22                              345.81   \n",
       "4      375738  0.0  0.833333   11/5/22                              357.39   \n",
       "...       ...  ...       ...       ...                                 ...   \n",
       "31349  407083  1.0  0.866667  12/27/22                               62.72   \n",
       "31350  407084  1.0  0.866667  12/28/22                               73.41   \n",
       "31351  407085  1.0  0.866667  12/29/22                               70.00   \n",
       "31352  407086  1.0  0.866667  12/30/22                               79.81   \n",
       "31353  407087  1.0  0.866667  12/31/22                               86.17   \n",
       "\n",
       "       nmme0-tmp2m-34w__cancm30  nmme0-tmp2m-34w__cancm40  \\\n",
       "0                         30.88                     30.92   \n",
       "1                         30.88                     30.92   \n",
       "2                         30.88                     30.92   \n",
       "3                         30.88                     30.92   \n",
       "4                         30.88                     30.92   \n",
       "...                         ...                       ...   \n",
       "31349                      4.60                      8.71   \n",
       "31350                      4.60                      8.71   \n",
       "31351                      4.60                      8.71   \n",
       "31352                      4.60                      8.71   \n",
       "31353                      4.60                      8.71   \n",
       "\n",
       "       nmme0-tmp2m-34w__ccsm30  nmme0-tmp2m-34w__ccsm40  \\\n",
       "0                        29.17                    31.02   \n",
       "1                        29.17                    31.02   \n",
       "2                        29.17                    31.02   \n",
       "3                        29.17                    31.02   \n",
       "4                        29.17                    31.02   \n",
       "...                        ...                      ...   \n",
       "31349                     6.05                    10.08   \n",
       "31350                     6.05                    10.08   \n",
       "31351                     6.05                    10.08   \n",
       "31352                     6.05                    10.08   \n",
       "31353                     6.05                    10.08   \n",
       "\n",
       "       nmme0-tmp2m-34w__cfsv20  ...  wind-vwnd-925-2010-11  \\\n",
       "0                        29.47  ...                 -19.28   \n",
       "1                        29.47  ...                 -19.58   \n",
       "2                        29.47  ...                 -13.73   \n",
       "3                        29.47  ...                  -7.97   \n",
       "4                        29.47  ...                  -0.80   \n",
       "...                        ...  ...                    ...   \n",
       "31349                     6.39  ...                  74.96   \n",
       "31350                     6.39  ...                  88.57   \n",
       "31351                     6.39  ...                  99.43   \n",
       "31352                     6.39  ...                 109.39   \n",
       "31353                     6.39  ...                 116.77   \n",
       "\n",
       "       wind-vwnd-925-2010-12  wind-vwnd-925-2010-13  wind-vwnd-925-2010-14  \\\n",
       "0                     -39.77                 -29.25                  40.88   \n",
       "1                     -43.14                 -28.62                  45.37   \n",
       "2                     -44.22                 -27.67                  49.76   \n",
       "3                     -49.47                 -19.32                  52.62   \n",
       "4                     -56.07                  -9.89                  51.23   \n",
       "...                      ...                    ...                    ...   \n",
       "31349                  -8.49                  32.39                  38.82   \n",
       "31350                   0.83                  26.23                  37.64   \n",
       "31351                  10.90                  21.06                  36.53   \n",
       "31352                  21.37                  20.42                  36.05   \n",
       "31353                  25.33                  26.17                  30.68   \n",
       "\n",
       "       wind-vwnd-925-2010-15  wind-vwnd-925-2010-16  wind-vwnd-925-2010-17  \\\n",
       "0                      -8.31                  14.91                 -24.62   \n",
       "1                      -5.42                  16.97                 -23.94   \n",
       "2                      -1.31                  21.44                 -19.06   \n",
       "3                      -0.44                  21.65                 -23.12   \n",
       "4                      -7.57                  19.86                 -30.56   \n",
       "...                      ...                    ...                    ...   \n",
       "31349                   7.42                  11.75                 -23.62   \n",
       "31350                  13.01                  17.84                 -22.05   \n",
       "31351                  14.15                  23.12                 -25.60   \n",
       "31352                   6.38                  29.00                 -27.06   \n",
       "31353                  -3.24                  27.70                 -28.75   \n",
       "\n",
       "       wind-vwnd-925-2010-18  wind-vwnd-925-2010-19  wind-vwnd-925-2010-20  \n",
       "0                      31.05                 -23.69                   6.27  \n",
       "1                      28.84                 -20.61                  14.16  \n",
       "2                      26.85                 -16.78                  13.42  \n",
       "3                      23.70                 -18.62                  10.69  \n",
       "4                      20.66                 -25.08                  19.64  \n",
       "...                      ...                    ...                    ...  \n",
       "31349                  -0.24                  -5.94                  51.23  \n",
       "31350                  -3.03                   1.31                  51.45  \n",
       "31351                  -5.88                   9.32                  45.32  \n",
       "31352                  -1.42                  16.06                  31.88  \n",
       "31353                   0.15                  16.64                  19.27  \n",
       "\n",
       "[31354 rows x 245 columns]"
      ]
     },
     "execution_count": 30,
     "metadata": {},
     "output_type": "execute_result"
    }
   ],
   "source": [
    "final_test"
   ]
  },
  {
   "cell_type": "code",
   "execution_count": 31,
   "id": "b9c3de52",
   "metadata": {},
   "outputs": [],
   "source": [
    "final_test = w.prep_data(final_test)"
   ]
  },
  {
   "cell_type": "code",
   "execution_count": 32,
   "id": "6cd18063",
   "metadata": {},
   "outputs": [],
   "source": [
    "final_test = w.rename_data(final_test)"
   ]
  },
  {
   "cell_type": "code",
   "execution_count": 33,
   "id": "13175b33",
   "metadata": {},
   "outputs": [],
   "source": [
    "final_test = w.create_elevation_bins(final_test)"
   ]
  },
  {
   "cell_type": "code",
   "execution_count": 34,
   "id": "5e69711a",
   "metadata": {},
   "outputs": [],
   "source": [
    "final_test = w.create_region_bins(final_test)"
   ]
  },
  {
   "cell_type": "code",
   "execution_count": 35,
   "id": "9a56114e",
   "metadata": {},
   "outputs": [],
   "source": [
    "scale_features= list(final_test.select_dtypes(include=np.number).columns)\n",
    "final_test_scaled = final_test.copy()\n",
    "minmax = pre.MinMaxScaler()\n",
    "minmax.fit(final_test[scale_features])\n",
    "\n",
    "final_test_scaled[scale_features] = pd.DataFrame(minmax.transform(final_test[scale_features]),\n",
    "                                              columns=final_test[scale_features].columns.values).set_index([final_test.index.values])"
   ]
  },
  {
   "cell_type": "code",
   "execution_count": 54,
   "id": "f07a5c00",
   "metadata": {},
   "outputs": [
    {
     "data": {
      "text/plain": [
       "(31354, 247)"
      ]
     },
     "execution_count": 54,
     "metadata": {},
     "output_type": "execute_result"
    }
   ],
   "source": [
    "final_test_scaled.shape"
   ]
  },
  {
   "cell_type": "code",
   "execution_count": 55,
   "id": "c9aa03c3",
   "metadata": {},
   "outputs": [],
   "source": [
    "X_test = final_test_scaled[drivers]"
   ]
  },
  {
   "cell_type": "code",
   "execution_count": 57,
   "id": "69a242a7",
   "metadata": {},
   "outputs": [],
   "source": [
    "#make list of cat variables to make dummies for\n",
    "cat_vars = list(X_test.select_dtypes(exclude=np.number).columns)\n",
    "\n",
    "dummy_df_test = pd.get_dummies(X_test[cat_vars], dummy_na=False, drop_first=[True, True])\n",
    "X_test = pd.concat([X_test, dummy_df_test], axis=1).drop(columns=cat_vars)"
   ]
  },
  {
   "cell_type": "code",
   "execution_count": 59,
   "id": "a1e9f8e0",
   "metadata": {},
   "outputs": [
    {
     "data": {
      "text/plain": [
       "LinearRegression(normalize=True)"
      ]
     },
     "execution_count": 59,
     "metadata": {},
     "output_type": "execute_result"
    }
   ],
   "source": [
    "pf = PolynomialFeatures(degree=2)\n",
    "# fit and transform X_train_scaled\n",
    "X_train_degree2 = pf.fit_transform(X_train)\n",
    "# transform X_validate_scaled & X_test_scaled\n",
    "X_test_degree2 = pf.transform(X_test)\n",
    "# create the model object\n",
    "lm2 = LinearRegression(normalize=True)\n",
    "lm2.fit(X_train_degree2, y_train)"
   ]
  },
  {
   "cell_type": "code",
   "execution_count": 60,
   "id": "27b1e55d",
   "metadata": {},
   "outputs": [],
   "source": [
    "predictions = lm2.predict(X_test_degree2)"
   ]
  },
  {
   "cell_type": "code",
   "execution_count": 58,
   "id": "9457d520",
   "metadata": {},
   "outputs": [
    {
     "data": {
      "text/plain": [
       "(31354, 44)"
      ]
     },
     "execution_count": 58,
     "metadata": {},
     "output_type": "execute_result"
    }
   ],
   "source": [
    "X_test.shape"
   ]
  },
  {
   "cell_type": "code",
   "execution_count": 61,
   "id": "9a78fea4",
   "metadata": {},
   "outputs": [
    {
     "data": {
      "text/plain": [
       "(31354,)"
      ]
     },
     "execution_count": 61,
     "metadata": {},
     "output_type": "execute_result"
    }
   ],
   "source": [
    "predictions.shape"
   ]
  },
  {
   "cell_type": "code",
   "execution_count": 62,
   "id": "6ebb7db6",
   "metadata": {},
   "outputs": [],
   "source": [
    "jan_27_predictions = pd.DataFrame({'contest-tmp2m-14d__tmp2m' : predictions, \n",
    "                     'index': final_test['index']})"
   ]
  },
  {
   "cell_type": "code",
   "execution_count": 63,
   "id": "d1663a41",
   "metadata": {},
   "outputs": [
    {
     "data": {
      "text/html": [
       "<div>\n",
       "<style scoped>\n",
       "    .dataframe tbody tr th:only-of-type {\n",
       "        vertical-align: middle;\n",
       "    }\n",
       "\n",
       "    .dataframe tbody tr th {\n",
       "        vertical-align: top;\n",
       "    }\n",
       "\n",
       "    .dataframe thead th {\n",
       "        text-align: right;\n",
       "    }\n",
       "</style>\n",
       "<table border=\"1\" class=\"dataframe\">\n",
       "  <thead>\n",
       "    <tr style=\"text-align: right;\">\n",
       "      <th></th>\n",
       "      <th>contest-tmp2m-14d__tmp2m</th>\n",
       "      <th>index</th>\n",
       "    </tr>\n",
       "  </thead>\n",
       "  <tbody>\n",
       "    <tr>\n",
       "      <th>0</th>\n",
       "      <td>23.776459</td>\n",
       "      <td>375734</td>\n",
       "    </tr>\n",
       "    <tr>\n",
       "      <th>1</th>\n",
       "      <td>23.675446</td>\n",
       "      <td>375735</td>\n",
       "    </tr>\n",
       "    <tr>\n",
       "      <th>2</th>\n",
       "      <td>23.680573</td>\n",
       "      <td>375736</td>\n",
       "    </tr>\n",
       "    <tr>\n",
       "      <th>3</th>\n",
       "      <td>23.637299</td>\n",
       "      <td>375737</td>\n",
       "    </tr>\n",
       "    <tr>\n",
       "      <th>4</th>\n",
       "      <td>23.747833</td>\n",
       "      <td>375738</td>\n",
       "    </tr>\n",
       "    <tr>\n",
       "      <th>...</th>\n",
       "      <td>...</td>\n",
       "      <td>...</td>\n",
       "    </tr>\n",
       "    <tr>\n",
       "      <th>31349</th>\n",
       "      <td>-7.161102</td>\n",
       "      <td>407083</td>\n",
       "    </tr>\n",
       "    <tr>\n",
       "      <th>31350</th>\n",
       "      <td>-6.624542</td>\n",
       "      <td>407084</td>\n",
       "    </tr>\n",
       "    <tr>\n",
       "      <th>31351</th>\n",
       "      <td>-8.446381</td>\n",
       "      <td>407085</td>\n",
       "    </tr>\n",
       "    <tr>\n",
       "      <th>31352</th>\n",
       "      <td>-8.086761</td>\n",
       "      <td>407086</td>\n",
       "    </tr>\n",
       "    <tr>\n",
       "      <th>31353</th>\n",
       "      <td>-6.214691</td>\n",
       "      <td>407087</td>\n",
       "    </tr>\n",
       "  </tbody>\n",
       "</table>\n",
       "<p>31354 rows × 2 columns</p>\n",
       "</div>"
      ],
      "text/plain": [
       "       contest-tmp2m-14d__tmp2m   index\n",
       "0                     23.776459  375734\n",
       "1                     23.675446  375735\n",
       "2                     23.680573  375736\n",
       "3                     23.637299  375737\n",
       "4                     23.747833  375738\n",
       "...                         ...     ...\n",
       "31349                 -7.161102  407083\n",
       "31350                 -6.624542  407084\n",
       "31351                 -8.446381  407085\n",
       "31352                 -8.086761  407086\n",
       "31353                 -6.214691  407087\n",
       "\n",
       "[31354 rows x 2 columns]"
      ]
     },
     "execution_count": 63,
     "metadata": {},
     "output_type": "execute_result"
    }
   ],
   "source": [
    "jan_27_predictions"
   ]
  },
  {
   "cell_type": "code",
   "execution_count": 64,
   "id": "a4d30f39",
   "metadata": {},
   "outputs": [],
   "source": [
    "jan_27_predictions.to_csv('jan_27_predictions.csv', index=False)"
   ]
  },
  {
   "cell_type": "code",
   "execution_count": null,
   "id": "cf3c7505",
   "metadata": {},
   "outputs": [],
   "source": []
  }
 ],
 "metadata": {
  "kernelspec": {
   "display_name": "Python 3 (ipykernel)",
   "language": "python",
   "name": "python3"
  },
  "language_info": {
   "codemirror_mode": {
    "name": "ipython",
    "version": 3
   },
   "file_extension": ".py",
   "mimetype": "text/x-python",
   "name": "python",
   "nbconvert_exporter": "python",
   "pygments_lexer": "ipython3",
   "version": "3.9.12"
  }
 },
 "nbformat": 4,
 "nbformat_minor": 5
}
