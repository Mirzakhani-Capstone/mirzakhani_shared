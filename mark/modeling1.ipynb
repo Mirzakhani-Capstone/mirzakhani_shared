{
 "cells": [
  {
   "cell_type": "code",
   "execution_count": 3,
   "id": "a339a820",
   "metadata": {},
   "outputs": [],
   "source": [
    "import pandas as pd\n",
    "import numpy as np\n",
    "\n",
    "import matplotlib.pyplot as plt\n",
    "import seaborn as sns\n",
    "\n",
    "from sklearn.model_selection import train_test_split\n",
    "import sklearn.metrics as metric\n",
    "from sklearn.linear_model import LinearRegression, LassoLars, TweedieRegressor\n",
    "from sklearn.preprocessing import PolynomialFeatures\n",
    "import sklearn.preprocessing as pre\n",
    "\n",
    "import warnings\n",
    "warnings.filterwarnings('ignore')\n",
    "\n",
    "import wrangle1 as w\n",
    "import model as m\n",
    "\n",
    "from importlib import reload"
   ]
  },
  {
   "cell_type": "markdown",
   "id": "6ef0d5a7",
   "metadata": {},
   "source": [
    "## Prepping Data with all features"
   ]
  },
  {
   "cell_type": "code",
   "execution_count": 4,
   "id": "1faeae24",
   "metadata": {},
   "outputs": [],
   "source": [
    "df = w.get_explore_data()"
   ]
  },
  {
   "cell_type": "code",
   "execution_count": 5,
   "id": "9e5559cb",
   "metadata": {},
   "outputs": [],
   "source": [
    "df = w.prep_data(df)"
   ]
  },
  {
   "cell_type": "code",
   "execution_count": 6,
   "id": "44aaf817",
   "metadata": {},
   "outputs": [],
   "source": [
    "df = w.rename_data(df)"
   ]
  },
  {
   "cell_type": "code",
   "execution_count": 7,
   "id": "19f243d0",
   "metadata": {},
   "outputs": [],
   "source": [
    "#df = w.create_elevation_bins(df)"
   ]
  },
  {
   "cell_type": "code",
   "execution_count": 8,
   "id": "f40b888b",
   "metadata": {},
   "outputs": [],
   "source": [
    "#df = w.create_region_bins(df)"
   ]
  },
  {
   "cell_type": "code",
   "execution_count": 9,
   "id": "5ae03cdb",
   "metadata": {},
   "outputs": [],
   "source": [
    "#dropped nulls because they couldn't go into the model\n",
    "df = df.dropna()"
   ]
  },
  {
   "cell_type": "code",
   "execution_count": 10,
   "id": "4f2d3a75",
   "metadata": {},
   "outputs": [],
   "source": [
    "train, validate, test = w.split_data(df)"
   ]
  },
  {
   "cell_type": "code",
   "execution_count": 11,
   "id": "81c19e03",
   "metadata": {},
   "outputs": [
    {
     "data": {
      "text/plain": [
       "(229192, 246)"
      ]
     },
     "execution_count": 11,
     "metadata": {},
     "output_type": "execute_result"
    }
   ],
   "source": [
    "train.shape"
   ]
  },
  {
   "cell_type": "markdown",
   "id": "66f5766d",
   "metadata": {},
   "source": [
    "## Splitting data for modeling"
   ]
  },
  {
   "cell_type": "code",
   "execution_count": 12,
   "id": "8033e390",
   "metadata": {},
   "outputs": [],
   "source": [
    "#drivers used are ALL columns beside startdate and mean_temp\n",
    "drivers = list(train.columns)\n",
    "drivers.remove('startdate')\n",
    "drivers.remove('mean_temp')"
   ]
  },
  {
   "cell_type": "code",
   "execution_count": 13,
   "id": "ed4f367f",
   "metadata": {},
   "outputs": [],
   "source": [
    "X_train, y_train, X_validate, y_validate, X_test, y_test = m.prep_for_model(train, validate, test, 'mean_temp', drivers)"
   ]
  },
  {
   "cell_type": "code",
   "execution_count": 14,
   "id": "daeb0f58",
   "metadata": {},
   "outputs": [
    {
     "data": {
      "text/plain": [
       "LinearRegression(normalize=True)"
      ]
     },
     "execution_count": 14,
     "metadata": {},
     "output_type": "execute_result"
    }
   ],
   "source": [
    "lm = LinearRegression(normalize=True)\n",
    "lm.fit(X_train, y_train)"
   ]
  },
  {
   "cell_type": "code",
   "execution_count": 15,
   "id": "824bb0e9",
   "metadata": {},
   "outputs": [],
   "source": [
    "feature_coefs = pd.DataFrame({'feature' : lm.feature_names_in_, \n",
    "                     'weight': lm.coef_})"
   ]
  },
  {
   "cell_type": "code",
   "execution_count": 16,
   "id": "34ac65d6",
   "metadata": {},
   "outputs": [],
   "source": [
    "negative_coef = list(feature_coefs[feature_coefs.weight < -15].feature)"
   ]
  },
  {
   "cell_type": "code",
   "execution_count": 17,
   "id": "2633a26f",
   "metadata": {},
   "outputs": [],
   "source": [
    "positive_coef = list(feature_coefs[feature_coefs.weight > 50].feature)"
   ]
  },
  {
   "cell_type": "code",
   "execution_count": 28,
   "id": "f4a73a17",
   "metadata": {},
   "outputs": [],
   "source": [
    "drivers2 = negative_coef + positive_coef + w.contest_features"
   ]
  },
  {
   "cell_type": "code",
   "execution_count": 27,
   "id": "bfdcb352",
   "metadata": {},
   "outputs": [
    {
     "data": {
      "text/plain": [
       "<module 'wrangle1' from '/Users/fostermark/codeup-data-science/mirzakhani_shared/mark/wrangle1.py'>"
      ]
     },
     "execution_count": 27,
     "metadata": {},
     "output_type": "execute_result"
    }
   ],
   "source": [
    "reload(w)"
   ]
  },
  {
   "cell_type": "code",
   "execution_count": 30,
   "id": "b9dc7bf5",
   "metadata": {
    "scrolled": true
   },
   "outputs": [
    {
     "data": {
      "text/plain": [
       "['nmme0-tmp2m-34w__cancm40',\n",
       " 'nmme0-tmp2m-34w__gfdlflorb0',\n",
       " 'nmme-tmp2m-56w__nmmemean',\n",
       " 'nmme-prate-34w__nmmemean',\n",
       " 'nmme0-prate-56w__nmme0mean',\n",
       " 'nmme0-prate-34w__nmme0mean',\n",
       " 'sea_level_press',\n",
       " 'nmme-prate-56w__nmmemean',\n",
       " 'nmme-tmp2m-34w__nmmemean',\n",
       " 'nmme0mean',\n",
       " 'wind-hgt-100-2010-1',\n",
       " 'nmme0-tmp2m-34w__nmme0mean',\n",
       " 'region',\n",
       " 'elevation',\n",
       " 'lat',\n",
       " 'lon',\n",
       " 'potential_evap',\n",
       " 'precip',\n",
       " 'barometric_pressure',\n",
       " 'all_atmos_precip',\n",
       " 'relative_humidity',\n",
       " 'sea_level_press',\n",
       " 'height_10_mb',\n",
       " 'height_100_mb',\n",
       " 'height_500_mb',\n",
       " 'height_850_mb',\n",
       " 'zonal_wind_250mb',\n",
       " 'zonal_wind_925mb',\n",
       " 'long_wind_250mb',\n",
       " 'long_wind_925mb']"
      ]
     },
     "execution_count": 30,
     "metadata": {},
     "output_type": "execute_result"
    }
   ],
   "source": [
    "drivers2"
   ]
  },
  {
   "cell_type": "markdown",
   "id": "69ed212f",
   "metadata": {},
   "source": [
    "## Prep again for modeling with all contest and high coef features"
   ]
  },
  {
   "cell_type": "code",
   "execution_count": 31,
   "id": "bca9b1c1",
   "metadata": {},
   "outputs": [],
   "source": [
    "X_train, y_train, X_validate, y_validate, X_test, y_test = m.prep_for_model(train, validate, test, 'mean_temp', drivers2)"
   ]
  },
  {
   "cell_type": "code",
   "execution_count": 41,
   "id": "0317aaae",
   "metadata": {},
   "outputs": [
    {
     "data": {
      "text/plain": [
       "(229192, 43)"
      ]
     },
     "execution_count": 41,
     "metadata": {},
     "output_type": "execute_result"
    }
   ],
   "source": [
    "X_train.shape"
   ]
  },
  {
   "cell_type": "code",
   "execution_count": 32,
   "id": "905c5082",
   "metadata": {},
   "outputs": [
    {
     "data": {
      "text/html": [
       "<div>\n",
       "<style scoped>\n",
       "    .dataframe tbody tr th:only-of-type {\n",
       "        vertical-align: middle;\n",
       "    }\n",
       "\n",
       "    .dataframe tbody tr th {\n",
       "        vertical-align: top;\n",
       "    }\n",
       "\n",
       "    .dataframe thead th {\n",
       "        text-align: right;\n",
       "    }\n",
       "</style>\n",
       "<table border=\"1\" class=\"dataframe\">\n",
       "  <thead>\n",
       "    <tr style=\"text-align: right;\">\n",
       "      <th></th>\n",
       "      <th>model</th>\n",
       "      <th>RMSE_train</th>\n",
       "      <th>RMSE_validate</th>\n",
       "      <th>RMSE_test</th>\n",
       "    </tr>\n",
       "  </thead>\n",
       "  <tbody>\n",
       "    <tr>\n",
       "      <th>0</th>\n",
       "      <td>Quadratic</td>\n",
       "      <td>1.058332</td>\n",
       "      <td>1.065108</td>\n",
       "      <td>1.055392</td>\n",
       "    </tr>\n",
       "  </tbody>\n",
       "</table>\n",
       "</div>"
      ],
      "text/plain": [
       "       model  RMSE_train  RMSE_validate  RMSE_test\n",
       "0  Quadratic    1.058332       1.065108   1.055392"
      ]
     },
     "execution_count": 32,
     "metadata": {},
     "output_type": "execute_result"
    }
   ],
   "source": [
    "m.best_model(X_train, y_train, X_validate, y_validate, X_test, y_test)"
   ]
  },
  {
   "cell_type": "code",
   "execution_count": 33,
   "id": "b39d2eb7",
   "metadata": {},
   "outputs": [],
   "source": [
    "final_test = pd.read_csv('test_data.csv')"
   ]
  },
  {
   "cell_type": "code",
   "execution_count": 34,
   "id": "f194fd26",
   "metadata": {},
   "outputs": [],
   "source": [
    "final_test = w.prep_data(final_test)"
   ]
  },
  {
   "cell_type": "code",
   "execution_count": 35,
   "id": "630bf7df",
   "metadata": {},
   "outputs": [],
   "source": [
    "final_test = w.rename_data(final_test)"
   ]
  },
  {
   "cell_type": "code",
   "execution_count": 36,
   "id": "d41ecd14",
   "metadata": {},
   "outputs": [],
   "source": [
    "scale_features= list(final_test.select_dtypes(include=np.number).columns)\n",
    "final_test_scaled = final_test.copy()\n",
    "minmax = pre.MinMaxScaler()\n",
    "minmax.fit(final_test[scale_features])\n",
    "\n",
    "final_test_scaled[scale_features] = pd.DataFrame(minmax.transform(final_test[scale_features]),\n",
    "                                              columns=final_test[scale_features].columns.values).set_index([final_test.index.values])"
   ]
  },
  {
   "cell_type": "code",
   "execution_count": 37,
   "id": "be04492f",
   "metadata": {},
   "outputs": [
    {
     "data": {
      "text/plain": [
       "(31354, 245)"
      ]
     },
     "execution_count": 37,
     "metadata": {},
     "output_type": "execute_result"
    }
   ],
   "source": [
    "final_test_scaled.shape"
   ]
  },
  {
   "cell_type": "code",
   "execution_count": 38,
   "id": "f5eb1279",
   "metadata": {},
   "outputs": [],
   "source": [
    "X_test = final_test_scaled[drivers2]"
   ]
  },
  {
   "cell_type": "code",
   "execution_count": 39,
   "id": "28ece949",
   "metadata": {},
   "outputs": [],
   "source": [
    "#make list of cat variables to make dummies for\n",
    "cat_vars = list(X_test.select_dtypes(exclude=np.number).columns)\n",
    "\n",
    "dummy_df_test = pd.get_dummies(X_test[cat_vars], dummy_na=False, drop_first=[True, True])\n",
    "X_test = pd.concat([X_test, dummy_df_test], axis=1).drop(columns=cat_vars)"
   ]
  },
  {
   "cell_type": "code",
   "execution_count": 40,
   "id": "1273aaaa",
   "metadata": {},
   "outputs": [
    {
     "data": {
      "text/plain": [
       "(31354, 43)"
      ]
     },
     "execution_count": 40,
     "metadata": {},
     "output_type": "execute_result"
    }
   ],
   "source": [
    "X_test.shape"
   ]
  },
  {
   "cell_type": "code",
   "execution_count": 42,
   "id": "2c3b772d",
   "metadata": {},
   "outputs": [
    {
     "data": {
      "text/plain": [
       "LinearRegression(normalize=True)"
      ]
     },
     "execution_count": 42,
     "metadata": {},
     "output_type": "execute_result"
    }
   ],
   "source": [
    "pf = PolynomialFeatures(degree=2)\n",
    "# fit and transform X_train_scaled\n",
    "X_train_degree2 = pf.fit_transform(X_train)\n",
    "# transform X_validate_scaled & X_test_scaled\n",
    "X_test_degree2 = pf.transform(X_test)\n",
    "# create the model object\n",
    "lm2 = LinearRegression(normalize=True)\n",
    "lm2.fit(X_train_degree2, y_train)"
   ]
  },
  {
   "cell_type": "code",
   "execution_count": 43,
   "id": "b6f40c3a",
   "metadata": {},
   "outputs": [],
   "source": [
    "predictions = lm2.predict(X_test_degree2)"
   ]
  },
  {
   "cell_type": "code",
   "execution_count": 47,
   "id": "ddaeab25",
   "metadata": {},
   "outputs": [
    {
     "data": {
      "text/plain": [
       "array([ 25.88600743,  25.78191308,  25.81701365, ..., -11.6920391 ,\n",
       "       -12.9145658 , -11.21585552])"
      ]
     },
     "execution_count": 47,
     "metadata": {},
     "output_type": "execute_result"
    }
   ],
   "source": [
    "predictions"
   ]
  },
  {
   "cell_type": "code",
   "execution_count": 48,
   "id": "43af9000",
   "metadata": {},
   "outputs": [],
   "source": [
    "jan_27_3_predictions = pd.DataFrame({'index': final_test['index'], 'contest-tmp2m-14d__tmp2m' : predictions})"
   ]
  },
  {
   "cell_type": "code",
   "execution_count": 49,
   "id": "43dfb854",
   "metadata": {},
   "outputs": [
    {
     "data": {
      "text/html": [
       "<div>\n",
       "<style scoped>\n",
       "    .dataframe tbody tr th:only-of-type {\n",
       "        vertical-align: middle;\n",
       "    }\n",
       "\n",
       "    .dataframe tbody tr th {\n",
       "        vertical-align: top;\n",
       "    }\n",
       "\n",
       "    .dataframe thead th {\n",
       "        text-align: right;\n",
       "    }\n",
       "</style>\n",
       "<table border=\"1\" class=\"dataframe\">\n",
       "  <thead>\n",
       "    <tr style=\"text-align: right;\">\n",
       "      <th></th>\n",
       "      <th>index</th>\n",
       "      <th>contest-tmp2m-14d__tmp2m</th>\n",
       "    </tr>\n",
       "  </thead>\n",
       "  <tbody>\n",
       "    <tr>\n",
       "      <th>0</th>\n",
       "      <td>375734</td>\n",
       "      <td>25.886007</td>\n",
       "    </tr>\n",
       "    <tr>\n",
       "      <th>1</th>\n",
       "      <td>375735</td>\n",
       "      <td>25.781913</td>\n",
       "    </tr>\n",
       "    <tr>\n",
       "      <th>2</th>\n",
       "      <td>375736</td>\n",
       "      <td>25.817014</td>\n",
       "    </tr>\n",
       "    <tr>\n",
       "      <th>3</th>\n",
       "      <td>375737</td>\n",
       "      <td>25.843597</td>\n",
       "    </tr>\n",
       "    <tr>\n",
       "      <th>4</th>\n",
       "      <td>375738</td>\n",
       "      <td>25.929932</td>\n",
       "    </tr>\n",
       "    <tr>\n",
       "      <th>...</th>\n",
       "      <td>...</td>\n",
       "      <td>...</td>\n",
       "    </tr>\n",
       "    <tr>\n",
       "      <th>31349</th>\n",
       "      <td>407083</td>\n",
       "      <td>-9.275610</td>\n",
       "    </tr>\n",
       "    <tr>\n",
       "      <th>31350</th>\n",
       "      <td>407084</td>\n",
       "      <td>-9.659880</td>\n",
       "    </tr>\n",
       "    <tr>\n",
       "      <th>31351</th>\n",
       "      <td>407085</td>\n",
       "      <td>-11.692039</td>\n",
       "    </tr>\n",
       "    <tr>\n",
       "      <th>31352</th>\n",
       "      <td>407086</td>\n",
       "      <td>-12.914566</td>\n",
       "    </tr>\n",
       "    <tr>\n",
       "      <th>31353</th>\n",
       "      <td>407087</td>\n",
       "      <td>-11.215856</td>\n",
       "    </tr>\n",
       "  </tbody>\n",
       "</table>\n",
       "<p>31354 rows × 2 columns</p>\n",
       "</div>"
      ],
      "text/plain": [
       "        index  contest-tmp2m-14d__tmp2m\n",
       "0      375734                 25.886007\n",
       "1      375735                 25.781913\n",
       "2      375736                 25.817014\n",
       "3      375737                 25.843597\n",
       "4      375738                 25.929932\n",
       "...       ...                       ...\n",
       "31349  407083                 -9.275610\n",
       "31350  407084                 -9.659880\n",
       "31351  407085                -11.692039\n",
       "31352  407086                -12.914566\n",
       "31353  407087                -11.215856\n",
       "\n",
       "[31354 rows x 2 columns]"
      ]
     },
     "execution_count": 49,
     "metadata": {},
     "output_type": "execute_result"
    }
   ],
   "source": [
    "jan_27_3_predictions"
   ]
  },
  {
   "cell_type": "code",
   "execution_count": 50,
   "id": "17318b23",
   "metadata": {},
   "outputs": [],
   "source": [
    "jan_27_3_predictions.to_csv('jan_27_3_predictions.csv', index=False)"
   ]
  },
  {
   "cell_type": "code",
   "execution_count": null,
   "id": "2635cea5",
   "metadata": {},
   "outputs": [],
   "source": []
  }
 ],
 "metadata": {
  "kernelspec": {
   "display_name": "Python 3 (ipykernel)",
   "language": "python",
   "name": "python3"
  },
  "language_info": {
   "codemirror_mode": {
    "name": "ipython",
    "version": 3
   },
   "file_extension": ".py",
   "mimetype": "text/x-python",
   "name": "python",
   "nbconvert_exporter": "python",
   "pygments_lexer": "ipython3",
   "version": "3.9.12"
  }
 },
 "nbformat": 4,
 "nbformat_minor": 5
}
