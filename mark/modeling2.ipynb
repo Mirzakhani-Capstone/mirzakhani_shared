{
 "cells": [
  {
   "cell_type": "code",
   "execution_count": 1,
   "id": "a339a820",
   "metadata": {},
   "outputs": [],
   "source": [
    "import pandas as pd\n",
    "import numpy as np\n",
    "\n",
    "import matplotlib.pyplot as plt\n",
    "import seaborn as sns\n",
    "\n",
    "from sklearn.model_selection import train_test_split\n",
    "import sklearn.metrics as metric\n",
    "from sklearn.linear_model import LinearRegression, LassoLars, TweedieRegressor\n",
    "from sklearn.preprocessing import PolynomialFeatures\n",
    "import sklearn.preprocessing as pre\n",
    "\n",
    "import warnings\n",
    "warnings.filterwarnings('ignore')\n",
    "\n",
    "import wrangle1 as w\n",
    "import model as m\n",
    "\n",
    "from importlib import reload"
   ]
  },
  {
   "cell_type": "markdown",
   "id": "6ef0d5a7",
   "metadata": {},
   "source": [
    "## Prepping Data with all features"
   ]
  },
  {
   "cell_type": "code",
   "execution_count": 2,
   "id": "1faeae24",
   "metadata": {},
   "outputs": [],
   "source": [
    "df = w.get_explore_data()"
   ]
  },
  {
   "cell_type": "code",
   "execution_count": 3,
   "id": "9e5559cb",
   "metadata": {},
   "outputs": [],
   "source": [
    "df = w.prep_data(df)"
   ]
  },
  {
   "cell_type": "code",
   "execution_count": 4,
   "id": "44aaf817",
   "metadata": {},
   "outputs": [],
   "source": [
    "df = w.rename_data(df)"
   ]
  },
  {
   "cell_type": "code",
   "execution_count": 5,
   "id": "19f243d0",
   "metadata": {},
   "outputs": [],
   "source": [
    "#df = w.create_elevation_bins(df)"
   ]
  },
  {
   "cell_type": "code",
   "execution_count": 6,
   "id": "5ae03cdb",
   "metadata": {},
   "outputs": [],
   "source": [
    "#dropped nulls because they couldn't go into the model\n",
    "df = df.dropna()"
   ]
  },
  {
   "cell_type": "code",
   "execution_count": 7,
   "id": "4f2d3a75",
   "metadata": {},
   "outputs": [],
   "source": [
    "train, validate, _ = w.split_data(df)"
   ]
  },
  {
   "cell_type": "code",
   "execution_count": 8,
   "id": "b39d2eb7",
   "metadata": {},
   "outputs": [],
   "source": [
    "test = pd.read_csv('test_data.csv')"
   ]
  },
  {
   "cell_type": "code",
   "execution_count": 9,
   "id": "383b476d",
   "metadata": {},
   "outputs": [],
   "source": [
    "test = w.prep_data(test)"
   ]
  },
  {
   "cell_type": "code",
   "execution_count": 10,
   "id": "f13df7e1",
   "metadata": {},
   "outputs": [],
   "source": [
    "test = w.rename_data(test)"
   ]
  },
  {
   "cell_type": "code",
   "execution_count": 11,
   "id": "b9dc7bf5",
   "metadata": {},
   "outputs": [],
   "source": [
    "drivers2 = ['nmme0-tmp2m-34w__cancm40',\n",
    " 'nmme0-tmp2m-34w__gfdlflorb0',\n",
    " 'nmme-tmp2m-56w__nmmemean',\n",
    " 'nmme-prate-34w__nmmemean',\n",
    " 'nmme0-prate-56w__nmme0mean',\n",
    " 'nmme0-prate-34w__nmme0mean',\n",
    " 'sea_level_press',\n",
    " 'nmme-prate-56w__nmmemean',\n",
    " 'nmme-tmp2m-34w__nmmemean',\n",
    " 'nmme0mean',\n",
    " 'wind-hgt-100-2010-1',\n",
    " 'nmme0-tmp2m-34w__nmme0mean',\n",
    " 'nmme-tmp2m-56w__cancm4',\n",
    " 'nmme-tmp2m-56w__ccsm3',\n",
    " 'nmme-tmp2m-56w__ccsm4',\n",
    " 'nmme-tmp2m-56w__cfsv2',\n",
    " 'nmme-tmp2m-56w__gfdlflora',\n",
    " 'nmme-tmp2m-56w__gfdlflorb',\n",
    " 'nmme0-prate-56w__cancm30',\n",
    " 'nmme0-prate-56w__cancm40',\n",
    " 'nmme0-prate-56w__ccsm30',\n",
    " 'nmme0-prate-56w__ccsm40',\n",
    " 'nmme0-prate-56w__cfsv20',\n",
    " 'nmme0-prate-56w__gfdlflora0',\n",
    " 'nmme0-prate-56w__gfdlflorb0',\n",
    " 'nmme0-prate-56w__gfdl0',\n",
    " 'nmme0-prate-56w__nasa0',\n",
    " 'nmme0-prate-34w__cancm30',\n",
    " 'nmme0-prate-34w__cancm40',\n",
    " 'nmme0-prate-34w__ccsm30',\n",
    " 'nmme0-prate-34w__ccsm40',\n",
    " 'nmme0-prate-34w__cfsv20',\n",
    " 'nmme0-prate-34w__gfdlflora0',\n",
    " 'nmme0-prate-34w__gfdlflorb0',\n",
    " 'nmme0-prate-34w__gfdl0',\n",
    " 'nmme0-prate-34w__nasa0',\n",
    " 'nmme-prate-56w__gfdlflorb',\n",
    " 'nmme-tmp2m-34w__cancm3',\n",
    " 'nmme-tmp2m-34w__ccsm3',\n",
    " 'nmme-tmp2m-34w__ccsm4',\n",
    " 'nmme-tmp2m-34w__cfsv2',\n",
    " 'nmme-tmp2m-34w__gfdlflora',\n",
    " 'nmme-tmp2m-34w__gfdlflorb',\n",
    " 'nmme-tmp2m-34w__nasa',\n",
    " 'cancm30',\n",
    " 'cancm40',\n",
    " 'cfsv20',\n",
    " 'gfdlflora0',\n",
    " 'gfdl0',\n",
    " 'nasa0',\n",
    " 'wind-hgt-500-2010-1',\n",
    " 'region',\n",
    " 'elevation',\n",
    " 'lat',\n",
    " 'lon',\n",
    " 'potential_evap',\n",
    " 'precip',\n",
    " 'barometric_pressure',\n",
    " 'all_atmos_precip',\n",
    " 'relative_humidity',\n",
    " 'sea_level_press',\n",
    " 'height_10_mb',\n",
    " 'height_100_mb',\n",
    " 'height_500_mb',\n",
    " 'height_850_mb',\n",
    " 'zonal_wind_250mb',\n",
    " 'zonal_wind_925mb',\n",
    " 'long_wind_250mb',\n",
    " 'long_wind_925mb']"
   ]
  },
  {
   "cell_type": "markdown",
   "id": "69ed212f",
   "metadata": {},
   "source": [
    "## Prep again for modeling with all contest and high coef features"
   ]
  },
  {
   "cell_type": "code",
   "execution_count": 13,
   "id": "45bdedaa",
   "metadata": {},
   "outputs": [
    {
     "data": {
      "text/plain": [
       "<module 'model' from '/Users/fostermark/codeup-data-science/mirzakhani_shared/mark/model.py'>"
      ]
     },
     "execution_count": 13,
     "metadata": {},
     "output_type": "execute_result"
    }
   ],
   "source": [
    "reload(m)"
   ]
  },
  {
   "cell_type": "code",
   "execution_count": 14,
   "id": "bca9b1c1",
   "metadata": {},
   "outputs": [],
   "source": [
    "X_train, y_train, X_validate, y_validate, X_test = m.prep_for_model(train, validate, test, 'mean_temp', drivers2)"
   ]
  },
  {
   "cell_type": "code",
   "execution_count": 15,
   "id": "86b65eba",
   "metadata": {},
   "outputs": [
    {
     "data": {
      "text/html": [
       "<div>\n",
       "<style scoped>\n",
       "    .dataframe tbody tr th:only-of-type {\n",
       "        vertical-align: middle;\n",
       "    }\n",
       "\n",
       "    .dataframe tbody tr th {\n",
       "        vertical-align: top;\n",
       "    }\n",
       "\n",
       "    .dataframe thead th {\n",
       "        text-align: right;\n",
       "    }\n",
       "</style>\n",
       "<table border=\"1\" class=\"dataframe\">\n",
       "  <thead>\n",
       "    <tr style=\"text-align: right;\">\n",
       "      <th></th>\n",
       "      <th>model</th>\n",
       "      <th>RMSE_train</th>\n",
       "      <th>RMSE_validate</th>\n",
       "    </tr>\n",
       "  </thead>\n",
       "  <tbody>\n",
       "    <tr>\n",
       "      <th>0</th>\n",
       "      <td>Quadratic</td>\n",
       "      <td>0.739497</td>\n",
       "      <td>0.753958</td>\n",
       "    </tr>\n",
       "  </tbody>\n",
       "</table>\n",
       "</div>"
      ],
      "text/plain": [
       "       model  RMSE_train  RMSE_validate\n",
       "0  Quadratic    0.739497       0.753958"
      ]
     },
     "execution_count": 15,
     "metadata": {},
     "output_type": "execute_result"
    }
   ],
   "source": [
    "# make the polynomial features to get a new set of features\n",
    "pf = PolynomialFeatures(degree=2)\n",
    "# fit and transform X_train_scaled\n",
    "X_train_degree2 = pf.fit_transform(X_train)\n",
    "# transform X_validate_scaled & X_test_scaled\n",
    "X_validate_degree2 = pf.transform(X_validate)\n",
    "X_test_degree2 = pf.transform(X_test)\n",
    "# create the model object\n",
    "lm2 = LinearRegression(normalize=True)\n",
    "lm2.fit(X_train_degree2, y_train)\n",
    "\n",
    "metric_df = pd.DataFrame(data=[\n",
    "        {\n",
    "            'model': 'Quadratic', \n",
    "            f'RMSE_train': metric.mean_squared_error(\n",
    "                y_train,\n",
    "                lm2.predict(X_train_degree2)) ** .5,\n",
    "            f'RMSE_validate': metric.mean_squared_error(\n",
    "                y_validate,\n",
    "                lm2.predict(X_validate_degree2)) ** .5\n",
    "        }])\n",
    "\n",
    "metric_df"
   ]
  },
  {
   "cell_type": "code",
   "execution_count": 19,
   "id": "905c5082",
   "metadata": {
    "scrolled": true
   },
   "outputs": [
    {
     "data": {
      "text/html": [
       "<div>\n",
       "<style scoped>\n",
       "    .dataframe tbody tr th:only-of-type {\n",
       "        vertical-align: middle;\n",
       "    }\n",
       "\n",
       "    .dataframe tbody tr th {\n",
       "        vertical-align: top;\n",
       "    }\n",
       "\n",
       "    .dataframe thead th {\n",
       "        text-align: right;\n",
       "    }\n",
       "</style>\n",
       "<table border=\"1\" class=\"dataframe\">\n",
       "  <thead>\n",
       "    <tr style=\"text-align: right;\">\n",
       "      <th></th>\n",
       "      <th>model</th>\n",
       "      <th>RMSE_train</th>\n",
       "      <th>RMSE_validate</th>\n",
       "      <th>RMSE_test</th>\n",
       "    </tr>\n",
       "  </thead>\n",
       "  <tbody>\n",
       "    <tr>\n",
       "      <th>0</th>\n",
       "      <td>Quadratic</td>\n",
       "      <td>0.739497</td>\n",
       "      <td>0.753958</td>\n",
       "      <td>0.749123</td>\n",
       "    </tr>\n",
       "  </tbody>\n",
       "</table>\n",
       "</div>"
      ],
      "text/plain": [
       "       model  RMSE_train  RMSE_validate  RMSE_test\n",
       "0  Quadratic    0.739497       0.753958   0.749123"
      ]
     },
     "execution_count": 19,
     "metadata": {},
     "output_type": "execute_result"
    }
   ],
   "source": [
    "#m.best_model(X_train, y_train, X_validate, y_validate, X_test, y_test)"
   ]
  },
  {
   "cell_type": "code",
   "execution_count": 16,
   "id": "7912d8ac",
   "metadata": {},
   "outputs": [],
   "source": [
    "train_pred = lm2.predict(X_train_degree2)"
   ]
  },
  {
   "cell_type": "code",
   "execution_count": 17,
   "id": "1b51fe8d",
   "metadata": {},
   "outputs": [
    {
     "data": {
      "text/plain": [
       "array([23.01771536, 10.85705363, 17.22423696, ...,  4.09293563,\n",
       "        5.62000389,  9.47790119])"
      ]
     },
     "execution_count": 17,
     "metadata": {},
     "output_type": "execute_result"
    }
   ],
   "source": [
    "train_pred"
   ]
  },
  {
   "cell_type": "code",
   "execution_count": 19,
   "id": "b6f40c3a",
   "metadata": {},
   "outputs": [],
   "source": [
    "test_pred = lm2.predict(X_test_degree2)"
   ]
  },
  {
   "cell_type": "code",
   "execution_count": 20,
   "id": "852a6fa4",
   "metadata": {},
   "outputs": [
    {
     "data": {
      "text/plain": [
       "array([29.06642541, 29.15045878, 29.19848625, ...,  2.57065308,\n",
       "        2.5588159 ,  3.58491355])"
      ]
     },
     "execution_count": 20,
     "metadata": {},
     "output_type": "execute_result"
    }
   ],
   "source": [
    "test_pred"
   ]
  },
  {
   "cell_type": "code",
   "execution_count": 24,
   "id": "43af9000",
   "metadata": {},
   "outputs": [],
   "source": [
    "jan_27_4_predictions = pd.DataFrame({'contest-tmp2m-14d__tmp2m' : test_pred, \n",
    "                     'index': test['index']})"
   ]
  },
  {
   "cell_type": "code",
   "execution_count": 25,
   "id": "43dfb854",
   "metadata": {},
   "outputs": [
    {
     "data": {
      "text/html": [
       "<div>\n",
       "<style scoped>\n",
       "    .dataframe tbody tr th:only-of-type {\n",
       "        vertical-align: middle;\n",
       "    }\n",
       "\n",
       "    .dataframe tbody tr th {\n",
       "        vertical-align: top;\n",
       "    }\n",
       "\n",
       "    .dataframe thead th {\n",
       "        text-align: right;\n",
       "    }\n",
       "</style>\n",
       "<table border=\"1\" class=\"dataframe\">\n",
       "  <thead>\n",
       "    <tr style=\"text-align: right;\">\n",
       "      <th></th>\n",
       "      <th>contest-tmp2m-14d__tmp2m</th>\n",
       "      <th>index</th>\n",
       "    </tr>\n",
       "  </thead>\n",
       "  <tbody>\n",
       "    <tr>\n",
       "      <th>0</th>\n",
       "      <td>29.066425</td>\n",
       "      <td>375734</td>\n",
       "    </tr>\n",
       "    <tr>\n",
       "      <th>1</th>\n",
       "      <td>29.150459</td>\n",
       "      <td>375735</td>\n",
       "    </tr>\n",
       "    <tr>\n",
       "      <th>2</th>\n",
       "      <td>29.198486</td>\n",
       "      <td>375736</td>\n",
       "    </tr>\n",
       "    <tr>\n",
       "      <th>3</th>\n",
       "      <td>29.296406</td>\n",
       "      <td>375737</td>\n",
       "    </tr>\n",
       "    <tr>\n",
       "      <th>4</th>\n",
       "      <td>29.420557</td>\n",
       "      <td>375738</td>\n",
       "    </tr>\n",
       "    <tr>\n",
       "      <th>...</th>\n",
       "      <td>...</td>\n",
       "      <td>...</td>\n",
       "    </tr>\n",
       "    <tr>\n",
       "      <th>31349</th>\n",
       "      <td>3.663703</td>\n",
       "      <td>407083</td>\n",
       "    </tr>\n",
       "    <tr>\n",
       "      <th>31350</th>\n",
       "      <td>3.693476</td>\n",
       "      <td>407084</td>\n",
       "    </tr>\n",
       "    <tr>\n",
       "      <th>31351</th>\n",
       "      <td>2.570653</td>\n",
       "      <td>407085</td>\n",
       "    </tr>\n",
       "    <tr>\n",
       "      <th>31352</th>\n",
       "      <td>2.558816</td>\n",
       "      <td>407086</td>\n",
       "    </tr>\n",
       "    <tr>\n",
       "      <th>31353</th>\n",
       "      <td>3.584914</td>\n",
       "      <td>407087</td>\n",
       "    </tr>\n",
       "  </tbody>\n",
       "</table>\n",
       "<p>31354 rows × 2 columns</p>\n",
       "</div>"
      ],
      "text/plain": [
       "       contest-tmp2m-14d__tmp2m   index\n",
       "0                     29.066425  375734\n",
       "1                     29.150459  375735\n",
       "2                     29.198486  375736\n",
       "3                     29.296406  375737\n",
       "4                     29.420557  375738\n",
       "...                         ...     ...\n",
       "31349                  3.663703  407083\n",
       "31350                  3.693476  407084\n",
       "31351                  2.570653  407085\n",
       "31352                  2.558816  407086\n",
       "31353                  3.584914  407087\n",
       "\n",
       "[31354 rows x 2 columns]"
      ]
     },
     "execution_count": 25,
     "metadata": {},
     "output_type": "execute_result"
    }
   ],
   "source": [
    "jan_27_4_predictions"
   ]
  },
  {
   "cell_type": "code",
   "execution_count": 26,
   "id": "17318b23",
   "metadata": {},
   "outputs": [],
   "source": [
    "jan_27_4_predictions.to_csv('jan_27_4_predictions.csv', index=False)"
   ]
  },
  {
   "cell_type": "code",
   "execution_count": null,
   "id": "2635cea5",
   "metadata": {},
   "outputs": [],
   "source": []
  }
 ],
 "metadata": {
  "kernelspec": {
   "display_name": "Python 3 (ipykernel)",
   "language": "python",
   "name": "python3"
  },
  "language_info": {
   "codemirror_mode": {
    "name": "ipython",
    "version": 3
   },
   "file_extension": ".py",
   "mimetype": "text/x-python",
   "name": "python",
   "nbconvert_exporter": "python",
   "pygments_lexer": "ipython3",
   "version": "3.9.12"
  }
 },
 "nbformat": 4,
 "nbformat_minor": 5
}
