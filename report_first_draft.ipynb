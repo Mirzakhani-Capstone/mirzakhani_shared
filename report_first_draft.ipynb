{
 "cells": [
  {
   "cell_type": "markdown",
   "id": "passive-collect",
   "metadata": {},
   "source": [
    "# WiDS 2023 - Codeup Submission\n",
    "## Predict the arithmetic mean of the max and min observed temperature over the next 14 days for specific locations and start dates"
   ]
  },
  {
   "cell_type": "markdown",
   "id": "0dcb1b93",
   "metadata": {},
   "source": [
    "## Project Description\n",
    "Extreme weather events are sweeping the globe and range from heat waves, wildfires and drought to hurricanes, extreme rainfall and flooding. These weather events have multiple impacts on agriculture, energy, transportation, as well as low resource communities and disaster planning in countries across the globe.\n",
    "\n",
    "Accurate long-term forecasts of temperature and precipitation are crucial to help people prepare and adapt to these extreme weather events. Currently, purely physics-based models dominate short-term weather forecasting. But these models have a limited forecast horizon. The availability of meteorological data offers an opportunity for data scientists to improve sub-seasonal forecasts by blending physics-based forecasts with machine learning. Sub-seasonal forecasts for weather and climate conditions (lead-times ranging from 15 to more than 45 days) would help communities and industries adapt to the challenges brought on by climate change.\n",
    "\n",
    "Participants will submit forecasts of temperature and precipitation for one year, competing against the other teams as well as official forecasts from NOAA."
   ]
  },
  {
   "cell_type": "markdown",
   "id": "typical-anime",
   "metadata": {},
   "source": [
    "## Project Goals\n",
    "* Determine which columns to use for our data exploration.\n",
    "* Explore to find features that indicate the ```contest-tmp2m-14d__tmp2m```.\n",
    "* Based on the findings predict the ```contest-tmp2m-14d__tmp2m``` for the test_data.\n",
    "* Submit our finidings to the WiDS 2023 competition."
   ]
  },
  {
   "cell_type": "markdown",
   "id": "recognized-insertion",
   "metadata": {},
   "source": [
    "# Imports"
   ]
  },
  {
   "cell_type": "code",
   "execution_count": 3,
   "id": "following-steam",
   "metadata": {},
   "outputs": [],
   "source": [
    "import pandas as pd\n",
    "import numpy as np\n",
    "\n",
    "import matplotlib.pyplot as plt\n",
    "import seaborn as sns\n",
    "import os\n",
    "\n",
    "from sklearn.model_selection import train_test_split\n",
    "import sklearn.preprocessing\n",
    "from sklearn.tree import DecisionTreeClassifier\n",
    "from sklearn.ensemble import RandomForestClassifier\n",
    "from sklearn.neighbors import KNeighborsClassifier\n",
    "from sklearn.linear_model import LogisticRegression\n",
    "\n",
    "import warnings\n",
    "warnings.filterwarnings(\"ignore\")\n",
    "\n",
    "from scipy import stats\n",
    "import re\n",
    "\n",
    "import wrangle as w\n",
    "#import explore as e\n",
    "#import modeling as m"
   ]
  },
  {
   "cell_type": "markdown",
   "id": "further-swimming",
   "metadata": {},
   "source": [
    "# Acquire\n",
    "\n",
    "* Data acquired from [Kaggle](https://www.kaggle.com/competitions/widsdatathon2023/data)\n",
    "* It contained 375734 rows and 245 columns before cleaning\n",
    "* Each row represents a specific location on a specific start date\n",
    "* Each column represents a weather/climate measurement"
   ]
  },
  {
   "cell_type": "markdown",
   "id": "strategic-steering",
   "metadata": {},
   "source": [
    "# Prepare\n",
    "\n",
    "**Prepare Actions:**\n",
    "* ???\n",
    "* ???\n",
    "* Encoded categorical variables\n",
    "* Split data into train, validate and test (approx. 60/25/15), stratifying on 'upset'\n",
    "* Scaled continuous variable\n",
    "* Outliers have not been removed for this iteration of the project"
   ]
  },
  {
   "cell_type": "markdown",
   "id": "purple-plymouth",
   "metadata": {},
   "source": [
    "## Data dictionary\n",
    "| Feature | Definition | Type |\n",
    "|:--------|:-----------|:-------\n",
    "|**????**| ?????? | *string*|\n",
    "|**?????**| ????? | *float*|\n",
    "|**Target variable**\n",
    "|**contest-tmp2m-14d__tmp2m**| the arithmetic mean of the max and min observed temperature over the next 14 days | *float* |\n"
   ]
  },
  {
   "cell_type": "code",
   "execution_count": 5,
   "id": "pressing-legislation",
   "metadata": {
    "scrolled": false
   },
   "outputs": [],
   "source": [
    "# acquiring data\n",
    "df = w.get_explore_data()\n",
    "\n",
    "# cleaning data\n",
    "df = w.prep_data(df)\n",
    "\n",
    "# splitting data into train, validate, and test\n",
    "train, validate, test = w.split_data(df)"
   ]
  },
  {
   "cell_type": "markdown",
   "id": "tutorial-continuity",
   "metadata": {},
   "source": [
    "## A brief look at the data"
   ]
  },
  {
   "cell_type": "code",
   "execution_count": 6,
   "id": "clear-junior",
   "metadata": {},
   "outputs": [
    {
     "data": {
      "text/html": [
       "<div>\n",
       "<style scoped>\n",
       "    .dataframe tbody tr th:only-of-type {\n",
       "        vertical-align: middle;\n",
       "    }\n",
       "\n",
       "    .dataframe tbody tr th {\n",
       "        vertical-align: top;\n",
       "    }\n",
       "\n",
       "    .dataframe thead th {\n",
       "        text-align: right;\n",
       "    }\n",
       "</style>\n",
       "<table border=\"1\" class=\"dataframe\">\n",
       "  <thead>\n",
       "    <tr style=\"text-align: right;\">\n",
       "      <th></th>\n",
       "      <th>index</th>\n",
       "      <th>lat</th>\n",
       "      <th>lon</th>\n",
       "      <th>startdate</th>\n",
       "      <th>contest-pevpr-sfc-gauss-14d__pevpr</th>\n",
       "      <th>nmme0-tmp2m-34w__cancm30</th>\n",
       "      <th>nmme0-tmp2m-34w__cancm40</th>\n",
       "      <th>nmme0-tmp2m-34w__ccsm30</th>\n",
       "      <th>nmme0-tmp2m-34w__ccsm40</th>\n",
       "      <th>nmme0-tmp2m-34w__cfsv20</th>\n",
       "      <th>...</th>\n",
       "      <th>wind-vwnd-925-2010-11</th>\n",
       "      <th>wind-vwnd-925-2010-12</th>\n",
       "      <th>wind-vwnd-925-2010-13</th>\n",
       "      <th>wind-vwnd-925-2010-14</th>\n",
       "      <th>wind-vwnd-925-2010-15</th>\n",
       "      <th>wind-vwnd-925-2010-16</th>\n",
       "      <th>wind-vwnd-925-2010-17</th>\n",
       "      <th>wind-vwnd-925-2010-18</th>\n",
       "      <th>wind-vwnd-925-2010-19</th>\n",
       "      <th>wind-vwnd-925-2010-20</th>\n",
       "    </tr>\n",
       "  </thead>\n",
       "  <tbody>\n",
       "    <tr>\n",
       "      <th>116277</th>\n",
       "      <td>116277</td>\n",
       "      <td>0.454545</td>\n",
       "      <td>0.300000</td>\n",
       "      <td>2014-10-19</td>\n",
       "      <td>294.86</td>\n",
       "      <td>19.65</td>\n",
       "      <td>18.23</td>\n",
       "      <td>21.06</td>\n",
       "      <td>23.44</td>\n",
       "      <td>21.37</td>\n",
       "      <td>...</td>\n",
       "      <td>-23.44</td>\n",
       "      <td>-75.14</td>\n",
       "      <td>96.83</td>\n",
       "      <td>21.82</td>\n",
       "      <td>-51.37</td>\n",
       "      <td>16.12</td>\n",
       "      <td>-36.95</td>\n",
       "      <td>12.52</td>\n",
       "      <td>35.93</td>\n",
       "      <td>16.26</td>\n",
       "    </tr>\n",
       "    <tr>\n",
       "      <th>237629</th>\n",
       "      <td>237629</td>\n",
       "      <td>0.727273</td>\n",
       "      <td>0.066667</td>\n",
       "      <td>2014-10-25</td>\n",
       "      <td>127.70</td>\n",
       "      <td>10.01</td>\n",
       "      <td>10.90</td>\n",
       "      <td>8.87</td>\n",
       "      <td>9.94</td>\n",
       "      <td>9.49</td>\n",
       "      <td>...</td>\n",
       "      <td>-29.33</td>\n",
       "      <td>-50.80</td>\n",
       "      <td>49.26</td>\n",
       "      <td>22.20</td>\n",
       "      <td>-12.60</td>\n",
       "      <td>4.19</td>\n",
       "      <td>-32.98</td>\n",
       "      <td>30.86</td>\n",
       "      <td>39.48</td>\n",
       "      <td>-7.82</td>\n",
       "    </tr>\n",
       "    <tr>\n",
       "      <th>272599</th>\n",
       "      <td>272599</td>\n",
       "      <td>0.772727</td>\n",
       "      <td>0.700000</td>\n",
       "      <td>2016-06-29</td>\n",
       "      <td>481.48</td>\n",
       "      <td>18.94</td>\n",
       "      <td>25.94</td>\n",
       "      <td>19.66</td>\n",
       "      <td>22.09</td>\n",
       "      <td>18.80</td>\n",
       "      <td>...</td>\n",
       "      <td>-1.99</td>\n",
       "      <td>8.71</td>\n",
       "      <td>-10.39</td>\n",
       "      <td>17.81</td>\n",
       "      <td>-27.76</td>\n",
       "      <td>-61.51</td>\n",
       "      <td>-4.77</td>\n",
       "      <td>30.37</td>\n",
       "      <td>22.88</td>\n",
       "      <td>32.52</td>\n",
       "    </tr>\n",
       "    <tr>\n",
       "      <th>205713</th>\n",
       "      <td>205713</td>\n",
       "      <td>0.636364</td>\n",
       "      <td>0.500000</td>\n",
       "      <td>2015-06-30</td>\n",
       "      <td>453.35</td>\n",
       "      <td>18.86</td>\n",
       "      <td>19.47</td>\n",
       "      <td>19.17</td>\n",
       "      <td>17.37</td>\n",
       "      <td>17.12</td>\n",
       "      <td>...</td>\n",
       "      <td>-25.56</td>\n",
       "      <td>22.00</td>\n",
       "      <td>-47.70</td>\n",
       "      <td>50.22</td>\n",
       "      <td>20.15</td>\n",
       "      <td>7.87</td>\n",
       "      <td>20.50</td>\n",
       "      <td>4.91</td>\n",
       "      <td>11.63</td>\n",
       "      <td>25.57</td>\n",
       "    </tr>\n",
       "    <tr>\n",
       "      <th>120041</th>\n",
       "      <td>120041</td>\n",
       "      <td>0.454545</td>\n",
       "      <td>0.466667</td>\n",
       "      <td>2015-02-05</td>\n",
       "      <td>135.47</td>\n",
       "      <td>-3.56</td>\n",
       "      <td>-2.51</td>\n",
       "      <td>-5.36</td>\n",
       "      <td>-0.17</td>\n",
       "      <td>0.08</td>\n",
       "      <td>...</td>\n",
       "      <td>58.84</td>\n",
       "      <td>-63.19</td>\n",
       "      <td>16.76</td>\n",
       "      <td>-27.97</td>\n",
       "      <td>-14.79</td>\n",
       "      <td>-13.85</td>\n",
       "      <td>-27.72</td>\n",
       "      <td>5.55</td>\n",
       "      <td>-3.12</td>\n",
       "      <td>-25.84</td>\n",
       "    </tr>\n",
       "  </tbody>\n",
       "</table>\n",
       "<p>5 rows × 246 columns</p>\n",
       "</div>"
      ],
      "text/plain": [
       "         index       lat       lon  startdate  \\\n",
       "116277  116277  0.454545  0.300000 2014-10-19   \n",
       "237629  237629  0.727273  0.066667 2014-10-25   \n",
       "272599  272599  0.772727  0.700000 2016-06-29   \n",
       "205713  205713  0.636364  0.500000 2015-06-30   \n",
       "120041  120041  0.454545  0.466667 2015-02-05   \n",
       "\n",
       "        contest-pevpr-sfc-gauss-14d__pevpr  nmme0-tmp2m-34w__cancm30  \\\n",
       "116277                              294.86                     19.65   \n",
       "237629                              127.70                     10.01   \n",
       "272599                              481.48                     18.94   \n",
       "205713                              453.35                     18.86   \n",
       "120041                              135.47                     -3.56   \n",
       "\n",
       "        nmme0-tmp2m-34w__cancm40  nmme0-tmp2m-34w__ccsm30  \\\n",
       "116277                     18.23                    21.06   \n",
       "237629                     10.90                     8.87   \n",
       "272599                     25.94                    19.66   \n",
       "205713                     19.47                    19.17   \n",
       "120041                     -2.51                    -5.36   \n",
       "\n",
       "        nmme0-tmp2m-34w__ccsm40  nmme0-tmp2m-34w__cfsv20  ...  \\\n",
       "116277                    23.44                    21.37  ...   \n",
       "237629                     9.94                     9.49  ...   \n",
       "272599                    22.09                    18.80  ...   \n",
       "205713                    17.37                    17.12  ...   \n",
       "120041                    -0.17                     0.08  ...   \n",
       "\n",
       "        wind-vwnd-925-2010-11  wind-vwnd-925-2010-12  wind-vwnd-925-2010-13  \\\n",
       "116277                 -23.44                 -75.14                  96.83   \n",
       "237629                 -29.33                 -50.80                  49.26   \n",
       "272599                  -1.99                   8.71                 -10.39   \n",
       "205713                 -25.56                  22.00                 -47.70   \n",
       "120041                  58.84                 -63.19                  16.76   \n",
       "\n",
       "        wind-vwnd-925-2010-14  wind-vwnd-925-2010-15  wind-vwnd-925-2010-16  \\\n",
       "116277                  21.82                 -51.37                  16.12   \n",
       "237629                  22.20                 -12.60                   4.19   \n",
       "272599                  17.81                 -27.76                 -61.51   \n",
       "205713                  50.22                  20.15                   7.87   \n",
       "120041                 -27.97                 -14.79                 -13.85   \n",
       "\n",
       "        wind-vwnd-925-2010-17  wind-vwnd-925-2010-18  wind-vwnd-925-2010-19  \\\n",
       "116277                 -36.95                  12.52                  35.93   \n",
       "237629                 -32.98                  30.86                  39.48   \n",
       "272599                  -4.77                  30.37                  22.88   \n",
       "205713                  20.50                   4.91                  11.63   \n",
       "120041                 -27.72                   5.55                  -3.12   \n",
       "\n",
       "        wind-vwnd-925-2010-20  \n",
       "116277                  16.26  \n",
       "237629                  -7.82  \n",
       "272599                  32.52  \n",
       "205713                  25.57  \n",
       "120041                 -25.84  \n",
       "\n",
       "[5 rows x 246 columns]"
      ]
     },
     "execution_count": 6,
     "metadata": {},
     "output_type": "execute_result"
    }
   ],
   "source": [
    "train.head()"
   ]
  },
  {
   "cell_type": "markdown",
   "id": "local-paper",
   "metadata": {},
   "source": [
    "# Explore"
   ]
  },
  {
   "cell_type": "code",
   "execution_count": 8,
   "id": "ce88d797",
   "metadata": {},
   "outputs": [
    {
     "data": {
      "image/png": "[encoded data removed]",
      "text/plain": [
       "<Figure size 1440x576 with 1 Axes>"
      ]
     },
     "metadata": {},
     "output_type": "display_data"
    }
   ],
   "source": [
    "#set font size\n",
    "sns.set(font_scale=1.5)\n",
    "#set graph style\n",
    "sns.set_style('white')\n",
    "\n",
    "fig, ax = plt.subplots(figsize=(20, 8))\n",
    "sns.histplot(data=train, x='contest-tmp2m-14d__tmp2m')\n",
    "plt.xlabel('Target Variable = 14d Temp');"
   ]
  },
  {
   "cell_type": "markdown",
   "id": "considerable-attendance",
   "metadata": {},
   "source": [
    "## Question 1"
   ]
  },
  {
   "cell_type": "code",
   "execution_count": null,
   "id": "06b960b1",
   "metadata": {},
   "outputs": [],
   "source": []
  },
  {
   "cell_type": "markdown",
   "id": "still-industry",
   "metadata": {},
   "source": [
    "# Exploration Summary\n",
    "\n",
    "* ?????\n",
    "\n",
    "# Features I am moving to modeling With\n",
    "| Feature | Reason | \n",
    "|:--------|:-----------|\n",
    "|**????**| $t-test$ results|\n",
    "|**???**| $chi^2$ test results|\n",
    "|**????**| $chi^2$ test results|\n",
    "\n",
    "\n",
    "# Features I'm not moving to modeling with\n",
    "| Feature | Reason | \n",
    "|:--------|:-----------|\n",
    "|**?????**| >>>>>|\n",
    "|**?????**| >>>>>|\n",
    "|**?????**| >>>>>|\n",
    "|**?????**| >>>>>|"
   ]
  },
  {
   "cell_type": "markdown",
   "id": "sonic-halifax",
   "metadata": {},
   "source": [
    "# Modeling\n",
    "* "
   ]
  },
  {
   "cell_type": "code",
   "execution_count": 17,
   "id": "varied-grant",
   "metadata": {},
   "outputs": [],
   "source": [
    "# prep data for modeling\n",
    "train_X, validate_X, test_X, train_y, validate_y, test_y = m.model_prep(train,validate,test)"
   ]
  },
  {
   "cell_type": "markdown",
   "id": "ruled-denmark",
   "metadata": {},
   "source": [
    "# Comparing Models\n",
    "\n",
    "* ????"
   ]
  },
  {
   "cell_type": "markdown",
   "id": "vocal-screen",
   "metadata": {},
   "source": [
    "## Best Model on Test"
   ]
  },
  {
   "cell_type": "code",
   "execution_count": null,
   "id": "3614f4f6",
   "metadata": {},
   "outputs": [],
   "source": []
  },
  {
   "cell_type": "markdown",
   "id": "ideal-wallace",
   "metadata": {},
   "source": [
    "### Modeling Summary\n",
    "\n",
    "* ?????"
   ]
  },
  {
   "cell_type": "markdown",
   "id": "random-initial",
   "metadata": {},
   "source": [
    "# Conclusions\n",
    "\n",
    "### Exploration\n",
    "\n",
    "* ????"
   ]
  },
  {
   "cell_type": "markdown",
   "id": "romantic-oriental",
   "metadata": {},
   "source": [
    "### Modeling\n",
    "\n",
    "* ????\n",
    "\n",
    "### Recommendations\n",
    "\n",
    "* ?????\n",
    "\n",
    "### Next Steps\n",
    "* ?????"
   ]
  },
  {
   "cell_type": "code",
   "execution_count": null,
   "id": "ec7e1b20",
   "metadata": {},
   "outputs": [],
   "source": []
  }
 ],
 "metadata": {
  "kernelspec": {
   "display_name": "Python 3 (ipykernel)",
   "language": "python",
   "name": "python3"
  },
  "language_info": {
   "codemirror_mode": {
    "name": "ipython",
    "version": 3
   },
   "file_extension": ".py",
   "mimetype": "text/x-python",
   "name": "python",
   "nbconvert_exporter": "python",
   "pygments_lexer": "ipython3",
   "version": "3.9.12"
  }
 },
 "nbformat": 4,
 "nbformat_minor": 5
}
